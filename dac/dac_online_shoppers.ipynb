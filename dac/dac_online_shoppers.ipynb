{
 "cells": [
  {
   "cell_type": "code",
   "execution_count": 202,
   "id": "imposed-routine",
   "metadata": {},
   "outputs": [],
   "source": [
    "import pandas as pd\n",
    "from pandas.plotting import scatter_matrix\n",
    "import matplotlib.pyplot as plt\n",
    "import seaborn as sns\n",
    "import numpy as np\n",
    "\n",
    "from sklearn.pipeline import Pipeline\n",
    "from sklearn.preprocessing import StandardScaler\n",
    "from sklearn.preprocessing import OneHotEncoder\n",
    "from sklearn.compose import ColumnTransformer\n",
    "from sklearn.model_selection import train_test_split\n",
    "\n",
    "from sklearn.linear_model import LogisticRegression\n",
    "from statsmodels.stats.outliers_influence import variance_inflation_factor\n",
    "from scipy.stats.stats import pearsonr\n",
    "from scipy.stats import norm\n",
    "\n",
    "from sklearn.ensemble import RandomForestClassifier\n",
    "from sklearn.ensemble import AdaBoostClassifier\n",
    "from sklearn.model_selection import GridSearchCV\n",
    "from sklearn.model_selection import cross_validate\n",
    "\n",
    "from sklearn.metrics import classification_report, confusion_matrix, accuracy_score\n",
    "from sklearn.metrics import roc_auc_score\n",
    "from sklearn.metrics import f1_score\n",
    "from sklearn.metrics import precision_score"
   ]
  },
  {
   "cell_type": "code",
   "execution_count": 38,
   "id": "conceptual-shell",
   "metadata": {},
   "outputs": [],
   "source": [
    "full_data = pd.read_csv(\"data/online_shoppers_intention.csv\")\n",
    "cols = list(full_data.columns)"
   ]
  },
  {
   "cell_type": "code",
   "execution_count": 39,
   "id": "technical-portugal",
   "metadata": {},
   "outputs": [
    {
     "data": {
      "text/html": [
       "<div>\n",
       "<style scoped>\n",
       "    .dataframe tbody tr th:only-of-type {\n",
       "        vertical-align: middle;\n",
       "    }\n",
       "\n",
       "    .dataframe tbody tr th {\n",
       "        vertical-align: top;\n",
       "    }\n",
       "\n",
       "    .dataframe thead th {\n",
       "        text-align: right;\n",
       "    }\n",
       "</style>\n",
       "<table border=\"1\" class=\"dataframe\">\n",
       "  <thead>\n",
       "    <tr style=\"text-align: right;\">\n",
       "      <th></th>\n",
       "      <th>Administrative</th>\n",
       "      <th>Administrative_Duration</th>\n",
       "      <th>Informational</th>\n",
       "      <th>Informational_Duration</th>\n",
       "      <th>ProductRelated</th>\n",
       "      <th>ProductRelated_Duration</th>\n",
       "      <th>BounceRates</th>\n",
       "      <th>ExitRates</th>\n",
       "      <th>PageValues</th>\n",
       "      <th>SpecialDay</th>\n",
       "      <th>Month</th>\n",
       "      <th>OperatingSystems</th>\n",
       "      <th>Browser</th>\n",
       "      <th>Region</th>\n",
       "      <th>TrafficType</th>\n",
       "      <th>VisitorType</th>\n",
       "      <th>Weekend</th>\n",
       "      <th>Revenue</th>\n",
       "    </tr>\n",
       "  </thead>\n",
       "  <tbody>\n",
       "    <tr>\n",
       "      <th>0</th>\n",
       "      <td>0</td>\n",
       "      <td>0.0</td>\n",
       "      <td>0</td>\n",
       "      <td>0.0</td>\n",
       "      <td>1</td>\n",
       "      <td>0.000000</td>\n",
       "      <td>0.20</td>\n",
       "      <td>0.20</td>\n",
       "      <td>0.0</td>\n",
       "      <td>0.0</td>\n",
       "      <td>Feb</td>\n",
       "      <td>1</td>\n",
       "      <td>1</td>\n",
       "      <td>1</td>\n",
       "      <td>1</td>\n",
       "      <td>Returning_Visitor</td>\n",
       "      <td>False</td>\n",
       "      <td>False</td>\n",
       "    </tr>\n",
       "    <tr>\n",
       "      <th>1</th>\n",
       "      <td>0</td>\n",
       "      <td>0.0</td>\n",
       "      <td>0</td>\n",
       "      <td>0.0</td>\n",
       "      <td>2</td>\n",
       "      <td>64.000000</td>\n",
       "      <td>0.00</td>\n",
       "      <td>0.10</td>\n",
       "      <td>0.0</td>\n",
       "      <td>0.0</td>\n",
       "      <td>Feb</td>\n",
       "      <td>2</td>\n",
       "      <td>2</td>\n",
       "      <td>1</td>\n",
       "      <td>2</td>\n",
       "      <td>Returning_Visitor</td>\n",
       "      <td>False</td>\n",
       "      <td>False</td>\n",
       "    </tr>\n",
       "    <tr>\n",
       "      <th>2</th>\n",
       "      <td>0</td>\n",
       "      <td>0.0</td>\n",
       "      <td>0</td>\n",
       "      <td>0.0</td>\n",
       "      <td>1</td>\n",
       "      <td>0.000000</td>\n",
       "      <td>0.20</td>\n",
       "      <td>0.20</td>\n",
       "      <td>0.0</td>\n",
       "      <td>0.0</td>\n",
       "      <td>Feb</td>\n",
       "      <td>4</td>\n",
       "      <td>1</td>\n",
       "      <td>9</td>\n",
       "      <td>3</td>\n",
       "      <td>Returning_Visitor</td>\n",
       "      <td>False</td>\n",
       "      <td>False</td>\n",
       "    </tr>\n",
       "    <tr>\n",
       "      <th>3</th>\n",
       "      <td>0</td>\n",
       "      <td>0.0</td>\n",
       "      <td>0</td>\n",
       "      <td>0.0</td>\n",
       "      <td>2</td>\n",
       "      <td>2.666667</td>\n",
       "      <td>0.05</td>\n",
       "      <td>0.14</td>\n",
       "      <td>0.0</td>\n",
       "      <td>0.0</td>\n",
       "      <td>Feb</td>\n",
       "      <td>3</td>\n",
       "      <td>2</td>\n",
       "      <td>2</td>\n",
       "      <td>4</td>\n",
       "      <td>Returning_Visitor</td>\n",
       "      <td>False</td>\n",
       "      <td>False</td>\n",
       "    </tr>\n",
       "    <tr>\n",
       "      <th>4</th>\n",
       "      <td>0</td>\n",
       "      <td>0.0</td>\n",
       "      <td>0</td>\n",
       "      <td>0.0</td>\n",
       "      <td>10</td>\n",
       "      <td>627.500000</td>\n",
       "      <td>0.02</td>\n",
       "      <td>0.05</td>\n",
       "      <td>0.0</td>\n",
       "      <td>0.0</td>\n",
       "      <td>Feb</td>\n",
       "      <td>3</td>\n",
       "      <td>3</td>\n",
       "      <td>1</td>\n",
       "      <td>4</td>\n",
       "      <td>Returning_Visitor</td>\n",
       "      <td>True</td>\n",
       "      <td>False</td>\n",
       "    </tr>\n",
       "  </tbody>\n",
       "</table>\n",
       "</div>"
      ],
      "text/plain": [
       "   Administrative  Administrative_Duration  Informational  \\\n",
       "0               0                      0.0              0   \n",
       "1               0                      0.0              0   \n",
       "2               0                      0.0              0   \n",
       "3               0                      0.0              0   \n",
       "4               0                      0.0              0   \n",
       "\n",
       "   Informational_Duration  ProductRelated  ProductRelated_Duration  \\\n",
       "0                     0.0               1                 0.000000   \n",
       "1                     0.0               2                64.000000   \n",
       "2                     0.0               1                 0.000000   \n",
       "3                     0.0               2                 2.666667   \n",
       "4                     0.0              10               627.500000   \n",
       "\n",
       "   BounceRates  ExitRates  PageValues  SpecialDay Month  OperatingSystems  \\\n",
       "0         0.20       0.20         0.0         0.0   Feb                 1   \n",
       "1         0.00       0.10         0.0         0.0   Feb                 2   \n",
       "2         0.20       0.20         0.0         0.0   Feb                 4   \n",
       "3         0.05       0.14         0.0         0.0   Feb                 3   \n",
       "4         0.02       0.05         0.0         0.0   Feb                 3   \n",
       "\n",
       "   Browser  Region  TrafficType        VisitorType  Weekend  Revenue  \n",
       "0        1       1            1  Returning_Visitor    False    False  \n",
       "1        2       1            2  Returning_Visitor    False    False  \n",
       "2        1       9            3  Returning_Visitor    False    False  \n",
       "3        2       2            4  Returning_Visitor    False    False  \n",
       "4        3       1            4  Returning_Visitor     True    False  "
      ]
     },
     "execution_count": 39,
     "metadata": {},
     "output_type": "execute_result"
    }
   ],
   "source": [
    "full_data.head()"
   ]
  },
  {
   "cell_type": "code",
   "execution_count": 40,
   "id": "fourth-study",
   "metadata": {},
   "outputs": [
    {
     "name": "stdout",
     "output_type": "stream",
     "text": [
      "<class 'pandas.core.frame.DataFrame'>\n",
      "RangeIndex: 12330 entries, 0 to 12329\n",
      "Data columns (total 18 columns):\n",
      " #   Column                   Non-Null Count  Dtype  \n",
      "---  ------                   --------------  -----  \n",
      " 0   Administrative           12330 non-null  int64  \n",
      " 1   Administrative_Duration  12330 non-null  float64\n",
      " 2   Informational            12330 non-null  int64  \n",
      " 3   Informational_Duration   12330 non-null  float64\n",
      " 4   ProductRelated           12330 non-null  int64  \n",
      " 5   ProductRelated_Duration  12330 non-null  float64\n",
      " 6   BounceRates              12330 non-null  float64\n",
      " 7   ExitRates                12330 non-null  float64\n",
      " 8   PageValues               12330 non-null  float64\n",
      " 9   SpecialDay               12330 non-null  float64\n",
      " 10  Month                    12330 non-null  object \n",
      " 11  OperatingSystems         12330 non-null  int64  \n",
      " 12  Browser                  12330 non-null  int64  \n",
      " 13  Region                   12330 non-null  int64  \n",
      " 14  TrafficType              12330 non-null  int64  \n",
      " 15  VisitorType              12330 non-null  object \n",
      " 16  Weekend                  12330 non-null  bool   \n",
      " 17  Revenue                  12330 non-null  bool   \n",
      "dtypes: bool(2), float64(7), int64(7), object(2)\n",
      "memory usage: 1.5+ MB\n"
     ]
    }
   ],
   "source": [
    "full_data.info()"
   ]
  },
  {
   "cell_type": "markdown",
   "id": "lightweight-pacific",
   "metadata": {},
   "source": [
    "## Data Preprocessing"
   ]
  },
  {
   "cell_type": "markdown",
   "id": "temporal-handle",
   "metadata": {},
   "source": [
    "### Feature Transformation"
   ]
  },
  {
   "cell_type": "code",
   "execution_count": 53,
   "id": "outer-vampire",
   "metadata": {},
   "outputs": [],
   "source": [
    "data = full_data.copy()\n",
    "booleanDic = {True:1, False:0}\n",
    "\n",
    "data[\"Weekend\"] = data[\"Weekend\"].map(booleanDic)\n",
    "data[\"Revenue\"] = data[\"Revenue\"].map(booleanDic)\n",
    "\n",
    "X = data.copy().drop(\"Revenue\",axis=1).to_numpy()\n",
    "y = data[\"Revenue\"].to_numpy()"
   ]
  },
  {
   "cell_type": "code",
   "execution_count": 44,
   "id": "minute-folder",
   "metadata": {},
   "outputs": [],
   "source": [
    "num_cols = cols[:10]\n",
    "cat_cols = cols[10:]\n",
    "cat_cols.remove('Month')\n",
    "cat_cols.remove('VisitorType')\n",
    "ohe_cols = [\"Month\",\"VisitorType\"]"
   ]
  },
  {
   "cell_type": "code",
   "execution_count": 47,
   "id": "indian-conference",
   "metadata": {},
   "outputs": [],
   "source": [
    "num_pipeline = Pipeline([\n",
    "        ('standard_scaler', StandardScaler())\n",
    "    ])\n",
    "\n",
    "full_pipeline = ColumnTransformer([\n",
    "    (\"num\", num_pipeline, num_cols),\n",
    "    (\"cat\", OneHotEncoder(), ohe_cols)\n",
    "],remainder=\"passthrough\")"
   ]
  },
  {
   "cell_type": "code",
   "execution_count": 92,
   "id": "photographic-width",
   "metadata": {},
   "outputs": [],
   "source": [
    "data_prepared = full_pipeline.fit_transform(data)"
   ]
  },
  {
   "cell_type": "code",
   "execution_count": 93,
   "id": "powerful-comparison",
   "metadata": {},
   "outputs": [],
   "source": [
    "encoded_cols = list(full_pipeline.transformers_[1][1].get_feature_names(ohe_cols))"
   ]
  },
  {
   "cell_type": "code",
   "execution_count": 107,
   "id": "complimentary-sensitivity",
   "metadata": {},
   "outputs": [],
   "source": [
    "columns = num_cols+encoded_cols+cat_cols\n",
    "dropfirst = [\"Month_Aug\",\"VisitorType_New_Visitor\"]"
   ]
  },
  {
   "cell_type": "code",
   "execution_count": 108,
   "id": "hydraulic-trading",
   "metadata": {},
   "outputs": [],
   "source": [
    "dataDF = pd.DataFrame(data_prepared, columns=columns).reset_index(drop=True)\n",
    "dataDF = dataDF.copy().drop(columns=dropfirst)"
   ]
  },
  {
   "cell_type": "code",
   "execution_count": 111,
   "id": "stock-information",
   "metadata": {},
   "outputs": [],
   "source": [
    "X = dataDF.copy().drop(\"Revenue\",axis=1).to_numpy()\n",
    "y = dataDF[\"Revenue\"].to_numpy()\n",
    "\n",
    "columns = list(dataDF.columns)\n",
    "columns.remove(\"Revenue\")"
   ]
  },
  {
   "cell_type": "markdown",
   "id": "quality-spectacular",
   "metadata": {},
   "source": [
    "### SMOTE"
   ]
  },
  {
   "cell_type": "code",
   "execution_count": 112,
   "id": "accepted-messenger",
   "metadata": {},
   "outputs": [],
   "source": [
    "from imblearn.over_sampling import SMOTE\n",
    "from imblearn.under_sampling import RandomUnderSampler\n",
    "from imblearn.pipeline import Pipeline as ImPipeline\n",
    "# https://machinelearningmastery.com/smote-oversampling-for-imbalanced-classification/"
   ]
  },
  {
   "cell_type": "code",
   "execution_count": 113,
   "id": "activated-cleanup",
   "metadata": {},
   "outputs": [],
   "source": [
    "from collections import Counter"
   ]
  },
  {
   "cell_type": "code",
   "execution_count": 114,
   "id": "played-stopping",
   "metadata": {},
   "outputs": [
    {
     "name": "stdout",
     "output_type": "stream",
     "text": [
      "Counter({0.0: 10422, 1.0: 10422})\n"
     ]
    }
   ],
   "source": [
    "oversample = SMOTE()\n",
    "y=y.astype('float')\n",
    "X1,y1 = oversample.fit_resample(X,y)\n",
    "counter = Counter(y1)\n",
    "print(counter)\n",
    "\n",
    "X1 = pd.DataFrame(X1,columns=columns).reset_index(drop=True)\n",
    "X1[\"Revenue\"] = y1"
   ]
  },
  {
   "cell_type": "markdown",
   "id": "lucky-greece",
   "metadata": {},
   "source": [
    "#### SMOTE with Undersampling"
   ]
  },
  {
   "cell_type": "code",
   "execution_count": 115,
   "id": "unknown-special",
   "metadata": {},
   "outputs": [
    {
     "name": "stdout",
     "output_type": "stream",
     "text": [
      "Counter({0.0: 6252, 1.0: 3126})\n"
     ]
    }
   ],
   "source": [
    "over = SMOTE(sampling_strategy=0.30)\n",
    "under = RandomUnderSampler(sampling_strategy=0.5)\n",
    "\n",
    "steps = [('o', over), ('u', under)]\n",
    "pipeline = ImPipeline(steps=steps)\n",
    "\n",
    "X2, y2 = pipeline.fit_resample(X, y)\n",
    "print(Counter(y2))\n",
    "\n",
    "X2 = pd.DataFrame(X2,columns=columns).reset_index(drop=True)\n",
    "X2[\"Revenue\"] = y2"
   ]
  },
  {
   "cell_type": "markdown",
   "id": "resident-specialist",
   "metadata": {},
   "source": [
    "### Splitting into Train, Test"
   ]
  },
  {
   "cell_type": "code",
   "execution_count": 116,
   "id": "available-anime",
   "metadata": {},
   "outputs": [],
   "source": [
    "train_set, test_set = train_test_split(dataDF, test_size=0.2, random_state=28)\n",
    "\n",
    "train_y = train_set[\"Revenue\"].to_numpy().astype('float')\n",
    "train_set = train_set.drop(\"Revenue\",axis=1)\n",
    "#train_prepared = full_pipeline.fit_transform(train_set)\n",
    "\n",
    "test_y = test_set[\"Revenue\"].to_numpy()\n",
    "test_set = test_set.drop(\"Revenue\",axis=1).astype('float')\n",
    "#test_prepared = full_pipeline.fit_transform(test_set)\n",
    "\n",
    "train_X = pd.DataFrame(train_set, columns=columns).reset_index(drop=True)\n",
    "#train_X = train_prepared.copy()\n",
    "test_X = pd.DataFrame(test_set, columns=columns).reset_index(drop=True)\n",
    "#test_X = test_prepared.copy()"
   ]
  },
  {
   "cell_type": "code",
   "execution_count": 117,
   "id": "ruled-leave",
   "metadata": {},
   "outputs": [],
   "source": [
    "train_set, test_set = train_test_split(X1, test_size=0.2, random_state=28)\n",
    "\n",
    "train_y1 = train_set[\"Revenue\"].to_numpy().astype('float')\n",
    "train_set = train_set.drop(\"Revenue\",axis=1)\n",
    "\n",
    "test_y1 = test_set[\"Revenue\"].to_numpy()\n",
    "test_set = test_set.drop(\"Revenue\",axis=1).astype('float')\n",
    "\n",
    "train_X1 = pd.DataFrame(train_set, columns=columns).reset_index(drop=True)\n",
    "test_X1 = pd.DataFrame(test_set, columns=columns).reset_index(drop=True)"
   ]
  },
  {
   "cell_type": "code",
   "execution_count": 118,
   "id": "satellite-reception",
   "metadata": {},
   "outputs": [],
   "source": [
    "train_set, test_set = train_test_split(X2, test_size=0.2, random_state=28)\n",
    "\n",
    "train_y2 = train_set[\"Revenue\"].to_numpy().astype('float')\n",
    "train_set = train_set.drop(\"Revenue\",axis=1)\n",
    "\n",
    "test_y2 = test_set[\"Revenue\"].to_numpy()\n",
    "test_set = test_set.drop(\"Revenue\",axis=1).astype('float')\n",
    "\n",
    "train_X2 = pd.DataFrame(train_set, columns=columns).reset_index(drop=True)\n",
    "test_X2= pd.DataFrame(test_set, columns=columns).reset_index(drop=True)"
   ]
  },
  {
   "cell_type": "markdown",
   "id": "compound-pickup",
   "metadata": {},
   "source": [
    "## Logistic Regression"
   ]
  },
  {
   "cell_type": "code",
   "execution_count": 119,
   "id": "western-filing",
   "metadata": {},
   "outputs": [
    {
     "data": {
      "text/plain": [
       "LogisticRegression(max_iter=1000, penalty='none')"
      ]
     },
     "execution_count": 119,
     "metadata": {},
     "output_type": "execute_result"
    }
   ],
   "source": [
    "LR_model = LogisticRegression(penalty='none',max_iter=1000)\n",
    "LR_model.fit(train_X,train_y)"
   ]
  },
  {
   "cell_type": "code",
   "execution_count": 120,
   "id": "banner-preserve",
   "metadata": {},
   "outputs": [],
   "source": [
    "vif_data = pd.DataFrame()\n",
    "vif_data[\"feature\"] = train_X.columns\n",
    "vif_data[\"VIF\"] = [variance_inflation_factor(train_X.values,i) for i in range(len(train_X.columns))]"
   ]
  },
  {
   "cell_type": "code",
   "execution_count": 121,
   "id": "alternate-session",
   "metadata": {
    "scrolled": true
   },
   "outputs": [
    {
     "data": {
      "text/html": [
       "<div>\n",
       "<style scoped>\n",
       "    .dataframe tbody tr th:only-of-type {\n",
       "        vertical-align: middle;\n",
       "    }\n",
       "\n",
       "    .dataframe tbody tr th {\n",
       "        vertical-align: top;\n",
       "    }\n",
       "\n",
       "    .dataframe thead th {\n",
       "        text-align: right;\n",
       "    }\n",
       "</style>\n",
       "<table border=\"1\" class=\"dataframe\">\n",
       "  <thead>\n",
       "    <tr style=\"text-align: right;\">\n",
       "      <th></th>\n",
       "      <th>feature</th>\n",
       "      <th>VIF</th>\n",
       "    </tr>\n",
       "  </thead>\n",
       "  <tbody>\n",
       "    <tr>\n",
       "      <th>0</th>\n",
       "      <td>Administrative</td>\n",
       "      <td>1.944276</td>\n",
       "    </tr>\n",
       "    <tr>\n",
       "      <th>1</th>\n",
       "      <td>Administrative_Duration</td>\n",
       "      <td>1.709029</td>\n",
       "    </tr>\n",
       "    <tr>\n",
       "      <th>2</th>\n",
       "      <td>Informational</td>\n",
       "      <td>1.868847</td>\n",
       "    </tr>\n",
       "    <tr>\n",
       "      <th>3</th>\n",
       "      <td>Informational_Duration</td>\n",
       "      <td>1.748690</td>\n",
       "    </tr>\n",
       "    <tr>\n",
       "      <th>4</th>\n",
       "      <td>ProductRelated</td>\n",
       "      <td>4.533811</td>\n",
       "    </tr>\n",
       "    <tr>\n",
       "      <th>5</th>\n",
       "      <td>ProductRelated_Duration</td>\n",
       "      <td>4.424628</td>\n",
       "    </tr>\n",
       "    <tr>\n",
       "      <th>6</th>\n",
       "      <td>BounceRates</td>\n",
       "      <td>6.468400</td>\n",
       "    </tr>\n",
       "    <tr>\n",
       "      <th>7</th>\n",
       "      <td>ExitRates</td>\n",
       "      <td>7.203787</td>\n",
       "    </tr>\n",
       "    <tr>\n",
       "      <th>8</th>\n",
       "      <td>PageValues</td>\n",
       "      <td>1.060139</td>\n",
       "    </tr>\n",
       "    <tr>\n",
       "      <th>9</th>\n",
       "      <td>SpecialDay</td>\n",
       "      <td>1.327594</td>\n",
       "    </tr>\n",
       "    <tr>\n",
       "      <th>10</th>\n",
       "      <td>Month_Dec</td>\n",
       "      <td>2.483523</td>\n",
       "    </tr>\n",
       "    <tr>\n",
       "      <th>11</th>\n",
       "      <td>Month_Feb</td>\n",
       "      <td>1.176457</td>\n",
       "    </tr>\n",
       "    <tr>\n",
       "      <th>12</th>\n",
       "      <td>Month_Jul</td>\n",
       "      <td>1.396875</td>\n",
       "    </tr>\n",
       "    <tr>\n",
       "      <th>13</th>\n",
       "      <td>Month_June</td>\n",
       "      <td>1.245219</td>\n",
       "    </tr>\n",
       "    <tr>\n",
       "      <th>14</th>\n",
       "      <td>Month_Mar</td>\n",
       "      <td>2.664692</td>\n",
       "    </tr>\n",
       "    <tr>\n",
       "      <th>15</th>\n",
       "      <td>Month_May</td>\n",
       "      <td>4.303647</td>\n",
       "    </tr>\n",
       "    <tr>\n",
       "      <th>16</th>\n",
       "      <td>Month_Nov</td>\n",
       "      <td>3.564796</td>\n",
       "    </tr>\n",
       "    <tr>\n",
       "      <th>17</th>\n",
       "      <td>Month_Oct</td>\n",
       "      <td>1.482643</td>\n",
       "    </tr>\n",
       "    <tr>\n",
       "      <th>18</th>\n",
       "      <td>Month_Sep</td>\n",
       "      <td>1.377776</td>\n",
       "    </tr>\n",
       "    <tr>\n",
       "      <th>19</th>\n",
       "      <td>VisitorType_Other</td>\n",
       "      <td>1.342485</td>\n",
       "    </tr>\n",
       "    <tr>\n",
       "      <th>20</th>\n",
       "      <td>VisitorType_Returning_Visitor</td>\n",
       "      <td>6.847531</td>\n",
       "    </tr>\n",
       "    <tr>\n",
       "      <th>21</th>\n",
       "      <td>OperatingSystems</td>\n",
       "      <td>6.925197</td>\n",
       "    </tr>\n",
       "    <tr>\n",
       "      <th>22</th>\n",
       "      <td>Browser</td>\n",
       "      <td>3.236326</td>\n",
       "    </tr>\n",
       "    <tr>\n",
       "      <th>23</th>\n",
       "      <td>Region</td>\n",
       "      <td>2.718070</td>\n",
       "    </tr>\n",
       "    <tr>\n",
       "      <th>24</th>\n",
       "      <td>TrafficType</td>\n",
       "      <td>2.194862</td>\n",
       "    </tr>\n",
       "    <tr>\n",
       "      <th>25</th>\n",
       "      <td>Weekend</td>\n",
       "      <td>1.320096</td>\n",
       "    </tr>\n",
       "  </tbody>\n",
       "</table>\n",
       "</div>"
      ],
      "text/plain": [
       "                          feature       VIF\n",
       "0                  Administrative  1.944276\n",
       "1         Administrative_Duration  1.709029\n",
       "2                   Informational  1.868847\n",
       "3          Informational_Duration  1.748690\n",
       "4                  ProductRelated  4.533811\n",
       "5         ProductRelated_Duration  4.424628\n",
       "6                     BounceRates  6.468400\n",
       "7                       ExitRates  7.203787\n",
       "8                      PageValues  1.060139\n",
       "9                      SpecialDay  1.327594\n",
       "10                      Month_Dec  2.483523\n",
       "11                      Month_Feb  1.176457\n",
       "12                      Month_Jul  1.396875\n",
       "13                     Month_June  1.245219\n",
       "14                      Month_Mar  2.664692\n",
       "15                      Month_May  4.303647\n",
       "16                      Month_Nov  3.564796\n",
       "17                      Month_Oct  1.482643\n",
       "18                      Month_Sep  1.377776\n",
       "19              VisitorType_Other  1.342485\n",
       "20  VisitorType_Returning_Visitor  6.847531\n",
       "21               OperatingSystems  6.925197\n",
       "22                        Browser  3.236326\n",
       "23                         Region  2.718070\n",
       "24                    TrafficType  2.194862\n",
       "25                        Weekend  1.320096"
      ]
     },
     "execution_count": 121,
     "metadata": {},
     "output_type": "execute_result"
    }
   ],
   "source": [
    "vif_data"
   ]
  },
  {
   "cell_type": "code",
   "execution_count": 122,
   "id": "affecting-diesel",
   "metadata": {},
   "outputs": [],
   "source": [
    "def cross_validate_scores(model,X,y,scoring=['accuracy','precision','f1','roc_auc'],cv=5):\n",
    "    cv_results = cross_validate(model,X,y,scoring=scoring,cv=cv)\n",
    "    print(\"%s\\n-------------------\" % str(model))\n",
    "    for metric in cv_results:\n",
    "        print(\"%s: %f\" % (metric, np.mean(cv_results[metric])))"
   ]
  },
  {
   "cell_type": "code",
   "execution_count": 123,
   "id": "hungry-starter",
   "metadata": {},
   "outputs": [
    {
     "name": "stdout",
     "output_type": "stream",
     "text": [
      "LogisticRegression(max_iter=1000, penalty='none')\n",
      "-------------------\n",
      "fit_time: 0.529247\n",
      "score_time: 0.018958\n",
      "test_accuracy: 0.884936\n",
      "test_precision: 0.755229\n",
      "test_f1: 0.516060\n",
      "test_roc_auc: 0.893884\n"
     ]
    }
   ],
   "source": [
    "cross_validate_scores(LR_model, train_X, train_y)"
   ]
  },
  {
   "cell_type": "code",
   "execution_count": 124,
   "id": "polar-mathematics",
   "metadata": {},
   "outputs": [
    {
     "name": "stdout",
     "output_type": "stream",
     "text": [
      "accuracy:  0.8868613138686131\n",
      "precision:  0.723404255319149\n",
      "f1:  0.49364791288566245\n",
      "ROC-AUC:  0.6749645331541324\n"
     ]
    }
   ],
   "source": [
    "pred = LR_model.predict(test_X)\n",
    "\n",
    "accuracy=accuracy_score(test_y, pred)\n",
    "precision=precision_score(test_y, pred)\n",
    "f1=f1_score(test_y, pred)\n",
    "roc = roc_auc_score(test_y, pred)\n",
    "\n",
    "metrics = [accuracy,precision,f1,roc]\n",
    "metric_names = ['accuracy','precision','f1','ROC-AUC']\n",
    "\n",
    "for i in range(len(metrics)):\n",
    "    print(metric_names[i]+\": \",metrics[i])"
   ]
  },
  {
   "cell_type": "markdown",
   "id": "standard-promise",
   "metadata": {},
   "source": [
    "### SMOTE"
   ]
  },
  {
   "cell_type": "code",
   "execution_count": 127,
   "id": "nominated-lambda",
   "metadata": {},
   "outputs": [
    {
     "data": {
      "text/plain": [
       "LogisticRegression(max_iter=1000, penalty='none')"
      ]
     },
     "execution_count": 127,
     "metadata": {},
     "output_type": "execute_result"
    }
   ],
   "source": [
    "LR_model = LogisticRegression(max_iter=1000,penalty='none')\n",
    "LR_model.fit(train_X2,train_y2)"
   ]
  },
  {
   "cell_type": "code",
   "execution_count": 128,
   "id": "palestinian-pottery",
   "metadata": {
    "scrolled": true
   },
   "outputs": [
    {
     "name": "stdout",
     "output_type": "stream",
     "text": [
      "LogisticRegression(max_iter=1000, penalty='none')\n",
      "-------------------\n",
      "fit_time: 0.371770\n",
      "score_time: 0.014261\n",
      "test_accuracy: 0.834312\n",
      "test_precision: 0.836702\n",
      "test_f1: 0.711600\n",
      "test_roc_auc: 0.908127\n"
     ]
    }
   ],
   "source": [
    "cross_validate_scores(LR_model, train_X2, train_y2)"
   ]
  },
  {
   "cell_type": "code",
   "execution_count": 129,
   "id": "resistant-airfare",
   "metadata": {},
   "outputs": [
    {
     "name": "stdout",
     "output_type": "stream",
     "text": [
      "accuracy:  0.8219616204690832\n",
      "precision:  0.8539325842696629\n",
      "f1:  0.6946983546617916\n",
      "ROC-AUC:  0.7662707218050967\n"
     ]
    }
   ],
   "source": [
    "pred = LR_model.predict(test_X2)\n",
    "\n",
    "accuracy=accuracy_score(test_y2, pred)\n",
    "precision=precision_score(test_y2, pred)\n",
    "f1=f1_score(test_y2, pred)\n",
    "roc = roc_auc_score(test_y2, pred)\n",
    "\n",
    "metrics = [accuracy,precision,f1,roc]\n",
    "metric_names = ['accuracy','precision','f1','ROC-AUC']\n",
    "\n",
    "for i in range(len(metrics)):\n",
    "    print(metric_names[i]+\": \",metrics[i])"
   ]
  },
  {
   "cell_type": "markdown",
   "id": "numerous-helen",
   "metadata": {},
   "source": [
    "## Random Forest"
   ]
  },
  {
   "cell_type": "code",
   "execution_count": 130,
   "id": "circular-finnish",
   "metadata": {},
   "outputs": [
    {
     "data": {
      "text/plain": [
       "RandomForestClassifier(n_estimators=20, random_state=0)"
      ]
     },
     "execution_count": 130,
     "metadata": {},
     "output_type": "execute_result"
    }
   ],
   "source": [
    "RF_model = RandomForestClassifier(n_estimators=20,random_state=0)\n",
    "RF_model.fit(train_X, train_y)"
   ]
  },
  {
   "cell_type": "code",
   "execution_count": 131,
   "id": "infectious-tuition",
   "metadata": {},
   "outputs": [
    {
     "name": "stdout",
     "output_type": "stream",
     "text": [
      "{'max_features': 'log2', 'n_estimators': 180}\n"
     ]
    }
   ],
   "source": [
    "param_grid = { \n",
    "    'n_estimators': np.arange(20,200,20),\n",
    "    'max_features': ['auto', 'log2']\n",
    "}\n",
    "\n",
    "grid = GridSearchCV(RF_model,param_grid=param_grid)\n",
    "grid.fit(train_X,train_y)\n",
    "print(grid.best_params_)"
   ]
  },
  {
   "cell_type": "code",
   "execution_count": 134,
   "id": "random-course",
   "metadata": {},
   "outputs": [],
   "source": [
    "RF_model = RandomForestClassifier(n_estimators=180,random_state=0, max_features='log2')\n",
    "RF_model.fit(train_X, train_y)\n",
    "\n",
    "pred = RF_model.predict(test_X)"
   ]
  },
  {
   "cell_type": "code",
   "execution_count": 135,
   "id": "dominican-parallel",
   "metadata": {},
   "outputs": [
    {
     "name": "stdout",
     "output_type": "stream",
     "text": [
      "[[2018   85]\n",
      " [ 165  198]]\n",
      "              precision    recall  f1-score   support\n",
      "\n",
      "         0.0       0.92      0.96      0.94      2103\n",
      "         1.0       0.70      0.55      0.61       363\n",
      "\n",
      "    accuracy                           0.90      2466\n",
      "   macro avg       0.81      0.75      0.78      2466\n",
      "weighted avg       0.89      0.90      0.89      2466\n",
      "\n",
      "0.8986212489862125\n"
     ]
    }
   ],
   "source": [
    "print(confusion_matrix(test_y,pred))\n",
    "print(classification_report(test_y,pred))\n",
    "print(accuracy_score(test_y, pred))"
   ]
  },
  {
   "cell_type": "markdown",
   "id": "raising-coupon",
   "metadata": {},
   "source": [
    "### SMOTE"
   ]
  },
  {
   "cell_type": "code",
   "execution_count": 136,
   "id": "anonymous-litigation",
   "metadata": {},
   "outputs": [
    {
     "data": {
      "text/plain": [
       "RandomForestClassifier(n_estimators=20, random_state=0)"
      ]
     },
     "execution_count": 136,
     "metadata": {},
     "output_type": "execute_result"
    }
   ],
   "source": [
    "RF_model = RandomForestClassifier(n_estimators=20,random_state=0)\n",
    "RF_model.fit(train_X2, train_y2)"
   ]
  },
  {
   "cell_type": "code",
   "execution_count": 137,
   "id": "requested-methodology",
   "metadata": {},
   "outputs": [
    {
     "name": "stdout",
     "output_type": "stream",
     "text": [
      "{'max_features': 'auto', 'n_estimators': 80}\n"
     ]
    }
   ],
   "source": [
    "param_grid = { \n",
    "    'n_estimators': np.arange(20,200,20),\n",
    "    'max_features': ['auto', 'log2']\n",
    "}\n",
    "\n",
    "grid = GridSearchCV(RF_model,param_grid=param_grid)\n",
    "grid.fit(train_X2,train_y2)\n",
    "print(grid.best_params_)"
   ]
  },
  {
   "cell_type": "code",
   "execution_count": 138,
   "id": "robust-concern",
   "metadata": {},
   "outputs": [],
   "source": [
    "RF_model = RandomForestClassifier(n_estimators=80,random_state=0)\n",
    "RF_model.fit(train_X2, train_y2)\n",
    "\n",
    "pred = RF_model.predict(test_X2)"
   ]
  },
  {
   "cell_type": "code",
   "execution_count": 139,
   "id": "caroline-dodge",
   "metadata": {},
   "outputs": [
    {
     "name": "stdout",
     "output_type": "stream",
     "text": [
      "[[1129   98]\n",
      " [ 121  528]]\n",
      "              precision    recall  f1-score   support\n",
      "\n",
      "         0.0       0.90      0.92      0.91      1227\n",
      "         1.0       0.84      0.81      0.83       649\n",
      "\n",
      "    accuracy                           0.88      1876\n",
      "   macro avg       0.87      0.87      0.87      1876\n",
      "weighted avg       0.88      0.88      0.88      1876\n",
      "\n",
      "0.8832622601279317\n"
     ]
    }
   ],
   "source": [
    "print(confusion_matrix(test_y2,pred))\n",
    "print(classification_report(test_y2,pred))\n",
    "print(accuracy_score(test_y2, pred))"
   ]
  },
  {
   "cell_type": "markdown",
   "id": "bored-scheme",
   "metadata": {},
   "source": [
    "## Boosted Trees"
   ]
  },
  {
   "cell_type": "code",
   "execution_count": 203,
   "id": "perfect-routine",
   "metadata": {},
   "outputs": [
    {
     "data": {
      "text/plain": [
       "AdaBoostClassifier(n_estimators=100, random_state=0)"
      ]
     },
     "execution_count": 203,
     "metadata": {},
     "output_type": "execute_result"
    }
   ],
   "source": [
    "boost = AdaBoostClassifier(n_estimators=100, random_state=0)\n",
    "boost.fit(train_X, train_y)"
   ]
  },
  {
   "cell_type": "code",
   "execution_count": 204,
   "id": "refined-blanket",
   "metadata": {},
   "outputs": [
    {
     "name": "stdout",
     "output_type": "stream",
     "text": [
      "{'algorithm': 'SAMME', 'n_estimators': 20}\n"
     ]
    }
   ],
   "source": [
    "param_grid = { \n",
    "    'n_estimators': np.arange(20,200,20),\n",
    "    'algorithm': ['SAMME','SAMME.R']\n",
    "}\n",
    "\n",
    "grid = GridSearchCV(boost,param_grid=param_grid)\n",
    "grid.fit(train_X,train_y)\n",
    "print(grid.best_params_)"
   ]
  },
  {
   "cell_type": "code",
   "execution_count": 205,
   "id": "respiratory-microwave",
   "metadata": {},
   "outputs": [],
   "source": [
    "boost = AdaBoostClassifier(n_estimators=20, random_state=0, algorithm='SAMME')\n",
    "boost.fit(train_X, train_y)\n",
    "\n",
    "pred = boost.predict(test_X)"
   ]
  },
  {
   "cell_type": "code",
   "execution_count": 206,
   "id": "mighty-crossing",
   "metadata": {
    "scrolled": true
   },
   "outputs": [
    {
     "name": "stdout",
     "output_type": "stream",
     "text": [
      "[[1994  109]\n",
      " [ 147  216]]\n",
      "              precision    recall  f1-score   support\n",
      "\n",
      "         0.0       0.93      0.95      0.94      2103\n",
      "         1.0       0.66      0.60      0.63       363\n",
      "\n",
      "    accuracy                           0.90      2466\n",
      "   macro avg       0.80      0.77      0.78      2466\n",
      "weighted avg       0.89      0.90      0.89      2466\n",
      "\n",
      "0.8961881589618816\n"
     ]
    }
   ],
   "source": [
    "print(confusion_matrix(test_y,pred))\n",
    "print(classification_report(test_y,pred))\n",
    "print(accuracy_score(test_y, pred))"
   ]
  },
  {
   "cell_type": "markdown",
   "id": "conservative-wagner",
   "metadata": {},
   "source": [
    "### SMOTE"
   ]
  },
  {
   "cell_type": "code",
   "execution_count": 207,
   "id": "friendly-cologne",
   "metadata": {},
   "outputs": [
    {
     "data": {
      "text/plain": [
       "AdaBoostClassifier(n_estimators=100, random_state=0)"
      ]
     },
     "execution_count": 207,
     "metadata": {},
     "output_type": "execute_result"
    }
   ],
   "source": [
    "boost = AdaBoostClassifier(n_estimators=100, random_state=0)\n",
    "boost.fit(train_X2, train_y2)"
   ]
  },
  {
   "cell_type": "code",
   "execution_count": 208,
   "id": "mexican-norman",
   "metadata": {},
   "outputs": [
    {
     "name": "stdout",
     "output_type": "stream",
     "text": [
      "{'algorithm': 'SAMME', 'n_estimators': 20}\n"
     ]
    }
   ],
   "source": [
    "param_grid = { \n",
    "    'n_estimators': np.arange(20,200,20),\n",
    "    'algorithm': ['SAMME','SAMME.R']\n",
    "}\n",
    "\n",
    "grid = GridSearchCV(boost,param_grid=param_grid)\n",
    "grid.fit(train_X2,train_y2)\n",
    "print(grid.best_params_)"
   ]
  },
  {
   "cell_type": "code",
   "execution_count": 209,
   "id": "moderate-queue",
   "metadata": {},
   "outputs": [],
   "source": [
    "boost = AdaBoostClassifier(n_estimators=20, random_state=0, algorithm='SAMME')\n",
    "boost.fit(train_X2, train_y2)\n",
    "\n",
    "pred = boost.predict(test_X2)"
   ]
  },
  {
   "cell_type": "code",
   "execution_count": 210,
   "id": "actual-madonna",
   "metadata": {
    "scrolled": true
   },
   "outputs": [
    {
     "name": "stdout",
     "output_type": "stream",
     "text": [
      "[[1104  123]\n",
      " [ 144  505]]\n",
      "              precision    recall  f1-score   support\n",
      "\n",
      "         0.0       0.88      0.90      0.89      1227\n",
      "         1.0       0.80      0.78      0.79       649\n",
      "\n",
      "    accuracy                           0.86      1876\n",
      "   macro avg       0.84      0.84      0.84      1876\n",
      "weighted avg       0.86      0.86      0.86      1876\n",
      "\n",
      "0.8576759061833689\n"
     ]
    }
   ],
   "source": [
    "print(confusion_matrix(test_y2,pred))\n",
    "print(classification_report(test_y2,pred))\n",
    "print(accuracy_score(test_y2, pred))"
   ]
  },
  {
   "cell_type": "markdown",
   "id": "complicated-translation",
   "metadata": {},
   "source": [
    "## DAC"
   ]
  },
  {
   "cell_type": "code",
   "execution_count": 140,
   "id": "systematic-shanghai",
   "metadata": {},
   "outputs": [],
   "source": [
    "from dac import *"
   ]
  },
  {
   "cell_type": "code",
   "execution_count": 141,
   "id": "perceived-investigation",
   "metadata": {},
   "outputs": [
    {
     "data": {
      "text/plain": [
       "Index(['Administrative', 'Administrative_Duration', 'Informational',\n",
       "       'Informational_Duration', 'ProductRelated', 'ProductRelated_Duration',\n",
       "       'BounceRates', 'ExitRates', 'PageValues', 'SpecialDay', 'Month_Dec',\n",
       "       'Month_Feb', 'Month_Jul', 'Month_June', 'Month_Mar', 'Month_May',\n",
       "       'Month_Nov', 'Month_Oct', 'Month_Sep', 'VisitorType_Other',\n",
       "       'VisitorType_Returning_Visitor', 'OperatingSystems', 'Browser',\n",
       "       'Region', 'TrafficType', 'Weekend'],\n",
       "      dtype='object')"
      ]
     },
     "execution_count": 141,
     "metadata": {},
     "output_type": "execute_result"
    }
   ],
   "source": [
    "X = train_X.to_numpy()\n",
    "y = train_y\n",
    "feature_names = train_X.columns\n",
    "features = feature_names\n",
    "feature_names"
   ]
  },
  {
   "cell_type": "code",
   "execution_count": 142,
   "id": "unsigned-rehabilitation",
   "metadata": {},
   "outputs": [],
   "source": [
    "import math"
   ]
  },
  {
   "cell_type": "code",
   "execution_count": 154,
   "id": "supposed-bidder",
   "metadata": {},
   "outputs": [],
   "source": [
    "min_max = dataDF.describe().loc[[\"min\",\"max\"]]"
   ]
  },
  {
   "cell_type": "code",
   "execution_count": 155,
   "id": "unique-classic",
   "metadata": {},
   "outputs": [],
   "source": [
    "min_max.loc[\"min\"]=min_max.loc[\"min\"].apply(lambda x: math.floor(x))\n",
    "min_max.loc[\"max\"]=min_max.loc[\"max\"].apply(lambda x: math.ceil(x))"
   ]
  },
  {
   "cell_type": "code",
   "execution_count": 156,
   "id": "overhead-bradford",
   "metadata": {},
   "outputs": [
    {
     "data": {
      "text/plain": [
       "[(-1.0, 8.0),\n",
       " (-1.0, 19.0),\n",
       " (-1.0, 19.0),\n",
       " (-1.0, 18.0),\n",
       " (-1.0, 16.0),\n",
       " (-1.0, 33.0),\n",
       " (-1.0, 4.0),\n",
       " (-1.0, 4.0),\n",
       " (-1.0, 20.0),\n",
       " (-1.0, 5.0),\n",
       " (0.0, 1.0),\n",
       " (0.0, 1.0),\n",
       " (0.0, 1.0),\n",
       " (0.0, 1.0),\n",
       " (0.0, 1.0),\n",
       " (0.0, 1.0),\n",
       " (0.0, 1.0),\n",
       " (0.0, 1.0),\n",
       " (0.0, 1.0),\n",
       " (0.0, 1.0),\n",
       " (0.0, 1.0),\n",
       " (1.0, 8.0),\n",
       " (1.0, 13.0),\n",
       " (1.0, 9.0),\n",
       " (1.0, 20.0),\n",
       " (0.0, 1.0)]"
      ]
     },
     "execution_count": 156,
     "metadata": {},
     "output_type": "execute_result"
    }
   ],
   "source": [
    "feat_intervals = []\n",
    "\n",
    "for feat in feature_names:\n",
    "    feat_intervals.append(tuple(list(min_max[feat])))\n",
    "    \n",
    "feat_intervals"
   ]
  },
  {
   "cell_type": "code",
   "execution_count": 157,
   "id": "integral-monkey",
   "metadata": {},
   "outputs": [],
   "source": [
    "feat_di = [1]+[2]*4+[3]+[0.5]*2+[2]+[0.5]+[0.1]*11+[1]+[1.5]+[1]+[2]+[0.1]\n",
    "S = np.zeros(len(features))\n",
    "feature = features[0]\n",
    "idx = np.argmax(features == feature)"
   ]
  },
  {
   "cell_type": "markdown",
   "id": "affected-initial",
   "metadata": {},
   "source": [
    "### Getting Feature Importances"
   ]
  },
  {
   "cell_type": "code",
   "execution_count": 158,
   "id": "automatic-louisiana",
   "metadata": {},
   "outputs": [],
   "source": [
    "def get_1D_dac(model, X, y, S, feat_intervals, feat_di, idx, feature, features):\n",
    "    S[idx] = 1\n",
    "    dac_1D = make_curve_forest(model, X, y, S, feat_intervals[idx], feat_di[idx], C=1, continuous_y=False)\n",
    "    \n",
    "    x_axis = np.arange(feat_intervals[idx][0], feat_intervals[idx][1], feat_di[idx])\n",
    "    plt.plot(x_axis, dac_1D, label=features[idx])\n",
    "    plt.xlabel(feature)\n",
    "    plt.ylabel(f'DAC({feature})')\n",
    "    plt.show()\n",
    "    \n",
    "    return dac_1D,x_axis"
   ]
  },
  {
   "cell_type": "code",
   "execution_count": 159,
   "id": "imposed-kentucky",
   "metadata": {},
   "outputs": [
    {
     "data": {
      "image/png": "[encoded data removed]",
      "text/plain": [
       "<Figure size 432x288 with 1 Axes>"
      ]
     },
     "metadata": {
      "needs_background": "light"
     },
     "output_type": "display_data"
    }
   ],
   "source": [
    "feature=features[0]\n",
    "idx = np.argmax(features==features[0])\n",
    "dac_1d,x_axis = get_1D_dac(RF_model,train_X2.to_numpy(),train_y2,S,feat_intervals,feat_di,idx,feature,features)"
   ]
  },
  {
   "cell_type": "code",
   "execution_count": 160,
   "id": "periodic-israeli",
   "metadata": {},
   "outputs": [],
   "source": [
    "import scipy"
   ]
  },
  {
   "cell_type": "code",
   "execution_count": 161,
   "id": "informed-surge",
   "metadata": {},
   "outputs": [
    {
     "data": {
      "text/plain": [
       "array([0.27197378, 0.32934958, 0.33898426, 0.41749358, 0.45196595,\n",
       "       0.47927919, 0.50681724, 0.52448598, 0.49869199])"
      ]
     },
     "execution_count": 161,
     "metadata": {},
     "output_type": "execute_result"
    }
   ],
   "source": [
    "dac_1d"
   ]
  },
  {
   "cell_type": "code",
   "execution_count": 162,
   "id": "noted-acting",
   "metadata": {},
   "outputs": [
    {
     "data": {
      "text/plain": [
       "array([-1.,  0.,  1.,  2.,  3.,  4.,  5.,  6.,  7.])"
      ]
     },
     "execution_count": 162,
     "metadata": {},
     "output_type": "execute_result"
    }
   ],
   "source": [
    "x_axis"
   ]
  },
  {
   "cell_type": "code",
   "execution_count": 163,
   "id": "buried-routine",
   "metadata": {},
   "outputs": [
    {
     "data": {
      "text/plain": [
       "3.4337086745582814"
      ]
     },
     "execution_count": 163,
     "metadata": {},
     "output_type": "execute_result"
    }
   ],
   "source": [
    "scipy.integrate.trapz(dac_1d,x_axis)"
   ]
  },
  {
   "cell_type": "code",
   "execution_count": 164,
   "id": "jewish-fishing",
   "metadata": {},
   "outputs": [],
   "source": [
    "def get_1D_integral(model, X, y, S, feat_intervals, feat_di, idx, feature, features):\n",
    "    S[idx] = 1\n",
    "    dac_1D = make_curve_forest(model, X, y, S, feat_intervals[idx], feat_di[idx], C=1, continuous_y=False)\n",
    "    \n",
    "    x_axis = np.arange(feat_intervals[idx][0], feat_intervals[idx][1], feat_di[idx])\n",
    "    integral = scipy.integrate.trapz(dac_1D,x_axis)\n",
    "    \n",
    "    return integral"
   ]
  },
  {
   "cell_type": "code",
   "execution_count": 165,
   "id": "recent-image",
   "metadata": {},
   "outputs": [],
   "source": [
    "integrals = []\n",
    "feat_di = [1]*len(features)\n",
    "\n",
    "for i in range(len(features)):\n",
    "    feature = features[i]\n",
    "    idx = np.argmax(features==features[i])\n",
    "    \n",
    "    integral = get_1D_integral(RF_model,train_X2.to_numpy(),train_y2,S,feat_intervals,feat_di,idx,feature,features)\n",
    "    integrals.append(integral)"
   ]
  },
  {
   "cell_type": "code",
   "execution_count": 166,
   "id": "appropriate-collection",
   "metadata": {},
   "outputs": [
    {
     "data": {
      "text/plain": [
       "[3.4337086745582814,\n",
       " 8.836584045658583,\n",
       " 9.566419009542615,\n",
       " 8.84832065698372,\n",
       " 7.607250582855882,\n",
       " 16.295592249091428,\n",
       " 1.7351332297110127,\n",
       " 1.805145452964879,\n",
       " 11.120856816996211,\n",
       " 2.175498580872079,\n",
       " 0.0,\n",
       " 0.0,\n",
       " 0.0,\n",
       " 0.0,\n",
       " 0.0,\n",
       " 0.0,\n",
       " 0.0,\n",
       " 0.0,\n",
       " 0.0,\n",
       " 0.0,\n",
       " 0.0,\n",
       " 1.3047849008061774,\n",
       " 2.346648502999341,\n",
       " 1.888275834332264,\n",
       " 5.557300360779024,\n",
       " 0.0]"
      ]
     },
     "execution_count": 166,
     "metadata": {},
     "output_type": "execute_result"
    }
   ],
   "source": [
    "integrals"
   ]
  },
  {
   "cell_type": "code",
   "execution_count": 167,
   "id": "timely-preference",
   "metadata": {},
   "outputs": [],
   "source": [
    "import pickle\n",
    "pickle.dump(integrals,open(\"shop_integrals.pkl\",\"wb\"))\n",
    "#old_integrals=pickle.load(open(\"shop_integrals.pkl\",\"rb\"))"
   ]
  },
  {
   "cell_type": "code",
   "execution_count": 168,
   "id": "binding-emperor",
   "metadata": {
    "scrolled": true
   },
   "outputs": [],
   "source": [
    "dac_integral = pd.DataFrame(integrals,index=features,columns=[\"integral\"])\n",
    "dac_features = dac_integral[dac_integral[\"integral\"]>5].index"
   ]
  },
  {
   "cell_type": "code",
   "execution_count": 169,
   "id": "federal-poker",
   "metadata": {},
   "outputs": [
    {
     "data": {
      "text/html": [
       "<div>\n",
       "<style scoped>\n",
       "    .dataframe tbody tr th:only-of-type {\n",
       "        vertical-align: middle;\n",
       "    }\n",
       "\n",
       "    .dataframe tbody tr th {\n",
       "        vertical-align: top;\n",
       "    }\n",
       "\n",
       "    .dataframe thead th {\n",
       "        text-align: right;\n",
       "    }\n",
       "</style>\n",
       "<table border=\"1\" class=\"dataframe\">\n",
       "  <thead>\n",
       "    <tr style=\"text-align: right;\">\n",
       "      <th></th>\n",
       "      <th>integral</th>\n",
       "    </tr>\n",
       "  </thead>\n",
       "  <tbody>\n",
       "    <tr>\n",
       "      <th>Administrative_Duration</th>\n",
       "      <td>8.836584</td>\n",
       "    </tr>\n",
       "    <tr>\n",
       "      <th>Informational</th>\n",
       "      <td>9.566419</td>\n",
       "    </tr>\n",
       "    <tr>\n",
       "      <th>Informational_Duration</th>\n",
       "      <td>8.848321</td>\n",
       "    </tr>\n",
       "    <tr>\n",
       "      <th>ProductRelated</th>\n",
       "      <td>7.607251</td>\n",
       "    </tr>\n",
       "    <tr>\n",
       "      <th>ProductRelated_Duration</th>\n",
       "      <td>16.295592</td>\n",
       "    </tr>\n",
       "    <tr>\n",
       "      <th>PageValues</th>\n",
       "      <td>11.120857</td>\n",
       "    </tr>\n",
       "    <tr>\n",
       "      <th>TrafficType</th>\n",
       "      <td>5.557300</td>\n",
       "    </tr>\n",
       "  </tbody>\n",
       "</table>\n",
       "</div>"
      ],
      "text/plain": [
       "                          integral\n",
       "Administrative_Duration   8.836584\n",
       "Informational             9.566419\n",
       "Informational_Duration    8.848321\n",
       "ProductRelated            7.607251\n",
       "ProductRelated_Duration  16.295592\n",
       "PageValues               11.120857\n",
       "TrafficType               5.557300"
      ]
     },
     "execution_count": 169,
     "metadata": {},
     "output_type": "execute_result"
    }
   ],
   "source": [
    "dac_integral[dac_integral[\"integral\"]>5]"
   ]
  },
  {
   "cell_type": "code",
   "execution_count": 170,
   "id": "understood-dallas",
   "metadata": {},
   "outputs": [
    {
     "data": {
      "text/plain": [
       "Index(['Administrative_Duration', 'Informational', 'Informational_Duration',\n",
       "       'ProductRelated', 'ProductRelated_Duration', 'PageValues',\n",
       "       'TrafficType'],\n",
       "      dtype='object')"
      ]
     },
     "execution_count": 170,
     "metadata": {},
     "output_type": "execute_result"
    }
   ],
   "source": [
    "dac_features"
   ]
  },
  {
   "cell_type": "markdown",
   "id": "vertical-virus",
   "metadata": {},
   "source": [
    "### Feature Engineering with DAC"
   ]
  },
  {
   "cell_type": "code",
   "execution_count": 171,
   "id": "interested-methodology",
   "metadata": {},
   "outputs": [],
   "source": [
    "def get_importance_scores(model, score_type='mdi', X=None, Y=None):\n",
    "    if score_type == 'mdi':\n",
    "        return model.feature_importances_\n",
    "    elif score_type == 'mda':\n",
    "        return eli5.sklearn.PermutationImportance(model, random_state=42, n_iter=4).fit(X, Y).feature_importances_\n",
    "    else:\n",
    "        raise NotImplementedError(f'{score_type} not implemented')"
   ]
  },
  {
   "cell_type": "code",
   "execution_count": 172,
   "id": "generous-nelson",
   "metadata": {},
   "outputs": [],
   "source": [
    "feature_scores_mdi = get_importance_scores(RF_model, score_type='mdi', X=test_X2, Y=test_y2)"
   ]
  },
  {
   "cell_type": "code",
   "execution_count": 173,
   "id": "phantom-august",
   "metadata": {},
   "outputs": [
    {
     "data": {
      "text/plain": [
       "array([4.82385952e-02, 4.71080976e-02, 1.62621917e-02, 2.00588604e-02,\n",
       "       6.04981979e-02, 7.28361135e-02, 4.45541803e-02, 7.33663593e-02,\n",
       "       4.36337622e-01, 2.51606803e-03, 6.71820527e-03, 1.55167762e-04,\n",
       "       3.73819810e-03, 1.54694320e-03, 5.82472825e-03, 9.25842686e-03,\n",
       "       3.34455511e-02, 3.77144489e-03, 4.68094183e-03, 2.68436788e-04,\n",
       "       1.84534016e-02, 1.69011313e-02, 1.52595185e-02, 2.39782126e-02,\n",
       "       2.48892244e-02, 9.33418177e-03])"
      ]
     },
     "execution_count": 173,
     "metadata": {},
     "output_type": "execute_result"
    }
   ],
   "source": [
    "feature_scores_mdi"
   ]
  },
  {
   "cell_type": "code",
   "execution_count": 174,
   "id": "joint-julian",
   "metadata": {},
   "outputs": [],
   "source": [
    "feat_num = np.argsort(feature_scores_mdi)[-1]"
   ]
  },
  {
   "cell_type": "code",
   "execution_count": 175,
   "id": "taken-craps",
   "metadata": {},
   "outputs": [
    {
     "data": {
      "text/plain": [
       "'PageValues'"
      ]
     },
     "execution_count": 175,
     "metadata": {},
     "output_type": "execute_result"
    }
   ],
   "source": [
    "features[feat_num]"
   ]
  },
  {
   "cell_type": "code",
   "execution_count": 176,
   "id": "wrong-auckland",
   "metadata": {},
   "outputs": [],
   "source": [
    "continuous_y = False\n",
    "\n",
    "num_features = len(features)\n",
    "feat_num = np.argsort(feature_scores_mdi)[-1]\n",
    "\n",
    "S = np.zeros(num_features)\n",
    "S[feat_num]= 1"
   ]
  },
  {
   "cell_type": "code",
   "execution_count": 177,
   "id": "flush-geography",
   "metadata": {},
   "outputs": [],
   "source": [
    "## dac.interactions_forest does not exist\n",
    "X_alt_train = dac(forest=RF_model, input_space_x=train_X2.to_numpy(), outcome_space_y=train_y2,assignment=train_X2.to_numpy(), S=S, continuous_y=continuous_y).reshape(-1, 1)"
   ]
  },
  {
   "cell_type": "code",
   "execution_count": 178,
   "id": "tight-price",
   "metadata": {},
   "outputs": [],
   "source": [
    "pickle.dump(X_alt_train,open(\"shop_X_alt_train.pkl\",\"wb\"))"
   ]
  },
  {
   "cell_type": "code",
   "execution_count": 191,
   "id": "proud-building",
   "metadata": {},
   "outputs": [
    {
     "data": {
      "text/plain": [
       "(16821, 1)"
      ]
     },
     "execution_count": 191,
     "metadata": {},
     "output_type": "execute_result"
    }
   ],
   "source": [
    "# X_alt_train.shape"
   ]
  },
  {
   "cell_type": "code",
   "execution_count": 180,
   "id": "municipal-small",
   "metadata": {},
   "outputs": [],
   "source": [
    "X_alt_test = dac(forest=RF_model, input_space_x=train_X2.to_numpy(), outcome_space_y=train_y2, \n",
    "                                              assignment=test_X2.to_numpy(), S=S, continuous_y=continuous_y).reshape(-1, 1)"
   ]
  },
  {
   "cell_type": "code",
   "execution_count": 181,
   "id": "chronic-placement",
   "metadata": {},
   "outputs": [],
   "source": [
    "pickle.dump(X_alt_test,open(\"shop_X_alt_test.pkl\",\"wb\"))"
   ]
  },
  {
   "cell_type": "code",
   "execution_count": 182,
   "id": "federal-center",
   "metadata": {},
   "outputs": [],
   "source": [
    "S = np.zeros(num_features)\n",
    "feat_num = np.argmax(features=='ProductRelated_Duration')\n",
    "S[feat_num]= 1\n",
    "\n",
    "X_alt_other = dac(forest=RF_model, input_space_x=train_X2.to_numpy(), outcome_space_y=train_y2,assignment=train_X2.to_numpy(), S=S, continuous_y=continuous_y).reshape(-1, 1)"
   ]
  },
  {
   "cell_type": "code",
   "execution_count": 183,
   "id": "valued-twins",
   "metadata": {},
   "outputs": [],
   "source": [
    "pickle.dump(X_alt_test,open(\"shop_X_alt_other.pkl\",\"wb\"))"
   ]
  },
  {
   "cell_type": "code",
   "execution_count": 184,
   "id": "broken-france",
   "metadata": {},
   "outputs": [],
   "source": [
    "X_alt_othertest = dac(forest=RF_model, input_space_x=train_X2.to_numpy(), outcome_space_y=train_y2, \n",
    "                                              assignment=test_X2.to_numpy(), S=S, continuous_y=continuous_y).reshape(-1, 1)"
   ]
  },
  {
   "cell_type": "code",
   "execution_count": 185,
   "id": "informational-density",
   "metadata": {},
   "outputs": [],
   "source": [
    "pickle.dump(X_alt_othertest,open(\"X_alt_othertest.pkl\",\"wb\"))"
   ]
  },
  {
   "cell_type": "markdown",
   "id": "printable-isaac",
   "metadata": {},
   "source": [
    "## Models with DAC"
   ]
  },
  {
   "cell_type": "markdown",
   "id": "southwest-recipient",
   "metadata": {},
   "source": [
    "### Logistic Regression"
   ]
  },
  {
   "cell_type": "markdown",
   "id": "representative-berlin",
   "metadata": {},
   "source": [
    "#### Feature Selection"
   ]
  },
  {
   "cell_type": "code",
   "execution_count": 186,
   "id": "mineral-african",
   "metadata": {},
   "outputs": [],
   "source": [
    "train_X3 = train_X2[dac_features]\n",
    "test_X3 = test_X2[dac_features]\n",
    "\n",
    "train_X4 = np.hstack((train_X2.to_numpy(),X_alt_train))\n",
    "test_X4 = np.hstack((test_X2.to_numpy(),X_alt_test))\n",
    "\n",
    "train_X5 = np.hstack((train_X2.to_numpy(),X_alt_other))\n",
    "test_X5 = np.hstack((test_X2.to_numpy(),X_alt_othertest))"
   ]
  },
  {
   "cell_type": "code",
   "execution_count": 187,
   "id": "convenient-people",
   "metadata": {},
   "outputs": [
    {
     "data": {
      "text/plain": [
       "LogisticRegression(penalty='none')"
      ]
     },
     "execution_count": 187,
     "metadata": {},
     "output_type": "execute_result"
    }
   ],
   "source": [
    "LR_model = LogisticRegression(penalty='none')\n",
    "LR_model.fit(train_X3,train_y2)"
   ]
  },
  {
   "cell_type": "code",
   "execution_count": 188,
   "id": "secondary-lexington",
   "metadata": {
    "scrolled": true
   },
   "outputs": [
    {
     "name": "stdout",
     "output_type": "stream",
     "text": [
      "LogisticRegression(penalty='none')\n",
      "-------------------\n",
      "fit_time: 0.076202\n",
      "score_time: 0.016281\n",
      "test_accuracy: 0.820849\n",
      "test_precision: 0.820002\n",
      "test_f1: 0.683571\n",
      "test_roc_auc: 0.892029\n"
     ]
    }
   ],
   "source": [
    "cross_validate_scores(LR_model, train_X3, train_y2)"
   ]
  },
  {
   "cell_type": "code",
   "execution_count": 189,
   "id": "computational-battle",
   "metadata": {},
   "outputs": [
    {
     "name": "stdout",
     "output_type": "stream",
     "text": [
      "accuracy:  0.8081023454157783\n",
      "precision:  0.8337182448036952\n",
      "f1:  0.66728280961183\n",
      "ROC-AUC:  0.7487803315991124\n"
     ]
    }
   ],
   "source": [
    "pred = LR_model.predict(test_X3)\n",
    "\n",
    "accuracy=accuracy_score(test_y2, pred)\n",
    "precision=precision_score(test_y2, pred)\n",
    "f1=f1_score(test_y2, pred)\n",
    "roc = roc_auc_score(test_y2, pred)\n",
    "\n",
    "metrics = [accuracy,precision,f1,roc]\n",
    "metric_names = ['accuracy','precision','f1','ROC-AUC']\n",
    "\n",
    "for i in range(len(metrics)):\n",
    "    print(metric_names[i]+\": \",metrics[i])"
   ]
  },
  {
   "cell_type": "markdown",
   "id": "efficient-demand",
   "metadata": {},
   "source": [
    "#### Feature Engineering"
   ]
  },
  {
   "cell_type": "code",
   "execution_count": 190,
   "id": "available-forth",
   "metadata": {},
   "outputs": [
    {
     "name": "stdout",
     "output_type": "stream",
     "text": [
      "LogisticRegression(max_iter=1000, penalty='none')\n",
      "-------------------\n",
      "fit_time: 0.456487\n",
      "score_time: 0.011177\n",
      "test_accuracy: 0.879232\n",
      "test_precision: 0.816120\n",
      "test_f1: 0.817289\n",
      "test_roc_auc: 0.929923\n"
     ]
    }
   ],
   "source": [
    "LR_model = LogisticRegression(penalty='none',max_iter=1000)\n",
    "LR_model.fit(train_X4,train_y2)\n",
    "\n",
    "cross_validate_scores(LR_model, train_X4, train_y2)"
   ]
  },
  {
   "cell_type": "code",
   "execution_count": 191,
   "id": "straight-palestine",
   "metadata": {},
   "outputs": [
    {
     "name": "stdout",
     "output_type": "stream",
     "text": [
      "accuracy:  0.8603411513859275\n",
      "precision:  0.8146341463414634\n",
      "f1:  0.7927215189873418\n",
      "ROC-AUC:  0.8395236606251484\n"
     ]
    }
   ],
   "source": [
    "pred = LR_model.predict(test_X4)\n",
    "\n",
    "accuracy=accuracy_score(test_y2, pred)\n",
    "precision=precision_score(test_y2, pred)\n",
    "f1=f1_score(test_y2, pred)\n",
    "roc = roc_auc_score(test_y2, pred)\n",
    "\n",
    "metrics = [accuracy,precision,f1,roc]\n",
    "metric_names = ['accuracy','precision','f1','ROC-AUC']\n",
    "\n",
    "for i in range(len(metrics)):\n",
    "    print(metric_names[i]+\": \",metrics[i])"
   ]
  },
  {
   "cell_type": "code",
   "execution_count": 192,
   "id": "stretch-sense",
   "metadata": {},
   "outputs": [
    {
     "name": "stdout",
     "output_type": "stream",
     "text": [
      "LogisticRegression(max_iter=1000, penalty='none')\n",
      "-------------------\n",
      "fit_time: 1.280628\n",
      "score_time: 0.023957\n",
      "test_accuracy: 0.832713\n",
      "test_precision: 0.809978\n",
      "test_f1: 0.717711\n",
      "test_roc_auc: 0.907578\n"
     ]
    }
   ],
   "source": [
    "LR_model = LogisticRegression(penalty='none',max_iter=1000)\n",
    "LR_model.fit(train_X5,train_y2)\n",
    "\n",
    "cross_validate_scores(LR_model, train_X5, train_y2)"
   ]
  },
  {
   "cell_type": "code",
   "execution_count": 193,
   "id": "julian-snake",
   "metadata": {},
   "outputs": [
    {
     "name": "stdout",
     "output_type": "stream",
     "text": [
      "accuracy:  0.8208955223880597\n",
      "precision:  0.8280922431865828\n",
      "f1:  0.7015985790408525\n",
      "ROC-AUC:  0.7708994968122233\n"
     ]
    }
   ],
   "source": [
    "pred = LR_model.predict(test_X5)\n",
    "\n",
    "accuracy=accuracy_score(test_y2, pred)\n",
    "precision=precision_score(test_y2, pred)\n",
    "f1=f1_score(test_y2, pred)\n",
    "roc = roc_auc_score(test_y2, pred)\n",
    "\n",
    "metrics = [accuracy,precision,f1,roc]\n",
    "metric_names = ['accuracy','precision','f1','ROC-AUC']\n",
    "\n",
    "for i in range(len(metrics)):\n",
    "    print(metric_names[i]+\": \",metrics[i])"
   ]
  },
  {
   "cell_type": "markdown",
   "id": "satisfied-citizenship",
   "metadata": {},
   "source": [
    "### Random Forest"
   ]
  },
  {
   "cell_type": "markdown",
   "id": "proof-memphis",
   "metadata": {},
   "source": [
    "#### Feature Selection"
   ]
  },
  {
   "cell_type": "code",
   "execution_count": 194,
   "id": "southeast-display",
   "metadata": {},
   "outputs": [],
   "source": [
    "RF_model = RandomForestClassifier(n_estimators=120,random_state=0)\n",
    "RF_model.fit(train_X3, train_y2)\n",
    "\n",
    "pred = RF_model.predict(test_X3)"
   ]
  },
  {
   "cell_type": "code",
   "execution_count": 195,
   "id": "ordered-daily",
   "metadata": {},
   "outputs": [
    {
     "name": "stdout",
     "output_type": "stream",
     "text": [
      "[[1099  128]\n",
      " [ 131  518]]\n",
      "              precision    recall  f1-score   support\n",
      "\n",
      "         0.0       0.89      0.90      0.89      1227\n",
      "         1.0       0.80      0.80      0.80       649\n",
      "\n",
      "    accuracy                           0.86      1876\n",
      "   macro avg       0.85      0.85      0.85      1876\n",
      "weighted avg       0.86      0.86      0.86      1876\n",
      "\n",
      "0.8619402985074627\n"
     ]
    }
   ],
   "source": [
    "print(confusion_matrix(test_y2,pred))\n",
    "print(classification_report(test_y2,pred))\n",
    "print(accuracy_score(test_y2, pred))"
   ]
  },
  {
   "cell_type": "markdown",
   "id": "sustained-murray",
   "metadata": {},
   "source": [
    "#### Feature Engineering"
   ]
  },
  {
   "cell_type": "code",
   "execution_count": 196,
   "id": "incomplete-removal",
   "metadata": {},
   "outputs": [],
   "source": [
    "RF_model = RandomForestClassifier(n_estimators=120,random_state=0)\n",
    "RF_model.fit(train_X4, train_y2)\n",
    "\n",
    "pred = RF_model.predict(test_X4)"
   ]
  },
  {
   "cell_type": "code",
   "execution_count": 197,
   "id": "dated-beverage",
   "metadata": {},
   "outputs": [
    {
     "name": "stdout",
     "output_type": "stream",
     "text": [
      "[[1122  105]\n",
      " [ 115  534]]\n",
      "              precision    recall  f1-score   support\n",
      "\n",
      "         0.0       0.91      0.91      0.91      1227\n",
      "         1.0       0.84      0.82      0.83       649\n",
      "\n",
      "    accuracy                           0.88      1876\n",
      "   macro avg       0.87      0.87      0.87      1876\n",
      "weighted avg       0.88      0.88      0.88      1876\n",
      "\n",
      "0.8827292110874201\n"
     ]
    }
   ],
   "source": [
    "print(confusion_matrix(test_y2,pred))\n",
    "print(classification_report(test_y2,pred))\n",
    "print(accuracy_score(test_y2, pred))"
   ]
  },
  {
   "cell_type": "code",
   "execution_count": 198,
   "id": "developmental-local",
   "metadata": {},
   "outputs": [
    {
     "name": "stdout",
     "output_type": "stream",
     "text": [
      "[[1127  100]\n",
      " [ 121  528]]\n",
      "              precision    recall  f1-score   support\n",
      "\n",
      "         0.0       0.90      0.92      0.91      1227\n",
      "         1.0       0.84      0.81      0.83       649\n",
      "\n",
      "    accuracy                           0.88      1876\n",
      "   macro avg       0.87      0.87      0.87      1876\n",
      "weighted avg       0.88      0.88      0.88      1876\n",
      "\n",
      "0.8821961620469083\n"
     ]
    }
   ],
   "source": [
    "RF_model = RandomForestClassifier(n_estimators=120,random_state=0)\n",
    "RF_model.fit(train_X5, train_y2)\n",
    "\n",
    "pred = RF_model.predict(test_X5)\n",
    "\n",
    "print(confusion_matrix(test_y2,pred))\n",
    "print(classification_report(test_y2,pred))\n",
    "print(accuracy_score(test_y2, pred))"
   ]
  },
  {
   "cell_type": "markdown",
   "id": "formal-copyright",
   "metadata": {},
   "source": [
    "### Boosted Trees"
   ]
  },
  {
   "cell_type": "markdown",
   "id": "veterinary-sharp",
   "metadata": {},
   "source": [
    "#### Feature Selection"
   ]
  },
  {
   "cell_type": "code",
   "execution_count": 211,
   "id": "twenty-checkout",
   "metadata": {},
   "outputs": [],
   "source": [
    "boost = AdaBoostClassifier(n_estimators=20, random_state=0, algorithm='SAMME')\n",
    "boost.fit(train_X3, train_y2)\n",
    "\n",
    "pred = boost.predict(test_X3)"
   ]
  },
  {
   "cell_type": "code",
   "execution_count": 212,
   "id": "boxed-desire",
   "metadata": {
    "scrolled": true
   },
   "outputs": [
    {
     "name": "stdout",
     "output_type": "stream",
     "text": [
      "[[1072  155]\n",
      " [ 121  528]]\n",
      "              precision    recall  f1-score   support\n",
      "\n",
      "         0.0       0.90      0.87      0.89      1227\n",
      "         1.0       0.77      0.81      0.79       649\n",
      "\n",
      "    accuracy                           0.85      1876\n",
      "   macro avg       0.84      0.84      0.84      1876\n",
      "weighted avg       0.86      0.85      0.85      1876\n",
      "\n",
      "0.8528784648187633\n"
     ]
    }
   ],
   "source": [
    "print(confusion_matrix(test_y2,pred))\n",
    "print(classification_report(test_y2,pred))\n",
    "print(accuracy_score(test_y2, pred))"
   ]
  },
  {
   "cell_type": "markdown",
   "id": "defined-plymouth",
   "metadata": {},
   "source": [
    "#### Feature Engineering"
   ]
  },
  {
   "cell_type": "code",
   "execution_count": 213,
   "id": "tested-currency",
   "metadata": {},
   "outputs": [
    {
     "name": "stdout",
     "output_type": "stream",
     "text": [
      "[[1094  133]\n",
      " [ 125  524]]\n",
      "              precision    recall  f1-score   support\n",
      "\n",
      "         0.0       0.90      0.89      0.89      1227\n",
      "         1.0       0.80      0.81      0.80       649\n",
      "\n",
      "    accuracy                           0.86      1876\n",
      "   macro avg       0.85      0.85      0.85      1876\n",
      "weighted avg       0.86      0.86      0.86      1876\n",
      "\n",
      "0.8624733475479744\n"
     ]
    }
   ],
   "source": [
    "boost = AdaBoostClassifier(n_estimators=20, random_state=0, algorithm='SAMME')\n",
    "boost.fit(train_X4, train_y2)\n",
    "\n",
    "pred = boost.predict(test_X4)\n",
    "\n",
    "print(confusion_matrix(test_y2,pred))\n",
    "print(classification_report(test_y2,pred))\n",
    "print(accuracy_score(test_y2, pred))"
   ]
  },
  {
   "cell_type": "code",
   "execution_count": 214,
   "id": "spectacular-riding",
   "metadata": {},
   "outputs": [
    {
     "name": "stdout",
     "output_type": "stream",
     "text": [
      "[[1085  142]\n",
      " [ 139  510]]\n",
      "              precision    recall  f1-score   support\n",
      "\n",
      "         0.0       0.89      0.88      0.89      1227\n",
      "         1.0       0.78      0.79      0.78       649\n",
      "\n",
      "    accuracy                           0.85      1876\n",
      "   macro avg       0.83      0.84      0.83      1876\n",
      "weighted avg       0.85      0.85      0.85      1876\n",
      "\n",
      "0.8502132196162047\n"
     ]
    }
   ],
   "source": [
    "boost = AdaBoostClassifier(n_estimators=20, random_state=0, algorithm='SAMME')\n",
    "boost.fit(train_X5, train_y2)\n",
    "\n",
    "pred = boost.predict(test_X5)\n",
    "\n",
    "print(confusion_matrix(test_y2,pred))\n",
    "print(classification_report(test_y2,pred))\n",
    "print(accuracy_score(test_y2, pred))"
   ]
  }
 ],
 "metadata": {
  "kernelspec": {
   "display_name": "Python 3",
   "language": "python",
   "name": "python3"
  },
  "language_info": {
   "codemirror_mode": {
    "name": "ipython",
    "version": 3
   },
   "file_extension": ".py",
   "mimetype": "text/x-python",
   "name": "python",
   "nbconvert_exporter": "python",
   "pygments_lexer": "ipython3",
   "version": "3.8.6"
  }
 },
 "nbformat": 4,
 "nbformat_minor": 5
}

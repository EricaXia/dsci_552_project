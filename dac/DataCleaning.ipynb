{
 "cells": [
  {
   "cell_type": "markdown",
   "id": "earned-message",
   "metadata": {
    "id": "earned-message"
   },
   "source": [
    "# DSCI 552 Project\n",
    "### Data Preparation\n",
    "\n",
    "Data source:\n",
    "https://archive.ics.uci.edu/ml/datasets/Online+Shoppers+Purchasing+Intention+Dataset\n",
    "\n",
    "SHAP:\n",
    "https://shap.readthedocs.io/en/latest/index.html\n",
    "\n",
    "----\n",
    "\n",
    "## TODO List:\n",
    "- [ ] New SMOTE method\n",
    "- [x] Scale all numerical data\n",
    "- [ ] DAC and SHAP together modeling for each model\n",
    "- [ ] Start compiling results from each model\n"
   ]
  },
  {
   "cell_type": "code",
   "execution_count": 20,
   "id": "smart-danger",
   "metadata": {
    "executionInfo": {
     "elapsed": 289,
     "status": "ok",
     "timestamp": 1617218182837,
     "user": {
      "displayName": "Erica Xia",
      "photoUrl": "",
      "userId": "11118481034532138781"
     },
     "user_tz": 420
    },
    "id": "smart-danger"
   },
   "outputs": [],
   "source": [
    "import numpy as np\n",
    "import pandas as pd\n",
    "import matplotlib.pyplot as plt\n",
    "from matplotlib.colors import ListedColormap\n",
    "import pprint\n",
    "import warnings\n",
    "from collections import Counter\n",
    "\n",
    "# data preprocessing\n",
    "import sklearn\n",
    "from sklearn.impute import SimpleImputer\n",
    "from sklearn.pipeline import Pipeline, TransformerMixin\n",
    "from imblearn.over_sampling import SMOTE  # try for imbalanced classes\n",
    "from sklearn.preprocessing import StandardScaler, OneHotEncoder, LabelEncoder\n",
    "from sklearn.compose import ColumnTransformer\n",
    "from sklearn.neighbors import LocalOutlierFactor\n",
    "from sklearn.model_selection import train_test_split, cross_val_score, RandomizedSearchCV\n",
    "\n",
    "# classification models\n",
    "from sklearn.linear_model import LogisticRegression\n",
    "from sklearn.naive_bayes import GaussianNB\n",
    "from sklearn.tree import DecisionTreeClassifier\n",
    "from sklearn.ensemble import (\n",
    "    RandomForestClassifier,\n",
    "    ExtraTreesClassifier,\n",
    "    AdaBoostClassifier,\n",
    "    GradientBoostingClassifier,\n",
    ")\n",
    "\n",
    "# metrics\n",
    "from sklearn.metrics import accuracy_score, auc, roc_auc_score, classification_report\n",
    "\n",
    "from google.colab import files"
   ]
  },
  {
   "cell_type": "code",
   "execution_count": 6,
   "id": "compact-above",
   "metadata": {
    "executionInfo": {
     "elapsed": 307,
     "status": "ok",
     "timestamp": 1617218137392,
     "user": {
      "displayName": "Erica Xia",
      "photoUrl": "",
      "userId": "11118481034532138781"
     },
     "user_tz": 420
    },
    "id": "compact-above"
   },
   "outputs": [],
   "source": [
    "# import shap\n",
    "# shap.initjs()\n",
    "# shap.__version__"
   ]
  },
  {
   "cell_type": "code",
   "execution_count": 7,
   "id": "FW8Gy7PEpvcA",
   "metadata": {
    "executionInfo": {
     "elapsed": 390,
     "status": "ok",
     "timestamp": 1617218138503,
     "user": {
      "displayName": "Erica Xia",
      "photoUrl": "",
      "userId": "11118481034532138781"
     },
     "user_tz": 420
    },
    "id": "FW8Gy7PEpvcA"
   },
   "outputs": [],
   "source": [
    "## Helper function to get feature names after Column Transformer\n",
    "\"\"\"\n",
    "Code used from\n",
    "https://johaupt.github.io/scikit-\n",
    "learn/tutorial/python/data%20processing/ml%20pipeline/model%20interpretation/columnTransformer_feature_names.html\n",
    "See reference in technical report for full citation.\n",
    "\"\"\"\n",
    "\n",
    "def get_feature_names(column_transformer):\n",
    "    \"\"\"Get feature names from all transformers.\n",
    "    Returns\n",
    "    -------\n",
    "    feature_names : list of strings\n",
    "        Names of the features produced by transform.\n",
    "    \"\"\"\n",
    "    # Remove the internal helper function\n",
    "    #check_is_fitted(column_transformer)\n",
    "    \n",
    "    # Turn loopkup into function for better handling with pipeline later\n",
    "    def get_names(trans):\n",
    "        # >> Original get_feature_names() method\n",
    "        if trans == 'drop' or (\n",
    "                hasattr(column, '__len__') and not len(column)):\n",
    "            return []\n",
    "        if trans == 'passthrough':\n",
    "            if hasattr(column_transformer, '_df_columns'):\n",
    "                if ((not isinstance(column, slice))\n",
    "                        and all(isinstance(col, str) for col in column)):\n",
    "                    return column\n",
    "                else:\n",
    "                    return column_transformer._df_columns[column]\n",
    "            else:\n",
    "                indices = np.arange(column_transformer._n_features)\n",
    "                return ['x%d' % i for i in indices[column]]\n",
    "        if not hasattr(trans, 'get_feature_names'):\n",
    "        # >>> Change: Return input column names if no method avaiable\n",
    "            # Turn error into a warning\n",
    "            warnings.warn(\"Transformer %s (type %s) does not \"\n",
    "                                 \"provide get_feature_names. \"\n",
    "                                 \"Will return input column names if available\"\n",
    "                                 % (str(name), type(trans).__name__))\n",
    "            # For transformers without a get_features_names method, use the input\n",
    "            # names to the column transformer\n",
    "            if column is None:\n",
    "                return []\n",
    "            else:\n",
    "                return [name + \"__\" + f for f in column]\n",
    "\n",
    "        return [name + \"__\" + f for f in trans.get_feature_names()]\n",
    "    \n",
    "    ### Start of processing\n",
    "    feature_names = []\n",
    "    \n",
    "    # Allow transformers to be pipelines. Pipeline steps are named differently, so preprocessing is needed\n",
    "    if type(column_transformer) == sklearn.pipeline.Pipeline:\n",
    "        l_transformers = [(name, trans, None, None) for step, name, trans in column_transformer._iter()]\n",
    "    else:\n",
    "        # For column transformers, follow the original method\n",
    "        l_transformers = list(column_transformer._iter(fitted=True))\n",
    "    \n",
    "    \n",
    "    for name, trans, column, _ in l_transformers: \n",
    "        if type(trans) == sklearn.pipeline.Pipeline:\n",
    "            # Recursive call on pipeline\n",
    "            _names = get_feature_names(trans)\n",
    "            # if pipeline has no transformer that returns names\n",
    "            if len(_names)==0:\n",
    "                _names = [name + \"__\" + f for f in column]\n",
    "            feature_names.extend(_names)\n",
    "        else:\n",
    "            feature_names.extend(get_names(trans))\n",
    "    \n",
    "    return feature_names"
   ]
  },
  {
   "cell_type": "code",
   "execution_count": 8,
   "id": "sweet-library",
   "metadata": {
    "colab": {
     "base_uri": "https://localhost:8080/",
     "height": 452
    },
    "executionInfo": {
     "elapsed": 1014,
     "status": "ok",
     "timestamp": 1617218139661,
     "user": {
      "displayName": "Erica Xia",
      "photoUrl": "",
      "userId": "11118481034532138781"
     },
     "user_tz": 420
    },
    "id": "sweet-library",
    "outputId": "d00bad01-ea86-4fe0-8df8-ac5c1aee452d"
   },
   "outputs": [
    {
     "name": "stdout",
     "output_type": "stream",
     "text": [
      "--2021-03-31 19:15:38--  https://github.com/EricaXia/dsci_552_project/raw/main/data/online_shoppers_intention.csv\n",
      "Resolving github.com (github.com)... 140.82.114.3\n",
      "Connecting to github.com (github.com)|140.82.114.3|:443... connected.\n",
      "HTTP request sent, awaiting response... 302 Found\n",
      "Location: https://raw.githubusercontent.com/EricaXia/dsci_552_project/main/data/online_shoppers_intention.csv [following]\n",
      "--2021-03-31 19:15:39--  https://raw.githubusercontent.com/EricaXia/dsci_552_project/main/data/online_shoppers_intention.csv\n",
      "Resolving raw.githubusercontent.com (raw.githubusercontent.com)... 185.199.111.133, 185.199.108.133, 185.199.109.133, ...\n",
      "Connecting to raw.githubusercontent.com (raw.githubusercontent.com)|185.199.111.133|:443... connected.\n",
      "HTTP request sent, awaiting response... 200 OK\n",
      "Length: 1059732 (1.0M) [text/plain]\n",
      "Saving to: ‘online_shoppers_intention.csv.1’\n",
      "\n",
      "online_shoppers_int 100%[===================>]   1.01M  --.-KB/s    in 0.08s   \n",
      "\n",
      "2021-03-31 19:15:39 (13.2 MB/s) - ‘online_shoppers_intention.csv.1’ saved [1059732/1059732]\n",
      "\n",
      "(12330, 18)\n"
     ]
    },
    {
     "data": {
      "text/html": [
       "<div>\n",
       "<style scoped>\n",
       "    .dataframe tbody tr th:only-of-type {\n",
       "        vertical-align: middle;\n",
       "    }\n",
       "\n",
       "    .dataframe tbody tr th {\n",
       "        vertical-align: top;\n",
       "    }\n",
       "\n",
       "    .dataframe thead th {\n",
       "        text-align: right;\n",
       "    }\n",
       "</style>\n",
       "<table border=\"1\" class=\"dataframe\">\n",
       "  <thead>\n",
       "    <tr style=\"text-align: right;\">\n",
       "      <th></th>\n",
       "      <th>Administrative</th>\n",
       "      <th>Administrative_Duration</th>\n",
       "      <th>Informational</th>\n",
       "      <th>Informational_Duration</th>\n",
       "      <th>ProductRelated</th>\n",
       "      <th>ProductRelated_Duration</th>\n",
       "      <th>BounceRates</th>\n",
       "      <th>ExitRates</th>\n",
       "      <th>PageValues</th>\n",
       "      <th>SpecialDay</th>\n",
       "      <th>Month</th>\n",
       "      <th>OperatingSystems</th>\n",
       "      <th>Browser</th>\n",
       "      <th>Region</th>\n",
       "      <th>TrafficType</th>\n",
       "      <th>VisitorType</th>\n",
       "      <th>Weekend</th>\n",
       "      <th>Revenue</th>\n",
       "    </tr>\n",
       "  </thead>\n",
       "  <tbody>\n",
       "    <tr>\n",
       "      <th>0</th>\n",
       "      <td>0</td>\n",
       "      <td>0.0</td>\n",
       "      <td>0</td>\n",
       "      <td>0.0</td>\n",
       "      <td>1</td>\n",
       "      <td>0.0</td>\n",
       "      <td>0.2</td>\n",
       "      <td>0.2</td>\n",
       "      <td>0.0</td>\n",
       "      <td>0.0</td>\n",
       "      <td>Feb</td>\n",
       "      <td>1</td>\n",
       "      <td>1</td>\n",
       "      <td>1</td>\n",
       "      <td>1</td>\n",
       "      <td>Returning_Visitor</td>\n",
       "      <td>False</td>\n",
       "      <td>False</td>\n",
       "    </tr>\n",
       "    <tr>\n",
       "      <th>1</th>\n",
       "      <td>0</td>\n",
       "      <td>0.0</td>\n",
       "      <td>0</td>\n",
       "      <td>0.0</td>\n",
       "      <td>2</td>\n",
       "      <td>64.0</td>\n",
       "      <td>0.0</td>\n",
       "      <td>0.1</td>\n",
       "      <td>0.0</td>\n",
       "      <td>0.0</td>\n",
       "      <td>Feb</td>\n",
       "      <td>2</td>\n",
       "      <td>2</td>\n",
       "      <td>1</td>\n",
       "      <td>2</td>\n",
       "      <td>Returning_Visitor</td>\n",
       "      <td>False</td>\n",
       "      <td>False</td>\n",
       "    </tr>\n",
       "    <tr>\n",
       "      <th>2</th>\n",
       "      <td>0</td>\n",
       "      <td>0.0</td>\n",
       "      <td>0</td>\n",
       "      <td>0.0</td>\n",
       "      <td>1</td>\n",
       "      <td>0.0</td>\n",
       "      <td>0.2</td>\n",
       "      <td>0.2</td>\n",
       "      <td>0.0</td>\n",
       "      <td>0.0</td>\n",
       "      <td>Feb</td>\n",
       "      <td>4</td>\n",
       "      <td>1</td>\n",
       "      <td>9</td>\n",
       "      <td>3</td>\n",
       "      <td>Returning_Visitor</td>\n",
       "      <td>False</td>\n",
       "      <td>False</td>\n",
       "    </tr>\n",
       "  </tbody>\n",
       "</table>\n",
       "</div>"
      ],
      "text/plain": [
       "   Administrative  Administrative_Duration  ...  Weekend  Revenue\n",
       "0               0                      0.0  ...    False    False\n",
       "1               0                      0.0  ...    False    False\n",
       "2               0                      0.0  ...    False    False\n",
       "\n",
       "[3 rows x 18 columns]"
      ]
     },
     "execution_count": 8,
     "metadata": {
      "tags": []
     },
     "output_type": "execute_result"
    }
   ],
   "source": [
    "!wget https://github.com/EricaXia/dsci_552_project/raw/main/data/online_shoppers_intention.csv\n",
    "df = pd.read_csv('online_shoppers_intention.csv')\n",
    "print(df.shape)\n",
    "df.head(3)"
   ]
  },
  {
   "cell_type": "markdown",
   "id": "domestic-resistance",
   "metadata": {
    "id": "domestic-resistance"
   },
   "source": [
    "Target variable to predict is **Revenue**"
   ]
  },
  {
   "cell_type": "code",
   "execution_count": 9,
   "id": "finite-metabolism",
   "metadata": {
    "colab": {
     "base_uri": "https://localhost:8080/",
     "height": 308
    },
    "executionInfo": {
     "elapsed": 541,
     "status": "ok",
     "timestamp": 1617218141541,
     "user": {
      "displayName": "Erica Xia",
      "photoUrl": "",
      "userId": "11118481034532138781"
     },
     "user_tz": 420
    },
    "id": "finite-metabolism",
    "outputId": "d9de0e7e-6cf5-45c2-bf75-f8576a042342"
   },
   "outputs": [
    {
     "data": {
      "text/html": [
       "<div>\n",
       "<style scoped>\n",
       "    .dataframe tbody tr th:only-of-type {\n",
       "        vertical-align: middle;\n",
       "    }\n",
       "\n",
       "    .dataframe tbody tr th {\n",
       "        vertical-align: top;\n",
       "    }\n",
       "\n",
       "    .dataframe thead th {\n",
       "        text-align: right;\n",
       "    }\n",
       "</style>\n",
       "<table border=\"1\" class=\"dataframe\">\n",
       "  <thead>\n",
       "    <tr style=\"text-align: right;\">\n",
       "      <th></th>\n",
       "      <th>Administrative</th>\n",
       "      <th>Administrative_Duration</th>\n",
       "      <th>Informational</th>\n",
       "      <th>Informational_Duration</th>\n",
       "      <th>ProductRelated</th>\n",
       "      <th>ProductRelated_Duration</th>\n",
       "      <th>BounceRates</th>\n",
       "      <th>ExitRates</th>\n",
       "      <th>PageValues</th>\n",
       "      <th>SpecialDay</th>\n",
       "      <th>OperatingSystems</th>\n",
       "      <th>Browser</th>\n",
       "      <th>Region</th>\n",
       "      <th>TrafficType</th>\n",
       "    </tr>\n",
       "  </thead>\n",
       "  <tbody>\n",
       "    <tr>\n",
       "      <th>count</th>\n",
       "      <td>12330.000000</td>\n",
       "      <td>12330.000000</td>\n",
       "      <td>12330.000000</td>\n",
       "      <td>12330.000000</td>\n",
       "      <td>12330.000000</td>\n",
       "      <td>12330.000000</td>\n",
       "      <td>12330.000000</td>\n",
       "      <td>12330.000000</td>\n",
       "      <td>12330.000000</td>\n",
       "      <td>12330.000000</td>\n",
       "      <td>12330.000000</td>\n",
       "      <td>12330.000000</td>\n",
       "      <td>12330.000000</td>\n",
       "      <td>12330.000000</td>\n",
       "    </tr>\n",
       "    <tr>\n",
       "      <th>mean</th>\n",
       "      <td>2.315166</td>\n",
       "      <td>80.818611</td>\n",
       "      <td>0.503569</td>\n",
       "      <td>34.472398</td>\n",
       "      <td>31.731468</td>\n",
       "      <td>1194.746220</td>\n",
       "      <td>0.022191</td>\n",
       "      <td>0.043073</td>\n",
       "      <td>5.889258</td>\n",
       "      <td>0.061427</td>\n",
       "      <td>2.124006</td>\n",
       "      <td>2.357097</td>\n",
       "      <td>3.147364</td>\n",
       "      <td>4.069586</td>\n",
       "    </tr>\n",
       "    <tr>\n",
       "      <th>std</th>\n",
       "      <td>3.321784</td>\n",
       "      <td>176.779107</td>\n",
       "      <td>1.270156</td>\n",
       "      <td>140.749294</td>\n",
       "      <td>44.475503</td>\n",
       "      <td>1913.669288</td>\n",
       "      <td>0.048488</td>\n",
       "      <td>0.048597</td>\n",
       "      <td>18.568437</td>\n",
       "      <td>0.198917</td>\n",
       "      <td>0.911325</td>\n",
       "      <td>1.717277</td>\n",
       "      <td>2.401591</td>\n",
       "      <td>4.025169</td>\n",
       "    </tr>\n",
       "    <tr>\n",
       "      <th>min</th>\n",
       "      <td>0.000000</td>\n",
       "      <td>0.000000</td>\n",
       "      <td>0.000000</td>\n",
       "      <td>0.000000</td>\n",
       "      <td>0.000000</td>\n",
       "      <td>0.000000</td>\n",
       "      <td>0.000000</td>\n",
       "      <td>0.000000</td>\n",
       "      <td>0.000000</td>\n",
       "      <td>0.000000</td>\n",
       "      <td>1.000000</td>\n",
       "      <td>1.000000</td>\n",
       "      <td>1.000000</td>\n",
       "      <td>1.000000</td>\n",
       "    </tr>\n",
       "    <tr>\n",
       "      <th>25%</th>\n",
       "      <td>0.000000</td>\n",
       "      <td>0.000000</td>\n",
       "      <td>0.000000</td>\n",
       "      <td>0.000000</td>\n",
       "      <td>7.000000</td>\n",
       "      <td>184.137500</td>\n",
       "      <td>0.000000</td>\n",
       "      <td>0.014286</td>\n",
       "      <td>0.000000</td>\n",
       "      <td>0.000000</td>\n",
       "      <td>2.000000</td>\n",
       "      <td>2.000000</td>\n",
       "      <td>1.000000</td>\n",
       "      <td>2.000000</td>\n",
       "    </tr>\n",
       "    <tr>\n",
       "      <th>50%</th>\n",
       "      <td>1.000000</td>\n",
       "      <td>7.500000</td>\n",
       "      <td>0.000000</td>\n",
       "      <td>0.000000</td>\n",
       "      <td>18.000000</td>\n",
       "      <td>598.936905</td>\n",
       "      <td>0.003112</td>\n",
       "      <td>0.025156</td>\n",
       "      <td>0.000000</td>\n",
       "      <td>0.000000</td>\n",
       "      <td>2.000000</td>\n",
       "      <td>2.000000</td>\n",
       "      <td>3.000000</td>\n",
       "      <td>2.000000</td>\n",
       "    </tr>\n",
       "    <tr>\n",
       "      <th>75%</th>\n",
       "      <td>4.000000</td>\n",
       "      <td>93.256250</td>\n",
       "      <td>0.000000</td>\n",
       "      <td>0.000000</td>\n",
       "      <td>38.000000</td>\n",
       "      <td>1464.157213</td>\n",
       "      <td>0.016813</td>\n",
       "      <td>0.050000</td>\n",
       "      <td>0.000000</td>\n",
       "      <td>0.000000</td>\n",
       "      <td>3.000000</td>\n",
       "      <td>2.000000</td>\n",
       "      <td>4.000000</td>\n",
       "      <td>4.000000</td>\n",
       "    </tr>\n",
       "    <tr>\n",
       "      <th>max</th>\n",
       "      <td>27.000000</td>\n",
       "      <td>3398.750000</td>\n",
       "      <td>24.000000</td>\n",
       "      <td>2549.375000</td>\n",
       "      <td>705.000000</td>\n",
       "      <td>63973.522230</td>\n",
       "      <td>0.200000</td>\n",
       "      <td>0.200000</td>\n",
       "      <td>361.763742</td>\n",
       "      <td>1.000000</td>\n",
       "      <td>8.000000</td>\n",
       "      <td>13.000000</td>\n",
       "      <td>9.000000</td>\n",
       "      <td>20.000000</td>\n",
       "    </tr>\n",
       "  </tbody>\n",
       "</table>\n",
       "</div>"
      ],
      "text/plain": [
       "       Administrative  Administrative_Duration  ...        Region   TrafficType\n",
       "count    12330.000000             12330.000000  ...  12330.000000  12330.000000\n",
       "mean         2.315166                80.818611  ...      3.147364      4.069586\n",
       "std          3.321784               176.779107  ...      2.401591      4.025169\n",
       "min          0.000000                 0.000000  ...      1.000000      1.000000\n",
       "25%          0.000000                 0.000000  ...      1.000000      2.000000\n",
       "50%          1.000000                 7.500000  ...      3.000000      2.000000\n",
       "75%          4.000000                93.256250  ...      4.000000      4.000000\n",
       "max         27.000000              3398.750000  ...      9.000000     20.000000\n",
       "\n",
       "[8 rows x 14 columns]"
      ]
     },
     "execution_count": 9,
     "metadata": {
      "tags": []
     },
     "output_type": "execute_result"
    }
   ],
   "source": [
    "df.describe()"
   ]
  },
  {
   "cell_type": "code",
   "execution_count": 10,
   "id": "leading-doctrine",
   "metadata": {
    "colab": {
     "base_uri": "https://localhost:8080/"
    },
    "executionInfo": {
     "elapsed": 209,
     "status": "ok",
     "timestamp": 1617218141668,
     "user": {
      "displayName": "Erica Xia",
      "photoUrl": "",
      "userId": "11118481034532138781"
     },
     "user_tz": 420
    },
    "id": "leading-doctrine",
    "outputId": "d1f5952c-8fef-47a1-c54c-9625b4ffdfaa"
   },
   "outputs": [
    {
     "name": "stdout",
     "output_type": "stream",
     "text": [
      "False    10422\n",
      "True      1908\n",
      "Name: Revenue, dtype: int64\n",
      "85.0% False\n",
      "15.0% True\n"
     ]
    }
   ],
   "source": [
    "# class label counts for Revenue\n",
    "counts = df.iloc[:,-1].value_counts()\n",
    "print(counts)\n",
    "n_false = counts.iloc[0]\n",
    "n_true = counts.iloc[1]\n",
    "total = n_false + n_true\n",
    "print(f\"{round(n_false / total, 2) * 100}% False\") \n",
    "print(f\"{round(n_true / total, 2) * 100}% True\")"
   ]
  },
  {
   "cell_type": "markdown",
   "id": "general-preserve",
   "metadata": {
    "id": "general-preserve"
   },
   "source": [
    "# Data Cleaning:\n",
    "1. Encoding categorical or boolean variables"
   ]
  },
  {
   "cell_type": "code",
   "execution_count": 11,
   "id": "urban-survival",
   "metadata": {
    "executionInfo": {
     "elapsed": 304,
     "status": "ok",
     "timestamp": 1617218142662,
     "user": {
      "displayName": "Erica Xia",
      "photoUrl": "",
      "userId": "11118481034532138781"
     },
     "user_tz": 420
    },
    "id": "urban-survival"
   },
   "outputs": [],
   "source": [
    "## encode target variable using LabelEncoder (so the target var stays in 1 col and not 2)\n",
    "labeler = LabelEncoder()\n",
    "df['Revenue'] = labeler.fit_transform(df['Revenue'])"
   ]
  },
  {
   "cell_type": "code",
   "execution_count": 12,
   "id": "robust-whale",
   "metadata": {
    "colab": {
     "base_uri": "https://localhost:8080/"
    },
    "executionInfo": {
     "elapsed": 303,
     "status": "ok",
     "timestamp": 1617218143623,
     "user": {
      "displayName": "Erica Xia",
      "photoUrl": "",
      "userId": "11118481034532138781"
     },
     "user_tz": 420
    },
    "id": "robust-whale",
    "outputId": "89ce87c6-ab94-400b-fb46-4056617ea63e"
   },
   "outputs": [
    {
     "name": "stdout",
     "output_type": "stream",
     "text": [
      "Categorical: ['Month', 'VisitorType', 'Weekend']\n",
      "Numerical: Index(['Administrative', 'Administrative_Duration', 'Informational',\n",
      "       'Informational_Duration', 'ProductRelated', 'ProductRelated_Duration',\n",
      "       'BounceRates', 'ExitRates', 'PageValues', 'SpecialDay',\n",
      "       'OperatingSystems', 'Browser', 'Region', 'TrafficType', 'Revenue'],\n",
      "      dtype='object')\n"
     ]
    }
   ],
   "source": [
    "cat_cols = list(df.select_dtypes(include=['object', 'bool']).columns)\n",
    "num_cols = df.select_dtypes(include=['float64', 'int64']).columns\n",
    "print(\"Categorical:\", cat_cols)\n",
    "print(\"Numerical:\", num_cols)"
   ]
  },
  {
   "cell_type": "code",
   "execution_count": 13,
   "id": "protecting-spanish",
   "metadata": {
    "executionInfo": {
     "elapsed": 291,
     "status": "ok",
     "timestamp": 1617218144176,
     "user": {
      "displayName": "Erica Xia",
      "photoUrl": "",
      "userId": "11118481034532138781"
     },
     "user_tz": 420
    },
    "id": "protecting-spanish"
   },
   "outputs": [],
   "source": [
    "## Transform pipeline\n",
    "num_pipeline = Pipeline([\n",
    "    ('imputer', SimpleImputer(strategy='median')), \n",
    "    ('std_scaler', StandardScaler()),  ## standardize num input\n",
    "])\n",
    "\n",
    "pipeline = ColumnTransformer([\n",
    "    (\"numerical\", num_pipeline, num_cols),\n",
    "    (\"categorical\", OneHotEncoder(), cat_cols)\n",
    "])"
   ]
  },
  {
   "cell_type": "code",
   "execution_count": 14,
   "id": "knowing-richards",
   "metadata": {
    "colab": {
     "base_uri": "https://localhost:8080/"
    },
    "executionInfo": {
     "elapsed": 274,
     "status": "ok",
     "timestamp": 1617218144715,
     "user": {
      "displayName": "Erica Xia",
      "photoUrl": "",
      "userId": "11118481034532138781"
     },
     "user_tz": 420
    },
    "id": "knowing-richards",
    "outputId": "b47e7037-963b-4dd3-bec2-b86ea09abc07"
   },
   "outputs": [
    {
     "name": "stdout",
     "output_type": "stream",
     "text": [
      "(12330, 30)\n"
     ]
    }
   ],
   "source": [
    "arr = pipeline.fit_transform(df)  \n",
    "print(arr.shape) "
   ]
  },
  {
   "cell_type": "code",
   "execution_count": 15,
   "id": "multiple-species",
   "metadata": {
    "colab": {
     "base_uri": "https://localhost:8080/"
    },
    "executionInfo": {
     "elapsed": 325,
     "status": "ok",
     "timestamp": 1617218145245,
     "user": {
      "displayName": "Erica Xia",
      "photoUrl": "",
      "userId": "11118481034532138781"
     },
     "user_tz": 420
    },
    "id": "multiple-species",
    "outputId": "07695230-390b-4388-f631-61a4a5c6eade"
   },
   "outputs": [
    {
     "name": "stdout",
     "output_type": "stream",
     "text": [
      "30\n"
     ]
    },
    {
     "name": "stderr",
     "output_type": "stream",
     "text": [
      "/usr/local/lib/python3.7/dist-packages/ipykernel_launcher.py:41: UserWarning: Transformer imputer (type SimpleImputer) does not provide get_feature_names. Will return input column names if available\n",
      "/usr/local/lib/python3.7/dist-packages/ipykernel_launcher.py:41: UserWarning: Transformer std_scaler (type StandardScaler) does not provide get_feature_names. Will return input column names if available\n"
     ]
    }
   ],
   "source": [
    "feature_names = get_feature_names(pipeline)\n",
    "print(len(feature_names))\n",
    "feature_names2 = [x for x in feature_names if x != 'numerical__Revenue']"
   ]
  },
  {
   "cell_type": "markdown",
   "id": "arranged-publication",
   "metadata": {
    "id": "arranged-publication"
   },
   "source": [
    "## Fix class imbalance with SMOTE"
   ]
  },
  {
   "cell_type": "code",
   "execution_count": 16,
   "id": "accessory-junior",
   "metadata": {
    "colab": {
     "base_uri": "https://localhost:8080/",
     "height": 175
    },
    "executionInfo": {
     "elapsed": 291,
     "status": "ok",
     "timestamp": 1617218146432,
     "user": {
      "displayName": "Erica Xia",
      "photoUrl": "",
      "userId": "11118481034532138781"
     },
     "user_tz": 420
    },
    "id": "accessory-junior",
    "outputId": "70689efd-3a06-4502-be77-5b7ca795438c"
   },
   "outputs": [
    {
     "name": "stdout",
     "output_type": "stream",
     "text": [
      "(12330, 29)\n"
     ]
    },
    {
     "data": {
      "text/html": [
       "<div>\n",
       "<style scoped>\n",
       "    .dataframe tbody tr th:only-of-type {\n",
       "        vertical-align: middle;\n",
       "    }\n",
       "\n",
       "    .dataframe tbody tr th {\n",
       "        vertical-align: top;\n",
       "    }\n",
       "\n",
       "    .dataframe thead th {\n",
       "        text-align: right;\n",
       "    }\n",
       "</style>\n",
       "<table border=\"1\" class=\"dataframe\">\n",
       "  <thead>\n",
       "    <tr style=\"text-align: right;\">\n",
       "      <th></th>\n",
       "      <th>numerical__Administrative</th>\n",
       "      <th>numerical__Administrative_Duration</th>\n",
       "      <th>numerical__Informational</th>\n",
       "      <th>numerical__Informational_Duration</th>\n",
       "      <th>numerical__ProductRelated</th>\n",
       "      <th>numerical__ProductRelated_Duration</th>\n",
       "      <th>numerical__BounceRates</th>\n",
       "      <th>numerical__ExitRates</th>\n",
       "      <th>numerical__PageValues</th>\n",
       "      <th>numerical__SpecialDay</th>\n",
       "      <th>numerical__OperatingSystems</th>\n",
       "      <th>numerical__Browser</th>\n",
       "      <th>numerical__Region</th>\n",
       "      <th>numerical__TrafficType</th>\n",
       "      <th>numerical__Revenue</th>\n",
       "      <th>categorical__x0_Aug</th>\n",
       "      <th>categorical__x0_Dec</th>\n",
       "      <th>categorical__x0_Feb</th>\n",
       "      <th>categorical__x0_Jul</th>\n",
       "      <th>categorical__x0_June</th>\n",
       "      <th>categorical__x0_Mar</th>\n",
       "      <th>categorical__x0_May</th>\n",
       "      <th>categorical__x0_Nov</th>\n",
       "      <th>categorical__x0_Oct</th>\n",
       "      <th>categorical__x0_Sep</th>\n",
       "      <th>categorical__x1_New_Visitor</th>\n",
       "      <th>categorical__x1_Other</th>\n",
       "      <th>categorical__x1_Returning_Visitor</th>\n",
       "      <th>categorical__x2_True</th>\n",
       "    </tr>\n",
       "  </thead>\n",
       "  <tbody>\n",
       "    <tr>\n",
       "      <th>0</th>\n",
       "      <td>-0.696993</td>\n",
       "      <td>-0.457191</td>\n",
       "      <td>-0.396478</td>\n",
       "      <td>-0.244931</td>\n",
       "      <td>-0.691003</td>\n",
       "      <td>-0.624348</td>\n",
       "      <td>3.667189</td>\n",
       "      <td>3.229316</td>\n",
       "      <td>-0.317178</td>\n",
       "      <td>-0.308821</td>\n",
       "      <td>-1.233426</td>\n",
       "      <td>-0.790293</td>\n",
       "      <td>-0.894178</td>\n",
       "      <td>-0.762629</td>\n",
       "      <td>-0.427872</td>\n",
       "      <td>0.0</td>\n",
       "      <td>0.0</td>\n",
       "      <td>1.0</td>\n",
       "      <td>0.0</td>\n",
       "      <td>0.0</td>\n",
       "      <td>0.0</td>\n",
       "      <td>0.0</td>\n",
       "      <td>0.0</td>\n",
       "      <td>0.0</td>\n",
       "      <td>0.0</td>\n",
       "      <td>0.0</td>\n",
       "      <td>0.0</td>\n",
       "      <td>1.0</td>\n",
       "      <td>0.0</td>\n",
       "    </tr>\n",
       "    <tr>\n",
       "      <th>1</th>\n",
       "      <td>-0.696993</td>\n",
       "      <td>-0.457191</td>\n",
       "      <td>-0.396478</td>\n",
       "      <td>-0.244931</td>\n",
       "      <td>-0.668518</td>\n",
       "      <td>-0.590903</td>\n",
       "      <td>-0.457683</td>\n",
       "      <td>1.171473</td>\n",
       "      <td>-0.317178</td>\n",
       "      <td>-0.308821</td>\n",
       "      <td>-0.136078</td>\n",
       "      <td>-0.207952</td>\n",
       "      <td>-0.894178</td>\n",
       "      <td>-0.514182</td>\n",
       "      <td>-0.427872</td>\n",
       "      <td>0.0</td>\n",
       "      <td>0.0</td>\n",
       "      <td>1.0</td>\n",
       "      <td>0.0</td>\n",
       "      <td>0.0</td>\n",
       "      <td>0.0</td>\n",
       "      <td>0.0</td>\n",
       "      <td>0.0</td>\n",
       "      <td>0.0</td>\n",
       "      <td>0.0</td>\n",
       "      <td>0.0</td>\n",
       "      <td>0.0</td>\n",
       "      <td>1.0</td>\n",
       "      <td>0.0</td>\n",
       "    </tr>\n",
       "    <tr>\n",
       "      <th>2</th>\n",
       "      <td>-0.696993</td>\n",
       "      <td>-0.457191</td>\n",
       "      <td>-0.396478</td>\n",
       "      <td>-0.244931</td>\n",
       "      <td>-0.691003</td>\n",
       "      <td>-0.624348</td>\n",
       "      <td>3.667189</td>\n",
       "      <td>3.229316</td>\n",
       "      <td>-0.317178</td>\n",
       "      <td>-0.308821</td>\n",
       "      <td>2.058618</td>\n",
       "      <td>-0.790293</td>\n",
       "      <td>2.437081</td>\n",
       "      <td>-0.265735</td>\n",
       "      <td>-0.427872</td>\n",
       "      <td>0.0</td>\n",
       "      <td>0.0</td>\n",
       "      <td>1.0</td>\n",
       "      <td>0.0</td>\n",
       "      <td>0.0</td>\n",
       "      <td>0.0</td>\n",
       "      <td>0.0</td>\n",
       "      <td>0.0</td>\n",
       "      <td>0.0</td>\n",
       "      <td>0.0</td>\n",
       "      <td>0.0</td>\n",
       "      <td>0.0</td>\n",
       "      <td>1.0</td>\n",
       "      <td>0.0</td>\n",
       "    </tr>\n",
       "  </tbody>\n",
       "</table>\n",
       "</div>"
      ],
      "text/plain": [
       "   numerical__Administrative  ...  categorical__x2_True\n",
       "0                  -0.696993  ...                   0.0\n",
       "1                  -0.696993  ...                   0.0\n",
       "2                  -0.696993  ...                   0.0\n",
       "\n",
       "[3 rows x 29 columns]"
      ]
     },
     "execution_count": 16,
     "metadata": {
      "tags": []
     },
     "output_type": "execute_result"
    }
   ],
   "source": [
    "# transformed df\n",
    "df2 = pd.DataFrame(arr, columns=feature_names)\n",
    "\n",
    "# drop Weekend=False to avoid multicollinearity\n",
    "df2.drop('categorical__x2_False', axis=1, inplace=True)\n",
    "print(df2.shape)\n",
    "df2.head(3)"
   ]
  },
  {
   "cell_type": "code",
   "execution_count": 17,
   "id": "composite-provision",
   "metadata": {
    "colab": {
     "base_uri": "https://localhost:8080/"
    },
    "executionInfo": {
     "elapsed": 275,
     "status": "ok",
     "timestamp": 1617218150263,
     "user": {
      "displayName": "Erica Xia",
      "photoUrl": "",
      "userId": "11118481034532138781"
     },
     "user_tz": 420
    },
    "id": "composite-provision",
    "outputId": "9831534b-d73e-4633-de53-9678e074f47a"
   },
   "outputs": [
    {
     "name": "stdout",
     "output_type": "stream",
     "text": [
      "(8261, 28) (4069, 28) (8261,) (4069,)\n"
     ]
    }
   ],
   "source": [
    "## Train/Test split\n",
    "# Do this BEFORE oversampling so that some of the same examples won't be in both the train and the test sets\n",
    "X = df2.drop(['numerical__Revenue'], axis=1)\n",
    "y = df2['numerical__Revenue']\n",
    "\n",
    "X_train, X_test, y_train, y_test = train_test_split(\n",
    "    X, y, test_size=0.33, random_state=42\n",
    ")\n",
    "print(X_train.shape, X_test.shape, y_train.shape, y_test.shape)"
   ]
  },
  {
   "cell_type": "code",
   "execution_count": 18,
   "id": "least-weather",
   "metadata": {
    "colab": {
     "base_uri": "https://localhost:8080/"
    },
    "executionInfo": {
     "elapsed": 511,
     "status": "ok",
     "timestamp": 1617218153665,
     "user": {
      "displayName": "Erica Xia",
      "photoUrl": "",
      "userId": "11118481034532138781"
     },
     "user_tz": 420
    },
    "id": "least-weather",
    "outputId": "a3200422-e5f1-42d1-a85f-9d595b2e501b"
   },
   "outputs": [
    {
     "name": "stdout",
     "output_type": "stream",
     "text": [
      "(13972, 28) (6872, 28) (13972,) (6872,)\n"
     ]
    },
    {
     "name": "stderr",
     "output_type": "stream",
     "text": [
      "/usr/local/lib/python3.7/dist-packages/imblearn/utils/_validation.py:93: UserWarning: 'y' should be of types ('binary', 'multiclass', 'multilabel-indicator') only. Got continuous instead.\n",
      "  TARGET_KIND, type_of_target(y)))\n",
      "/usr/local/lib/python3.7/dist-packages/sklearn/utils/deprecation.py:87: FutureWarning: Function safe_indexing is deprecated; safe_indexing is deprecated in version 0.22 and will be removed in version 0.24.\n",
      "  warnings.warn(msg, category=FutureWarning)\n",
      "/usr/local/lib/python3.7/dist-packages/imblearn/utils/_validation.py:93: UserWarning: 'y' should be of types ('binary', 'multiclass', 'multilabel-indicator') only. Got continuous instead.\n",
      "  TARGET_KIND, type_of_target(y)))\n",
      "/usr/local/lib/python3.7/dist-packages/sklearn/utils/deprecation.py:87: FutureWarning: Function safe_indexing is deprecated; safe_indexing is deprecated in version 0.22 and will be removed in version 0.24.\n",
      "  warnings.warn(msg, category=FutureWarning)\n"
     ]
    }
   ],
   "source": [
    "# define X and Y\n",
    "# n_features = arr.shape[1]\n",
    "# X = arr[:, : n_features - 2]\n",
    "# y = arr[:, -1:]\n",
    "\n",
    "\n",
    "## SMOTE\n",
    "oversample = SMOTE()\n",
    "X_train, y_train = oversample.fit_resample(X_train, y_train)\n",
    "X_test, y_test = oversample.fit_resample(X_test, y_test)\n",
    "\n",
    "y_train, y_test = y_train.ravel(), y_test.ravel()\n",
    "print(X_train.shape, X_test.shape, y_train.shape, y_test.shape)"
   ]
  },
  {
   "cell_type": "code",
   "execution_count": 21,
   "id": "welsh-notice",
   "metadata": {
    "colab": {
     "base_uri": "https://localhost:8080/",
     "height": 17
    },
    "executionInfo": {
     "elapsed": 305,
     "status": "ok",
     "timestamp": 1617218188360,
     "user": {
      "displayName": "Erica Xia",
      "photoUrl": "",
      "userId": "11118481034532138781"
     },
     "user_tz": 420
    },
    "id": "welsh-notice",
    "outputId": "493a3d91-8fdb-4c63-ff40-c457c3402087"
   },
   "outputs": [
    {
     "data": {
      "application/javascript": [
       "\n",
       "    async function download(id, filename, size) {\n",
       "      if (!google.colab.kernel.accessAllowed) {\n",
       "        return;\n",
       "      }\n",
       "      const div = document.createElement('div');\n",
       "      const label = document.createElement('label');\n",
       "      label.textContent = `Downloading \"${filename}\": `;\n",
       "      div.appendChild(label);\n",
       "      const progress = document.createElement('progress');\n",
       "      progress.max = size;\n",
       "      div.appendChild(progress);\n",
       "      document.body.appendChild(div);\n",
       "\n",
       "      const buffers = [];\n",
       "      let downloaded = 0;\n",
       "\n",
       "      const channel = await google.colab.kernel.comms.open(id);\n",
       "      // Send a message to notify the kernel that we're ready.\n",
       "      channel.send({})\n",
       "\n",
       "      for await (const message of channel.messages) {\n",
       "        // Send a message to notify the kernel that we're ready.\n",
       "        channel.send({})\n",
       "        if (message.buffers) {\n",
       "          for (const buffer of message.buffers) {\n",
       "            buffers.push(buffer);\n",
       "            downloaded += buffer.byteLength;\n",
       "            progress.value = downloaded;\n",
       "          }\n",
       "        }\n",
       "      }\n",
       "      const blob = new Blob(buffers, {type: 'application/binary'});\n",
       "      const a = document.createElement('a');\n",
       "      a.href = window.URL.createObjectURL(blob);\n",
       "      a.download = filename;\n",
       "      div.appendChild(a);\n",
       "      a.click();\n",
       "      div.remove();\n",
       "    }\n",
       "  "
      ],
      "text/plain": [
       "<IPython.core.display.Javascript object>"
      ]
     },
     "metadata": {
      "tags": []
     },
     "output_type": "display_data"
    },
    {
     "data": {
      "application/javascript": [
       "download(\"download_da23bf1a-18bf-42df-904a-bc5ff2e952ef\", \"X_train.npy\", 3129856)"
      ],
      "text/plain": [
       "<IPython.core.display.Javascript object>"
      ]
     },
     "metadata": {
      "tags": []
     },
     "output_type": "display_data"
    },
    {
     "data": {
      "application/javascript": [
       "\n",
       "    async function download(id, filename, size) {\n",
       "      if (!google.colab.kernel.accessAllowed) {\n",
       "        return;\n",
       "      }\n",
       "      const div = document.createElement('div');\n",
       "      const label = document.createElement('label');\n",
       "      label.textContent = `Downloading \"${filename}\": `;\n",
       "      div.appendChild(label);\n",
       "      const progress = document.createElement('progress');\n",
       "      progress.max = size;\n",
       "      div.appendChild(progress);\n",
       "      document.body.appendChild(div);\n",
       "\n",
       "      const buffers = [];\n",
       "      let downloaded = 0;\n",
       "\n",
       "      const channel = await google.colab.kernel.comms.open(id);\n",
       "      // Send a message to notify the kernel that we're ready.\n",
       "      channel.send({})\n",
       "\n",
       "      for await (const message of channel.messages) {\n",
       "        // Send a message to notify the kernel that we're ready.\n",
       "        channel.send({})\n",
       "        if (message.buffers) {\n",
       "          for (const buffer of message.buffers) {\n",
       "            buffers.push(buffer);\n",
       "            downloaded += buffer.byteLength;\n",
       "            progress.value = downloaded;\n",
       "          }\n",
       "        }\n",
       "      }\n",
       "      const blob = new Blob(buffers, {type: 'application/binary'});\n",
       "      const a = document.createElement('a');\n",
       "      a.href = window.URL.createObjectURL(blob);\n",
       "      a.download = filename;\n",
       "      div.appendChild(a);\n",
       "      a.click();\n",
       "      div.remove();\n",
       "    }\n",
       "  "
      ],
      "text/plain": [
       "<IPython.core.display.Javascript object>"
      ]
     },
     "metadata": {
      "tags": []
     },
     "output_type": "display_data"
    },
    {
     "data": {
      "application/javascript": [
       "download(\"download_3e90cffd-7eee-417a-a287-6f37115864ab\", \"X_test.npy\", 1539456)"
      ],
      "text/plain": [
       "<IPython.core.display.Javascript object>"
      ]
     },
     "metadata": {
      "tags": []
     },
     "output_type": "display_data"
    },
    {
     "data": {
      "application/javascript": [
       "\n",
       "    async function download(id, filename, size) {\n",
       "      if (!google.colab.kernel.accessAllowed) {\n",
       "        return;\n",
       "      }\n",
       "      const div = document.createElement('div');\n",
       "      const label = document.createElement('label');\n",
       "      label.textContent = `Downloading \"${filename}\": `;\n",
       "      div.appendChild(label);\n",
       "      const progress = document.createElement('progress');\n",
       "      progress.max = size;\n",
       "      div.appendChild(progress);\n",
       "      document.body.appendChild(div);\n",
       "\n",
       "      const buffers = [];\n",
       "      let downloaded = 0;\n",
       "\n",
       "      const channel = await google.colab.kernel.comms.open(id);\n",
       "      // Send a message to notify the kernel that we're ready.\n",
       "      channel.send({})\n",
       "\n",
       "      for await (const message of channel.messages) {\n",
       "        // Send a message to notify the kernel that we're ready.\n",
       "        channel.send({})\n",
       "        if (message.buffers) {\n",
       "          for (const buffer of message.buffers) {\n",
       "            buffers.push(buffer);\n",
       "            downloaded += buffer.byteLength;\n",
       "            progress.value = downloaded;\n",
       "          }\n",
       "        }\n",
       "      }\n",
       "      const blob = new Blob(buffers, {type: 'application/binary'});\n",
       "      const a = document.createElement('a');\n",
       "      a.href = window.URL.createObjectURL(blob);\n",
       "      a.download = filename;\n",
       "      div.appendChild(a);\n",
       "      a.click();\n",
       "      div.remove();\n",
       "    }\n",
       "  "
      ],
      "text/plain": [
       "<IPython.core.display.Javascript object>"
      ]
     },
     "metadata": {
      "tags": []
     },
     "output_type": "display_data"
    },
    {
     "data": {
      "application/javascript": [
       "download(\"download_c85fc9bd-bfe8-4abe-af02-66e67fe35da0\", \"y_train.npy\", 111904)"
      ],
      "text/plain": [
       "<IPython.core.display.Javascript object>"
      ]
     },
     "metadata": {
      "tags": []
     },
     "output_type": "display_data"
    },
    {
     "data": {
      "application/javascript": [
       "\n",
       "    async function download(id, filename, size) {\n",
       "      if (!google.colab.kernel.accessAllowed) {\n",
       "        return;\n",
       "      }\n",
       "      const div = document.createElement('div');\n",
       "      const label = document.createElement('label');\n",
       "      label.textContent = `Downloading \"${filename}\": `;\n",
       "      div.appendChild(label);\n",
       "      const progress = document.createElement('progress');\n",
       "      progress.max = size;\n",
       "      div.appendChild(progress);\n",
       "      document.body.appendChild(div);\n",
       "\n",
       "      const buffers = [];\n",
       "      let downloaded = 0;\n",
       "\n",
       "      const channel = await google.colab.kernel.comms.open(id);\n",
       "      // Send a message to notify the kernel that we're ready.\n",
       "      channel.send({})\n",
       "\n",
       "      for await (const message of channel.messages) {\n",
       "        // Send a message to notify the kernel that we're ready.\n",
       "        channel.send({})\n",
       "        if (message.buffers) {\n",
       "          for (const buffer of message.buffers) {\n",
       "            buffers.push(buffer);\n",
       "            downloaded += buffer.byteLength;\n",
       "            progress.value = downloaded;\n",
       "          }\n",
       "        }\n",
       "      }\n",
       "      const blob = new Blob(buffers, {type: 'application/binary'});\n",
       "      const a = document.createElement('a');\n",
       "      a.href = window.URL.createObjectURL(blob);\n",
       "      a.download = filename;\n",
       "      div.appendChild(a);\n",
       "      a.click();\n",
       "      div.remove();\n",
       "    }\n",
       "  "
      ],
      "text/plain": [
       "<IPython.core.display.Javascript object>"
      ]
     },
     "metadata": {
      "tags": []
     },
     "output_type": "display_data"
    },
    {
     "data": {
      "application/javascript": [
       "download(\"download_9fc924d4-3cd9-4d4d-8bfc-1f4bfdf6f207\", \"y_test.npy\", 55104)"
      ],
      "text/plain": [
       "<IPython.core.display.Javascript object>"
      ]
     },
     "metadata": {
      "tags": []
     },
     "output_type": "display_data"
    }
   ],
   "source": [
    "## Save arrays for other models use in other notebooks\n",
    "## This just saves locally, can upload to Github, etc later\n",
    "\n",
    "with open('X_train.npy', 'wb') as f:\n",
    "    np.save(f, X_train)\n",
    "files.download('X_train.npy')\n",
    "with open('X_test.npy', 'wb') as f:\n",
    "    np.save(f, X_test)\n",
    "files.download('X_test.npy')\n",
    "with open('y_train.npy', 'wb') as f:\n",
    "    np.save(f, y_train)\n",
    "files.download('y_train.npy')\n",
    "with open('y_test.npy', 'wb') as f:\n",
    "    np.save(f, y_test)\n",
    "files.download('y_test.npy')"
   ]
  }
 ],
 "metadata": {
  "colab": {
   "collapsed_sections": [],
   "name": "DataCleaning.ipynb",
   "provenance": []
  },
  "kernelspec": {
   "display_name": "Python 3",
   "language": "python",
   "name": "python3"
  },
  "language_info": {
   "codemirror_mode": {
    "name": "ipython",
    "version": 3
   },
   "file_extension": ".py",
   "mimetype": "text/x-python",
   "name": "python",
   "nbconvert_exporter": "python",
   "pygments_lexer": "ipython3",
   "version": "3.8.6"
  }
 },
 "nbformat": 4,
 "nbformat_minor": 5
}

{
 "cells": [
  {
   "cell_type": "code",
   "execution_count": 1,
   "id": "imposed-routine",
   "metadata": {},
   "outputs": [],
   "source": [
    "import pandas as pd\n",
    "from pandas.plotting import scatter_matrix\n",
    "import matplotlib.pyplot as plt\n",
    "import seaborn as sns\n",
    "import numpy as np\n",
    "\n",
    "from sklearn.pipeline import Pipeline\n",
    "from sklearn.preprocessing import StandardScaler\n",
    "from sklearn.preprocessing import OneHotEncoder\n",
    "from sklearn.compose import ColumnTransformer\n",
    "from sklearn.model_selection import train_test_split, cross_val_score\n",
    "\n",
    "from sklearn.linear_model import LogisticRegression\n",
    "from statsmodels.stats.outliers_influence import variance_inflation_factor\n",
    "from scipy.stats.stats import pearsonr\n",
    "from scipy.stats import norm\n",
    "\n",
    "from sklearn.ensemble import RandomForestClassifier\n",
    "from sklearn.ensemble import AdaBoostClassifier\n",
    "from sklearn.model_selection import RandomizedSearchCV\n",
    "#from sklearn.model_selection import GridSearchCV\n",
    "from sklearn.model_selection import cross_validate\n",
    "\n",
    "from sklearn.metrics import classification_report, confusion_matrix, accuracy_score\n",
    "from sklearn.metrics import roc_auc_score\n",
    "from sklearn.metrics import f1_score\n",
    "from sklearn.metrics import precision_score"
   ]
  },
  {
   "cell_type": "markdown",
   "id": "thermal-reservoir",
   "metadata": {},
   "source": [
    "## Loading Data"
   ]
  },
  {
   "cell_type": "code",
   "execution_count": 2,
   "id": "auburn-praise",
   "metadata": {},
   "outputs": [
    {
     "name": "stdout",
     "output_type": "stream",
     "text": [
      "(13972, 28) (4069, 28) (13972,) (4069,)\n"
     ]
    }
   ],
   "source": [
    "with open('X_train.npy', 'rb') as f:\n",
    "    X_train = np.load(f)\n",
    "with open('X_test.npy', 'rb') as f:\n",
    "    X_test = np.load(f)\n",
    "with open('y_train.npy', 'rb') as f:\n",
    "    y_train = np.load(f)\n",
    "with open('y_test.npy', 'rb') as f:\n",
    "    y_test = np.load(f)\n",
    "print(X_train.shape, X_test.shape, y_train.shape, y_test.shape)"
   ]
  },
  {
   "cell_type": "code",
   "execution_count": 3,
   "id": "planned-riverside",
   "metadata": {},
   "outputs": [],
   "source": [
    "columns = ['Administrative',\n",
    " 'Administrative_Duration',\n",
    " 'Informational',\n",
    " 'Informational_Duration',\n",
    " 'ProductRelated',\n",
    " 'ProductRelated_Duration',\n",
    " 'BounceRates',\n",
    " 'ExitRates',\n",
    " 'PageValues',\n",
    " 'SpecialDay',\n",
    " 'Month_Aug',\n",
    " 'Month_Dec',\n",
    " 'Month_Feb',\n",
    " 'Month_Jul',\n",
    " 'Month_June',\n",
    " 'Month_Mar',\n",
    " 'Month_May',\n",
    " 'Month_Nov',\n",
    " 'Month_Oct',\n",
    " 'Month_Sep',\n",
    " 'VisitorType_New_Visitor',\n",
    " 'VisitorType_Other',\n",
    " 'VisitorType_Returning_Visitor',\n",
    " 'Weekend_True',\n",
    " 'OperatingSystems',\n",
    " 'Browser',\n",
    " 'Region',\n",
    " 'TrafficType']\n",
    "\n",
    "feature_names = columns\n",
    "#feature_names.remove(\"Revenue\")"
   ]
  },
  {
   "cell_type": "code",
   "execution_count": 4,
   "id": "quiet-dylan",
   "metadata": {},
   "outputs": [],
   "source": [
    "X_train = pd.DataFrame(X_train, columns=feature_names)\n",
    "#X_train = X_train.drop(\"Weekend_False\",axis=1)\n",
    "X_test = pd.DataFrame(X_test, columns=feature_names)\n",
    "#X_test = X_test.drop(\"Weekend_False\",axis=1)"
   ]
  },
  {
   "cell_type": "code",
   "execution_count": 5,
   "id": "transparent-upper",
   "metadata": {},
   "outputs": [],
   "source": [
    "X_DF = pd.concat([X_train,X_test])\n",
    "y = np.concatenate((y_train,y_test))"
   ]
  },
  {
   "cell_type": "markdown",
   "id": "meaning-cotton",
   "metadata": {},
   "source": [
    "## Tuning Hyperparameters"
   ]
  },
  {
   "cell_type": "code",
   "execution_count": 6,
   "id": "heard-packet",
   "metadata": {},
   "outputs": [],
   "source": [
    "rfc = RandomForestClassifier()"
   ]
  },
  {
   "cell_type": "code",
   "execution_count": 7,
   "id": "upset-announcement",
   "metadata": {},
   "outputs": [],
   "source": [
    "param_dist = {\n",
    "    \"n_estimators\": list(np.linspace(200, 1600, 8, dtype=int)),\n",
    "    \"max_features\": [\"auto\", \"sqrt\"],\n",
    "    \"min_samples_split\": [2, 5, 10],\n",
    "    \"min_samples_leaf\": [1, 2, 4]\n",
    "}\n",
    "\n",
    "# Random search of parameters, using cross validation, use all cores\n",
    "rf_rand = RandomizedSearchCV(estimator=rfc, param_distributions=param_dist, n_iter=100, cv=3, verbose=2, random_state=0, n_jobs=-1)"
   ]
  },
  {
   "cell_type": "code",
   "execution_count": 8,
   "id": "becoming-reply",
   "metadata": {},
   "outputs": [
    {
     "name": "stdout",
     "output_type": "stream",
     "text": [
      "Fitting 3 folds for each of 100 candidates, totalling 300 fits\n"
     ]
    },
    {
     "data": {
      "text/plain": [
       "RandomizedSearchCV(cv=3, estimator=RandomForestClassifier(), n_iter=100,\n",
       "                   n_jobs=-1,\n",
       "                   param_distributions={'max_features': ['auto', 'sqrt'],\n",
       "                                        'min_samples_leaf': [1, 2, 4],\n",
       "                                        'min_samples_split': [2, 5, 10],\n",
       "                                        'n_estimators': [200, 400, 600, 800,\n",
       "                                                         1000, 1200, 1400,\n",
       "                                                         1600]},\n",
       "                   random_state=0, verbose=2)"
      ]
     },
     "execution_count": 8,
     "metadata": {},
     "output_type": "execute_result"
    }
   ],
   "source": [
    "rf_rand.fit(X_train, y_train)"
   ]
  },
  {
   "cell_type": "code",
   "execution_count": 7,
   "id": "parental-cross",
   "metadata": {},
   "outputs": [],
   "source": [
    "## best_params = rf_rand.best_params_\n",
    "## using from SHAP notebooks\n",
    "best_params = {'max_features': 'auto',\n",
    " 'min_samples_leaf': 1,\n",
    " 'min_samples_split': 2,\n",
    " 'n_estimators': 1200}"
   ]
  },
  {
   "cell_type": "markdown",
   "id": "mathematical-clarity",
   "metadata": {},
   "source": [
    "## Fitting the Model"
   ]
  },
  {
   "cell_type": "code",
   "execution_count": 8,
   "id": "legitimate-optimum",
   "metadata": {},
   "outputs": [
    {
     "data": {
      "text/plain": [
       "RandomForestClassifier(n_estimators=1200)"
      ]
     },
     "execution_count": 8,
     "metadata": {},
     "output_type": "execute_result"
    }
   ],
   "source": [
    "# rfc = RandomForestClassifier(n_estimators=200, max_depth=None, min_samples_split=2, min_samples_leaf=2, random_state=0)\n",
    "rfc = RandomForestClassifier(**best_params)\n",
    "\n",
    "rfc.fit(X_train,y_train)  # fit the model to the training data"
   ]
  },
  {
   "cell_type": "code",
   "execution_count": 9,
   "id": "thousand-filling",
   "metadata": {},
   "outputs": [
    {
     "name": "stdout",
     "output_type": "stream",
     "text": [
      "0.9199\n"
     ]
    }
   ],
   "source": [
    "score = cross_val_score(rfc, X_train, y_train)\n",
    "print(np.round(score.mean(), 4))"
   ]
  },
  {
   "cell_type": "code",
   "execution_count": 10,
   "id": "functional-mexico",
   "metadata": {},
   "outputs": [],
   "source": [
    "def get_performance(model,X,y):\n",
    "    y_pred = model.predict(X)\n",
    "    target_names = ['0: No Revenue', '1: Revenue']\n",
    "    report = classification_report(y, y_pred, target_names=target_names)\n",
    "    \n",
    "    report_file = classification_report(y, y_pred, target_names=target_names, output_dict=True)\n",
    "    \n",
    "    print(report_file)\n",
    "    print('\\n')\n",
    "    \n",
    "    report_file = pd.DataFrame(report_file).transpose()\n",
    "    report_file.to_csv(f\"{str(model)}_report1.csv\",index=False)\n",
    "    \n",
    "    print(report)\n",
    "    print(\"Confusion Matrix:\\n\",confusion_matrix(y,y_pred))\n",
    "    print(\"Accuracy: \",accuracy_score(y,y_pred))\n",
    "    print(\"ROC-AUC: \",roc_auc_score(y,model.predict_proba(X)[:,1]))"
   ]
  },
  {
   "cell_type": "code",
   "execution_count": 11,
   "id": "coated-nomination",
   "metadata": {},
   "outputs": [
    {
     "name": "stdout",
     "output_type": "stream",
     "text": [
      "{'0: No Revenue': {'precision': 0.9486332231901472, 'recall': 0.919091967403958, 'f1-score': 0.9336289726533629, 'support': 3436}, '1: Revenue': {'precision': 0.6243243243243243, 'recall': 0.7298578199052133, 'f1-score': 0.672978878368536, 'support': 633}, 'accuracy': 0.8896534775129025, 'macro avg': {'precision': 0.7864787737572357, 'recall': 0.8244748936545856, 'f1-score': 0.8033039255109494, 'support': 4069}, 'weighted avg': {'precision': 0.8981816299283959, 'recall': 0.8896534775129025, 'f1-score': 0.8930805554298938, 'support': 4069}}\n",
      "\n",
      "\n",
      "               precision    recall  f1-score   support\n",
      "\n",
      "0: No Revenue       0.95      0.92      0.93      3436\n",
      "   1: Revenue       0.62      0.73      0.67       633\n",
      "\n",
      "     accuracy                           0.89      4069\n",
      "    macro avg       0.79      0.82      0.80      4069\n",
      " weighted avg       0.90      0.89      0.89      4069\n",
      "\n",
      "Confusion Matrix:\n",
      " [[3158  278]\n",
      " [ 171  462]]\n",
      "Accuracy:  0.8896534775129025\n",
      "ROC-AUC:  0.924663262509954\n"
     ]
    }
   ],
   "source": [
    "get_performance(rfc,X_test,y_test)"
   ]
  },
  {
   "cell_type": "markdown",
   "id": "complicated-translation",
   "metadata": {},
   "source": [
    "## DAC"
   ]
  },
  {
   "cell_type": "code",
   "execution_count": 12,
   "id": "systematic-shanghai",
   "metadata": {},
   "outputs": [],
   "source": [
    "from dac import *"
   ]
  },
  {
   "cell_type": "code",
   "execution_count": 13,
   "id": "perceived-investigation",
   "metadata": {},
   "outputs": [
    {
     "data": {
      "text/plain": [
       "['Administrative',\n",
       " 'Administrative_Duration',\n",
       " 'Informational',\n",
       " 'Informational_Duration',\n",
       " 'ProductRelated',\n",
       " 'ProductRelated_Duration',\n",
       " 'BounceRates',\n",
       " 'ExitRates',\n",
       " 'PageValues',\n",
       " 'SpecialDay',\n",
       " 'Month_Aug',\n",
       " 'Month_Dec',\n",
       " 'Month_Feb',\n",
       " 'Month_Jul',\n",
       " 'Month_June',\n",
       " 'Month_Mar',\n",
       " 'Month_May',\n",
       " 'Month_Nov',\n",
       " 'Month_Oct',\n",
       " 'Month_Sep',\n",
       " 'VisitorType_New_Visitor',\n",
       " 'VisitorType_Other',\n",
       " 'VisitorType_Returning_Visitor',\n",
       " 'Weekend_True',\n",
       " 'OperatingSystems',\n",
       " 'Browser',\n",
       " 'Region',\n",
       " 'TrafficType']"
      ]
     },
     "execution_count": 13,
     "metadata": {},
     "output_type": "execute_result"
    }
   ],
   "source": [
    "X = X_train\n",
    "y = y_train\n",
    "#feature_names = X_DF.columns\n",
    "features = feature_names\n",
    "feature_names"
   ]
  },
  {
   "cell_type": "code",
   "execution_count": 14,
   "id": "unsigned-rehabilitation",
   "metadata": {},
   "outputs": [],
   "source": [
    "import math"
   ]
  },
  {
   "cell_type": "code",
   "execution_count": 15,
   "id": "supposed-bidder",
   "metadata": {},
   "outputs": [],
   "source": [
    "min_max = X_DF.describe().loc[[\"min\",\"max\"]]"
   ]
  },
  {
   "cell_type": "code",
   "execution_count": 16,
   "id": "unique-classic",
   "metadata": {},
   "outputs": [],
   "source": [
    "min_max.loc[\"min\"]=min_max.loc[\"min\"].apply(lambda x: math.floor(x))\n",
    "min_max.loc[\"max\"]=min_max.loc[\"max\"].apply(lambda x: math.ceil(x))"
   ]
  },
  {
   "cell_type": "code",
   "execution_count": 17,
   "id": "overhead-bradford",
   "metadata": {},
   "outputs": [
    {
     "data": {
      "text/plain": [
       "[(-1.0, 8.0),\n",
       " (-1.0, 19.0),\n",
       " (-1.0, 19.0),\n",
       " (-1.0, 18.0),\n",
       " (-1.0, 16.0),\n",
       " (-1.0, 33.0),\n",
       " (-1.0, 4.0),\n",
       " (-1.0, 4.0),\n",
       " (-1.0, 20.0),\n",
       " (-1.0, 5.0),\n",
       " (0.0, 1.0),\n",
       " (0.0, 1.0),\n",
       " (0.0, 1.0),\n",
       " (0.0, 1.0),\n",
       " (0.0, 1.0),\n",
       " (0.0, 1.0),\n",
       " (0.0, 1.0),\n",
       " (0.0, 1.0),\n",
       " (0.0, 1.0),\n",
       " (0.0, 1.0),\n",
       " (0.0, 1.0),\n",
       " (0.0, 1.0),\n",
       " (0.0, 1.0),\n",
       " (0.0, 1.0),\n",
       " (1.0, 8.0),\n",
       " (1.0, 13.0),\n",
       " (1.0, 9.0),\n",
       " (1.0, 20.0)]"
      ]
     },
     "execution_count": 17,
     "metadata": {},
     "output_type": "execute_result"
    }
   ],
   "source": [
    "feat_intervals = []\n",
    "\n",
    "for feat in feature_names:\n",
    "    feat_intervals.append(tuple(list(min_max[feat])))\n",
    "    \n",
    "feat_intervals"
   ]
  },
  {
   "cell_type": "code",
   "execution_count": 18,
   "id": "integral-monkey",
   "metadata": {},
   "outputs": [],
   "source": [
    "feat_di = [1]+[2]*4+[3]+[0.5]*2+[2]+[0.5]+[0.1]*14+[1]*3+[2]\n",
    "S = np.zeros(len(features))\n",
    "feature = features[0]\n",
    "idx = np.argmax(features == feature)"
   ]
  },
  {
   "cell_type": "markdown",
   "id": "affected-initial",
   "metadata": {},
   "source": [
    "### Getting Feature Importances"
   ]
  },
  {
   "cell_type": "code",
   "execution_count": 19,
   "id": "automatic-louisiana",
   "metadata": {},
   "outputs": [],
   "source": [
    "def get_1D_dac(model, X, y, S, feat_intervals, feat_di, idx, feature, features):\n",
    "    S[idx] = 1\n",
    "    dac_1D = make_curve_forest(model, X, y, S, feat_intervals[idx], feat_di[idx], C=1, continuous_y=False)\n",
    "    \n",
    "    x_axis = np.arange(feat_intervals[idx][0], feat_intervals[idx][1], feat_di[idx])\n",
    "    plt.plot(x_axis, dac_1D, label=features[idx])\n",
    "    plt.xlabel(feature)\n",
    "    plt.ylabel(f'DAC({feature})')\n",
    "    plt.show()\n",
    "    \n",
    "    return dac_1D,x_axis"
   ]
  },
  {
   "cell_type": "code",
   "execution_count": 20,
   "id": "imposed-kentucky",
   "metadata": {},
   "outputs": [
    {
     "data": {
      "image/png": "[encoded data removed]",
      "text/plain": [
       "<Figure size 432x288 with 1 Axes>"
      ]
     },
     "metadata": {
      "needs_background": "light"
     },
     "output_type": "display_data"
    }
   ],
   "source": [
    "# feature=features[0]\n",
    "# idx = np.argmax(features==features[0])\n",
    "# dac_1d,x_axis = get_1D_dac(rfc,X_train.to_numpy(),y_train,S,feat_intervals,feat_di,idx,feature,features)"
   ]
  },
  {
   "cell_type": "code",
   "execution_count": 41,
   "id": "stopped-coordinate",
   "metadata": {},
   "outputs": [
    {
     "data": {
      "image/png": "[encoded data removed]",
      "text/plain": [
       "<Figure size 432x288 with 1 Axes>"
      ]
     },
     "metadata": {
      "needs_background": "light"
     },
     "output_type": "display_data"
    }
   ],
   "source": [
    "feature='PageValues'\n",
    "idx = np.argmax(features=='PageValues')\n",
    "dac_1d,x_axis = get_1D_dac(rfc,X_train,y_train,S,feat_intervals,feat_di,idx,feature,features)"
   ]
  },
  {
   "cell_type": "markdown",
   "id": "vertical-virus",
   "metadata": {},
   "source": [
    "### Feature Engineering with DAC"
   ]
  },
  {
   "cell_type": "code",
   "execution_count": 20,
   "id": "interested-methodology",
   "metadata": {},
   "outputs": [],
   "source": [
    "def get_importance_scores(model, score_type='mdi', X=None, Y=None):\n",
    "    if score_type == 'mdi':\n",
    "        return model.feature_importances_\n",
    "    elif score_type == 'mda':\n",
    "        return eli5.sklearn.PermutationImportance(model, random_state=42, n_iter=4).fit(X, Y).feature_importances_\n",
    "    else:\n",
    "        raise NotImplementedError(f'{score_type} not implemented')"
   ]
  },
  {
   "cell_type": "code",
   "execution_count": 21,
   "id": "generous-nelson",
   "metadata": {},
   "outputs": [],
   "source": [
    "feature_scores_mdi = get_importance_scores(rfc, score_type='mdi', X=X_test, Y=y_test)"
   ]
  },
  {
   "cell_type": "code",
   "execution_count": 22,
   "id": "phantom-august",
   "metadata": {},
   "outputs": [
    {
     "data": {
      "text/plain": [
       "array([6.33195052e-02, 4.56273615e-02, 1.69178946e-02, 1.68227477e-02,\n",
       "       6.26605268e-02, 7.21199944e-02, 4.33303001e-02, 8.15779196e-02,\n",
       "       3.93458508e-01, 4.14114140e-03, 2.42067995e-03, 6.26377395e-03,\n",
       "       3.00285590e-04, 3.45033909e-03, 1.94025536e-03, 7.88525371e-03,\n",
       "       9.38772286e-03, 2.90970899e-02, 3.92357641e-03, 2.91369488e-03,\n",
       "       6.39789183e-03, 3.37693477e-04, 6.19497659e-03, 7.03886509e-03,\n",
       "       2.91583862e-02, 1.96512407e-02, 3.38326887e-02, 2.98296865e-02])"
      ]
     },
     "execution_count": 22,
     "metadata": {},
     "output_type": "execute_result"
    }
   ],
   "source": [
    "feature_scores_mdi"
   ]
  },
  {
   "cell_type": "code",
   "execution_count": 23,
   "id": "joint-julian",
   "metadata": {},
   "outputs": [],
   "source": [
    "feat_num = np.argsort(feature_scores_mdi)[-1]"
   ]
  },
  {
   "cell_type": "code",
   "execution_count": 24,
   "id": "taken-craps",
   "metadata": {},
   "outputs": [
    {
     "data": {
      "text/plain": [
       "'PageValues'"
      ]
     },
     "execution_count": 24,
     "metadata": {},
     "output_type": "execute_result"
    }
   ],
   "source": [
    "features[feat_num]"
   ]
  },
  {
   "cell_type": "code",
   "execution_count": 25,
   "id": "wrong-auckland",
   "metadata": {},
   "outputs": [],
   "source": [
    "continuous_y = False\n",
    "\n",
    "num_features = len(features)\n",
    "feat_num = np.argsort(feature_scores_mdi)[-1]\n",
    "\n",
    "S = np.zeros(num_features)\n",
    "S[feat_num]= 1"
   ]
  },
  {
   "cell_type": "code",
   "execution_count": 28,
   "id": "flush-geography",
   "metadata": {},
   "outputs": [],
   "source": [
    "## dac.interactions_forest does not exist\n",
    "X_alt_train = dac(forest=rfc, input_space_x=X_train.to_numpy(), outcome_space_y=y_train,assignment=X_train.to_numpy(), S=S, continuous_y=continuous_y).reshape(-1, 1)"
   ]
  },
  {
   "cell_type": "code",
   "execution_count": 29,
   "id": "recreational-october",
   "metadata": {},
   "outputs": [],
   "source": [
    "np.save(\"X_alt_train.npy\",X_alt_train)"
   ]
  },
  {
   "cell_type": "code",
   "execution_count": 30,
   "id": "municipal-small",
   "metadata": {},
   "outputs": [],
   "source": [
    "X_alt_test = dac(forest=rfc, input_space_x=X_train.to_numpy(), outcome_space_y=y_train,\\\n",
    "                assignment=X_test.to_numpy(), S=S, continuous_y=continuous_y).reshape(-1, 1)"
   ]
  },
  {
   "cell_type": "code",
   "execution_count": 31,
   "id": "elect-lincoln",
   "metadata": {},
   "outputs": [],
   "source": [
    "np.save(\"X_alt_test.npy\",X_alt_test)"
   ]
  },
  {
   "cell_type": "markdown",
   "id": "under-january",
   "metadata": {},
   "source": [
    "### Add New Feature to Data"
   ]
  },
  {
   "cell_type": "code",
   "execution_count": 32,
   "id": "smooth-definition",
   "metadata": {},
   "outputs": [],
   "source": [
    "X_train2 = np.hstack((X_train.to_numpy(),X_alt_train))\n",
    "X_test2 = np.hstack((X_test.to_numpy(),X_alt_test))"
   ]
  },
  {
   "cell_type": "code",
   "execution_count": 33,
   "id": "straight-lucas",
   "metadata": {},
   "outputs": [],
   "source": [
    "np.save(\"X_train2.npy\",X_train2)\n",
    "np.save(\"X_test2.npy\",X_test2)"
   ]
  },
  {
   "cell_type": "markdown",
   "id": "comprehensive-namibia",
   "metadata": {},
   "source": [
    "## Model with Feature Engineering"
   ]
  },
  {
   "cell_type": "code",
   "execution_count": 34,
   "id": "russian-father",
   "metadata": {},
   "outputs": [
    {
     "name": "stdout",
     "output_type": "stream",
     "text": [
      "Fitting 3 folds for each of 100 candidates, totalling 300 fits\n"
     ]
    },
    {
     "data": {
      "text/plain": [
       "{'n_estimators': 1200,\n",
       " 'min_samples_split': 2,\n",
       " 'min_samples_leaf': 1,\n",
       " 'max_features': 'auto'}"
      ]
     },
     "execution_count": 34,
     "metadata": {},
     "output_type": "execute_result"
    }
   ],
   "source": [
    "rfc = RandomForestClassifier()\n",
    "\n",
    "param_dist = {\n",
    "    \"n_estimators\": list(np.linspace(200, 1600, 8, dtype=int)),\n",
    "    \"max_features\": [\"auto\", \"sqrt\"],\n",
    "    \"min_samples_split\": [2, 5, 10],\n",
    "    \"min_samples_leaf\": [1, 2, 4]\n",
    "}\n",
    "\n",
    "# Random search of parameters, using cross validation, use all cores\n",
    "rf_rand = RandomizedSearchCV(estimator=rfc, param_distributions=param_dist, n_iter=100, cv=3, verbose=2, random_state=0, n_jobs=-1)\n",
    "\n",
    "rf_rand.fit(X_train, y_train)\n",
    "best_params = rf_rand.best_params_\n",
    "best_params"
   ]
  },
  {
   "cell_type": "code",
   "execution_count": 35,
   "id": "alive-chance",
   "metadata": {},
   "outputs": [
    {
     "data": {
      "text/plain": [
       "RandomForestClassifier(n_estimators=1200)"
      ]
     },
     "execution_count": 35,
     "metadata": {},
     "output_type": "execute_result"
    }
   ],
   "source": [
    "# rfc = RandomForestClassifier(n_estimators=200, max_depth=None, min_samples_split=2, min_samples_leaf=2, random_state=0)\n",
    "rfc2 = RandomForestClassifier(**best_params)\n",
    "rfc2.fit(X_train2, y_train)"
   ]
  },
  {
   "cell_type": "code",
   "execution_count": 36,
   "id": "norman-navigator",
   "metadata": {},
   "outputs": [
    {
     "name": "stdout",
     "output_type": "stream",
     "text": [
      "{'0: No Revenue': {'precision': 0.9454436450839329, 'recall': 0.9179278230500582, 'f1-score': 0.9314825753101004, 'support': 3436}, '1: Revenue': {'precision': 0.6152796725784447, 'recall': 0.7124802527646129, 'f1-score': 0.6603221083455344, 'support': 633}, 'accuracy': 0.8859670680756943, 'macro avg': {'precision': 0.7803616588311888, 'recall': 0.8152040379073355, 'f1-score': 0.7959023418278174, 'support': 4069}, 'weighted avg': {'precision': 0.8940811986361634, 'recall': 0.8859670680756943, 'f1-score': 0.8892990964237474, 'support': 4069}}\n",
      "\n",
      "\n",
      "               precision    recall  f1-score   support\n",
      "\n",
      "0: No Revenue       0.95      0.92      0.93      3436\n",
      "   1: Revenue       0.62      0.71      0.66       633\n",
      "\n",
      "     accuracy                           0.89      4069\n",
      "    macro avg       0.78      0.82      0.80      4069\n",
      " weighted avg       0.89      0.89      0.89      4069\n",
      "\n",
      "Confusion Matrix:\n",
      " [[3154  282]\n",
      " [ 182  451]]\n",
      "Accuracy:  0.8859670680756943\n",
      "ROC-AUC:  0.9246267105841502\n"
     ]
    }
   ],
   "source": [
    "get_performance(rfc2,X_test2,y_test)"
   ]
  },
  {
   "cell_type": "markdown",
   "id": "frequent-citizen",
   "metadata": {},
   "source": [
    "## Model with Feature Selection and Feature Engineering"
   ]
  },
  {
   "cell_type": "code",
   "execution_count": 37,
   "id": "chubby-whale",
   "metadata": {},
   "outputs": [],
   "source": [
    "## removed 28 index\n",
    "to_keep = [10, 19, 11, 13, 21, 5, 22, 12, 23, 20, 18, 4, 14, 2, 9, 3, 15, 25, 16, 27]"
   ]
  },
  {
   "cell_type": "code",
   "execution_count": 38,
   "id": "naughty-beverage",
   "metadata": {},
   "outputs": [],
   "source": [
    "X_train_ss = X_train.iloc[:,to_keep]\n",
    "X_test_ss = X_test.iloc[:,to_keep]"
   ]
  },
  {
   "cell_type": "code",
   "execution_count": 39,
   "id": "foster-novelty",
   "metadata": {},
   "outputs": [],
   "source": [
    "X_train3 = np.hstack((X_train_ss.to_numpy(),X_alt_train))\n",
    "X_test3 = np.hstack((X_test_ss.to_numpy(),X_alt_test))"
   ]
  },
  {
   "cell_type": "code",
   "execution_count": 40,
   "id": "agreed-bibliography",
   "metadata": {},
   "outputs": [],
   "source": [
    "np.save(\"X_train3.npy\",X_train3)\n",
    "np.save(\"X_test3.npy\",X_test3)"
   ]
  },
  {
   "cell_type": "code",
   "execution_count": 41,
   "id": "immediate-associate",
   "metadata": {},
   "outputs": [
    {
     "data": {
      "text/plain": [
       "RandomForestClassifier(n_estimators=1400)"
      ]
     },
     "execution_count": 41,
     "metadata": {},
     "output_type": "execute_result"
    }
   ],
   "source": [
    "best_params = {'n_estimators': 1400,\n",
    " 'min_samples_split': 2,\n",
    " 'min_samples_leaf': 1,\n",
    " 'max_features': 'auto'}\n",
    "\n",
    "# rfc = RandomForestClassifier(n_estimators=200, max_depth=None, min_samples_split=2, min_samples_leaf=2, random_state=0)\n",
    "rfc3 = RandomForestClassifier(**best_params)\n",
    "rfc3.fit(X_train3, y_train)"
   ]
  },
  {
   "cell_type": "code",
   "execution_count": 42,
   "id": "historical-color",
   "metadata": {},
   "outputs": [
    {
     "name": "stdout",
     "output_type": "stream",
     "text": [
      "{'0: No Revenue': {'precision': 0.9483695652173914, 'recall': 0.9141443538998836, 'f1-score': 0.9309425014819206, 'support': 3436}, '1: Revenue': {'precision': 0.6103038309114928, 'recall': 0.7298578199052133, 'f1-score': 0.6647482014388489, 'support': 633}, 'accuracy': 0.8854755468173998, 'macro avg': {'precision': 0.7793366980644421, 'recall': 0.8220010869025485, 'f1-score': 0.7978453514603847, 'support': 4069}, 'weighted avg': {'precision': 0.8957778695143601, 'recall': 0.8854755468173998, 'f1-score': 0.8895315916939471, 'support': 4069}}\n",
      "\n",
      "\n",
      "               precision    recall  f1-score   support\n",
      "\n",
      "0: No Revenue       0.95      0.91      0.93      3436\n",
      "   1: Revenue       0.61      0.73      0.66       633\n",
      "\n",
      "     accuracy                           0.89      4069\n",
      "    macro avg       0.78      0.82      0.80      4069\n",
      " weighted avg       0.90      0.89      0.89      4069\n",
      "\n",
      "Confusion Matrix:\n",
      " [[3141  295]\n",
      " [ 171  462]]\n",
      "Accuracy:  0.8854755468173998\n",
      "ROC-AUC:  0.9157330982975537\n"
     ]
    }
   ],
   "source": [
    "get_performance(rfc3,X_test3,y_test)"
   ]
  },
  {
   "cell_type": "code",
   "execution_count": null,
   "id": "involved-compromise",
   "metadata": {},
   "outputs": [],
   "source": []
  }
 ],
 "metadata": {
  "kernelspec": {
   "display_name": "Python 3",
   "language": "python",
   "name": "python3"
  },
  "language_info": {
   "codemirror_mode": {
    "name": "ipython",
    "version": 3
   },
   "file_extension": ".py",
   "mimetype": "text/x-python",
   "name": "python",
   "nbconvert_exporter": "python",
   "pygments_lexer": "ipython3",
   "version": "3.8.6"
  }
 },
 "nbformat": 4,
 "nbformat_minor": 5
}

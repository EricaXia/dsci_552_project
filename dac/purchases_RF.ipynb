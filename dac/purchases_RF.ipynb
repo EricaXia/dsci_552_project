{
 "cells": [
  {
   "cell_type": "code",
   "execution_count": 1,
   "id": "imposed-routine",
   "metadata": {},
   "outputs": [],
   "source": [
    "import pandas as pd\n",
    "from pandas.plotting import scatter_matrix\n",
    "import matplotlib.pyplot as plt\n",
    "import seaborn as sns\n",
    "import numpy as np\n",
    "\n",
    "from sklearn.pipeline import Pipeline\n",
    "from sklearn.preprocessing import StandardScaler\n",
    "from sklearn.preprocessing import OneHotEncoder\n",
    "from sklearn.compose import ColumnTransformer\n",
    "from sklearn.model_selection import train_test_split, cross_val_score\n",
    "\n",
    "from sklearn.linear_model import LogisticRegression\n",
    "from statsmodels.stats.outliers_influence import variance_inflation_factor\n",
    "from scipy.stats.stats import pearsonr\n",
    "from scipy.stats import norm\n",
    "\n",
    "from sklearn.ensemble import RandomForestClassifier\n",
    "from sklearn.ensemble import AdaBoostClassifier\n",
    "from sklearn.model_selection import RandomizedSearchCV\n",
    "#from sklearn.model_selection import GridSearchCV\n",
    "from sklearn.model_selection import cross_validate\n",
    "\n",
    "from sklearn.metrics import classification_report, confusion_matrix, accuracy_score\n",
    "from sklearn.metrics import roc_auc_score\n",
    "from sklearn.metrics import f1_score\n",
    "from sklearn.metrics import precision_score"
   ]
  },
  {
   "cell_type": "markdown",
   "id": "thermal-reservoir",
   "metadata": {},
   "source": [
    "## Loading Data"
   ]
  },
  {
   "cell_type": "code",
   "execution_count": 55,
   "id": "auburn-praise",
   "metadata": {},
   "outputs": [
    {
     "name": "stdout",
     "output_type": "stream",
     "text": [
      "(13972, 29) (6872, 29) (13972,) (6872,)\n"
     ]
    }
   ],
   "source": [
    "with open('../data/X_train.npy', 'rb') as f:\n",
    "    X_train = np.load(f)\n",
    "with open('../data/X_test.npy', 'rb') as f:\n",
    "    X_test = np.load(f)\n",
    "with open('../data/y_train.npy', 'rb') as f:\n",
    "    y_train = np.load(f)\n",
    "with open('../data/y_test.npy', 'rb') as f:\n",
    "    y_test = np.load(f)\n",
    "print(X_train.shape, X_test.shape, y_train.shape, y_test.shape)"
   ]
  },
  {
   "cell_type": "code",
   "execution_count": 56,
   "id": "planned-riverside",
   "metadata": {},
   "outputs": [],
   "source": [
    "columns = ['Administrative',\n",
    " 'Administrative_Duration',\n",
    " 'Informational',\n",
    " 'Informational_Duration',\n",
    " 'ProductRelated',\n",
    " 'ProductRelated_Duration',\n",
    " 'BounceRates',\n",
    " 'ExitRates',\n",
    " 'PageValues',\n",
    " 'SpecialDay',\n",
    " 'OperatingSystems',\n",
    " 'Browser',\n",
    " 'Region',\n",
    " 'TrafficType',\n",
    " 'Month_Aug',\n",
    " 'Month_Dec',\n",
    " 'Month_Feb',\n",
    " 'Month_Jul',\n",
    " 'Month_June',\n",
    " 'Month_Mar',\n",
    " 'Month_May',\n",
    " 'Month_Nov',\n",
    " 'Month_Oct',\n",
    " 'Month_Sep',\n",
    " 'VisitorType_New_Visitor',\n",
    " 'VisitorType_Other',\n",
    " 'VisitorType_Returning_Visitor',\n",
    " 'Weekend_False',\n",
    " 'Weekend_True',\n",
    " 'Revenue']\n",
    "\n",
    "feature_names = columns\n",
    "feature_names.remove(\"Revenue\")"
   ]
  },
  {
   "cell_type": "code",
   "execution_count": 57,
   "id": "quiet-dylan",
   "metadata": {},
   "outputs": [],
   "source": [
    "X_train = pd.DataFrame(X_train, columns=feature_names)\n",
    "X_train = X_train.drop(\"Weekend_False\",axis=1)\n",
    "X_test = pd.DataFrame(X_test, columns=feature_names)\n",
    "X_test = X_test.drop(\"Weekend_False\",axis=1)"
   ]
  },
  {
   "cell_type": "code",
   "execution_count": 58,
   "id": "transparent-upper",
   "metadata": {},
   "outputs": [],
   "source": [
    "X_DF = pd.concat([X_train,X_test])\n",
    "y = np.concatenate((y_train,y_test))"
   ]
  },
  {
   "cell_type": "markdown",
   "id": "meaning-cotton",
   "metadata": {},
   "source": [
    "## Tuning Hyperparameters"
   ]
  },
  {
   "cell_type": "code",
   "execution_count": 43,
   "id": "heard-packet",
   "metadata": {},
   "outputs": [],
   "source": [
    "rfc = RandomForestClassifier()"
   ]
  },
  {
   "cell_type": "code",
   "execution_count": 8,
   "id": "upset-announcement",
   "metadata": {},
   "outputs": [],
   "source": [
    "param_dist = {\n",
    "    \"n_estimators\": list(np.linspace(200, 1600, 8, dtype=int)),\n",
    "    \"max_features\": [\"auto\", \"sqrt\"],\n",
    "    \"min_samples_split\": [2, 5, 10],\n",
    "    \"min_samples_leaf\": [1, 2, 4]\n",
    "}\n",
    "\n",
    "# Random search of parameters, using cross validation, use all cores\n",
    "rf_rand = RandomizedSearchCV(estimator=rfc, param_distributions=param_dist, n_iter=100, cv=3, verbose=2, random_state=0, n_jobs=-1)"
   ]
  },
  {
   "cell_type": "code",
   "execution_count": 9,
   "id": "becoming-reply",
   "metadata": {},
   "outputs": [
    {
     "name": "stdout",
     "output_type": "stream",
     "text": [
      "Fitting 3 folds for each of 100 candidates, totalling 300 fits\n"
     ]
    },
    {
     "data": {
      "text/plain": [
       "RandomizedSearchCV(cv=3, estimator=RandomForestClassifier(), n_iter=100,\n",
       "                   n_jobs=-1,\n",
       "                   param_distributions={'max_features': ['auto', 'sqrt'],\n",
       "                                        'min_samples_leaf': [1, 2, 4],\n",
       "                                        'min_samples_split': [2, 5, 10],\n",
       "                                        'n_estimators': [200, 400, 600, 800,\n",
       "                                                         1000, 1200, 1400,\n",
       "                                                         1600]},\n",
       "                   random_state=0, verbose=2)"
      ]
     },
     "execution_count": 9,
     "metadata": {},
     "output_type": "execute_result"
    }
   ],
   "source": [
    "rf_rand.fit(X_train, y_train)"
   ]
  },
  {
   "cell_type": "code",
   "execution_count": 10,
   "id": "parental-cross",
   "metadata": {},
   "outputs": [
    {
     "data": {
      "text/plain": [
       "{'n_estimators': 1400,\n",
       " 'min_samples_split': 2,\n",
       " 'min_samples_leaf': 1,\n",
       " 'max_features': 'auto'}"
      ]
     },
     "execution_count": 10,
     "metadata": {},
     "output_type": "execute_result"
    }
   ],
   "source": [
    "best_params = rf_rand.best_params_\n",
    "best_params"
   ]
  },
  {
   "cell_type": "markdown",
   "id": "mathematical-clarity",
   "metadata": {},
   "source": [
    "## Fitting the Model"
   ]
  },
  {
   "cell_type": "code",
   "execution_count": 44,
   "id": "legitimate-optimum",
   "metadata": {},
   "outputs": [
    {
     "data": {
      "text/plain": [
       "RandomForestClassifier(n_estimators=1400)"
      ]
     },
     "execution_count": 44,
     "metadata": {},
     "output_type": "execute_result"
    }
   ],
   "source": [
    "best_params = {'n_estimators': 1400,\n",
    " 'min_samples_split': 2,\n",
    " 'min_samples_leaf': 1,\n",
    " 'max_features': 'auto'}\n",
    "\n",
    "# rfc = RandomForestClassifier(n_estimators=200, max_depth=None, min_samples_split=2, min_samples_leaf=2, random_state=0)\n",
    "rfc = RandomForestClassifier(**best_params)\n",
    "\n",
    "rfc.fit(X_train,y_train)  # fit the model to the training data"
   ]
  },
  {
   "cell_type": "code",
   "execution_count": 45,
   "id": "thousand-filling",
   "metadata": {},
   "outputs": [
    {
     "name": "stdout",
     "output_type": "stream",
     "text": [
      "0.923\n"
     ]
    }
   ],
   "source": [
    "score = cross_val_score(rfc, X_train, y_train)\n",
    "print(np.round(score.mean(), 4))"
   ]
  },
  {
   "cell_type": "code",
   "execution_count": 119,
   "id": "functional-mexico",
   "metadata": {},
   "outputs": [],
   "source": [
    "def get_performance(model,X,y):\n",
    "    y_pred = model.predict(X)\n",
    "    target_names = ['0: No Revenue', '1: Revenue']\n",
    "    report = classification_report(y_test, y_pred, target_names=target_names)\n",
    "    \n",
    "    print(report)\n",
    "    print(\"Confusion Matrix:\\n\",confusion_matrix(y,y_pred))\n",
    "    print(\"Accuracy: \",accuracy_score(y,y_pred))\n",
    "    print(\"ROC-AUC: \",roc_auc_score(y,model.predict_proba(X)[:,1]))"
   ]
  },
  {
   "cell_type": "code",
   "execution_count": 118,
   "id": "coated-nomination",
   "metadata": {},
   "outputs": [
    {
     "name": "stdout",
     "output_type": "stream",
     "text": [
      "               precision    recall  f1-score   support\n",
      "\n",
      "0: No Revenue       0.92      0.94      0.93      3436\n",
      "   1: Revenue       0.94      0.91      0.93      3436\n",
      "\n",
      "     accuracy                           0.93      6872\n",
      "    macro avg       0.93      0.93      0.93      6872\n",
      " weighted avg       0.93      0.93      0.93      6872\n",
      "\n",
      "Confusion Matrix:\n",
      " [[3238  198]\n",
      " [ 295 3141]]\n",
      "Accuracy:  0.9282596041909197\n",
      "ROC-AUC:  0.9824439001681843\n"
     ]
    }
   ],
   "source": [
    "get_performance(rfc,X_test,y_test)"
   ]
  },
  {
   "cell_type": "markdown",
   "id": "complicated-translation",
   "metadata": {},
   "source": [
    "## DAC"
   ]
  },
  {
   "cell_type": "code",
   "execution_count": 30,
   "id": "systematic-shanghai",
   "metadata": {},
   "outputs": [],
   "source": [
    "from dac import *"
   ]
  },
  {
   "cell_type": "code",
   "execution_count": 59,
   "id": "perceived-investigation",
   "metadata": {},
   "outputs": [
    {
     "data": {
      "text/plain": [
       "Index(['Administrative', 'Administrative_Duration', 'Informational',\n",
       "       'Informational_Duration', 'ProductRelated', 'ProductRelated_Duration',\n",
       "       'BounceRates', 'ExitRates', 'PageValues', 'SpecialDay',\n",
       "       'OperatingSystems', 'Browser', 'Region', 'TrafficType', 'Month_Aug',\n",
       "       'Month_Dec', 'Month_Feb', 'Month_Jul', 'Month_June', 'Month_Mar',\n",
       "       'Month_May', 'Month_Nov', 'Month_Oct', 'Month_Sep',\n",
       "       'VisitorType_New_Visitor', 'VisitorType_Other',\n",
       "       'VisitorType_Returning_Visitor', 'Weekend_True'],\n",
       "      dtype='object')"
      ]
     },
     "execution_count": 59,
     "metadata": {},
     "output_type": "execute_result"
    }
   ],
   "source": [
    "X = X_train.to_numpy()\n",
    "y = y_train\n",
    "feature_names = X_train.columns\n",
    "features = feature_names\n",
    "feature_names"
   ]
  },
  {
   "cell_type": "code",
   "execution_count": 60,
   "id": "unsigned-rehabilitation",
   "metadata": {},
   "outputs": [],
   "source": [
    "import math"
   ]
  },
  {
   "cell_type": "code",
   "execution_count": 61,
   "id": "supposed-bidder",
   "metadata": {},
   "outputs": [],
   "source": [
    "min_max = X_DF.describe().loc[[\"min\",\"max\"]]"
   ]
  },
  {
   "cell_type": "code",
   "execution_count": 62,
   "id": "unique-classic",
   "metadata": {},
   "outputs": [],
   "source": [
    "min_max.loc[\"min\"]=min_max.loc[\"min\"].apply(lambda x: math.floor(x))\n",
    "min_max.loc[\"max\"]=min_max.loc[\"max\"].apply(lambda x: math.ceil(x))"
   ]
  },
  {
   "cell_type": "code",
   "execution_count": 63,
   "id": "overhead-bradford",
   "metadata": {},
   "outputs": [
    {
     "data": {
      "text/plain": [
       "[(0.0, 27.0),\n",
       " (0.0, 3399.0),\n",
       " (0.0, 24.0),\n",
       " (0.0, 2550.0),\n",
       " (0.0, 705.0),\n",
       " (0.0, 63974.0),\n",
       " (0.0, 1.0),\n",
       " (0.0, 1.0),\n",
       " (0.0, 362.0),\n",
       " (0.0, 1.0),\n",
       " (1.0, 8.0),\n",
       " (1.0, 13.0),\n",
       " (1.0, 9.0),\n",
       " (1.0, 20.0),\n",
       " (0.0, 1.0),\n",
       " (0.0, 1.0),\n",
       " (0.0, 1.0),\n",
       " (0.0, 1.0),\n",
       " (0.0, 1.0),\n",
       " (0.0, 1.0),\n",
       " (0.0, 1.0),\n",
       " (0.0, 1.0),\n",
       " (0.0, 1.0),\n",
       " (0.0, 1.0),\n",
       " (0.0, 1.0),\n",
       " (0.0, 1.0),\n",
       " (0.0, 1.0),\n",
       " (0.0, 1.0)]"
      ]
     },
     "execution_count": 63,
     "metadata": {},
     "output_type": "execute_result"
    }
   ],
   "source": [
    "feat_intervals = []\n",
    "\n",
    "for feat in feature_names:\n",
    "    feat_intervals.append(tuple(list(min_max[feat])))\n",
    "    \n",
    "feat_intervals"
   ]
  },
  {
   "cell_type": "code",
   "execution_count": 64,
   "id": "integral-monkey",
   "metadata": {},
   "outputs": [],
   "source": [
    "feat_di = [5]+[500]+[5]+[500]+[100]+[10000]+[0.1]*2+[50]+[0.1]+[1]+[2]+[1]+[2]+[0.1]*14\n",
    "S = np.zeros(len(features))\n",
    "feature = features[0]\n",
    "idx = np.argmax(features == feature)"
   ]
  },
  {
   "cell_type": "markdown",
   "id": "affected-initial",
   "metadata": {},
   "source": [
    "### Getting Feature Importances"
   ]
  },
  {
   "cell_type": "code",
   "execution_count": 67,
   "id": "automatic-louisiana",
   "metadata": {},
   "outputs": [],
   "source": [
    "def get_1D_dac(model, X, y, S, feat_intervals, feat_di, idx, feature, features):\n",
    "    S[idx] = 1\n",
    "    dac_1D = make_curve_forest(model, X, y, S, feat_intervals[idx], feat_di[idx], C=1, continuous_y=False)\n",
    "    \n",
    "    x_axis = np.arange(feat_intervals[idx][0], feat_intervals[idx][1], feat_di[idx])\n",
    "    plt.plot(x_axis, dac_1D, label=features[idx])\n",
    "    plt.xlabel(feature)\n",
    "    plt.ylabel(f'DAC({feature})')\n",
    "    plt.show()\n",
    "    \n",
    "    return dac_1D,x_axis"
   ]
  },
  {
   "cell_type": "code",
   "execution_count": 69,
   "id": "imposed-kentucky",
   "metadata": {},
   "outputs": [
    {
     "data": {
      "image/png": "[encoded data removed]",
      "text/plain": [
       "<Figure size 432x288 with 1 Axes>"
      ]
     },
     "metadata": {
      "needs_background": "light"
     },
     "output_type": "display_data"
    }
   ],
   "source": [
    "feature=features[0]\n",
    "idx = np.argmax(features==features[0])\n",
    "dac_1d,x_axis = get_1D_dac(rfc,X_train.to_numpy(),y_train,S,feat_intervals,feat_di,idx,feature,features)"
   ]
  },
  {
   "cell_type": "code",
   "execution_count": 102,
   "id": "stopped-coordinate",
   "metadata": {},
   "outputs": [
    {
     "data": {
      "image/png": "[encoded data removed]",
      "text/plain": [
       "<Figure size 432x288 with 1 Axes>"
      ]
     },
     "metadata": {
      "needs_background": "light"
     },
     "output_type": "display_data"
    }
   ],
   "source": [
    "feature='PageValues'x\n",
    "idx = np.argmax(features=='PageValues')\n",
    "dac_1d,x_axis = get_1D_dac(rfc,X_train.to_numpy(),y_train,S,feat_intervals,feat_di,idx,feature,features)"
   ]
  },
  {
   "cell_type": "markdown",
   "id": "vertical-virus",
   "metadata": {},
   "source": [
    "### Feature Engineering with DAC"
   ]
  },
  {
   "cell_type": "code",
   "execution_count": 73,
   "id": "interested-methodology",
   "metadata": {},
   "outputs": [],
   "source": [
    "def get_importance_scores(model, score_type='mdi', X=None, Y=None):\n",
    "    if score_type == 'mdi':\n",
    "        return model.feature_importances_\n",
    "    elif score_type == 'mda':\n",
    "        return eli5.sklearn.PermutationImportance(model, random_state=42, n_iter=4).fit(X, Y).feature_importances_\n",
    "    else:\n",
    "        raise NotImplementedError(f'{score_type} not implemented')"
   ]
  },
  {
   "cell_type": "code",
   "execution_count": 75,
   "id": "generous-nelson",
   "metadata": {},
   "outputs": [],
   "source": [
    "feature_scores_mdi = get_importance_scores(rfc, score_type='mdi', X=X_test, Y=y_test)"
   ]
  },
  {
   "cell_type": "code",
   "execution_count": 76,
   "id": "phantom-august",
   "metadata": {},
   "outputs": [
    {
     "data": {
      "text/plain": [
       "array([4.52906526e-02, 3.50699512e-02, 1.34726966e-02, 1.24907811e-02,\n",
       "       4.18275854e-02, 5.03555747e-02, 2.84410544e-02, 6.31149174e-02,\n",
       "       4.11080519e-01, 1.92278955e-03, 2.32329493e-02, 1.62361378e-02,\n",
       "       2.07890154e-02, 2.49163120e-02, 2.78038949e-03, 1.35299805e-02,\n",
       "       1.24489401e-04, 5.16438523e-03, 1.90605622e-03, 1.30248599e-02,\n",
       "       2.59793500e-02, 6.51514052e-02, 5.92419178e-03, 6.41002635e-03,\n",
       "       2.63319904e-02, 3.57790742e-04, 2.57697804e-02, 1.93043680e-02])"
      ]
     },
     "execution_count": 76,
     "metadata": {},
     "output_type": "execute_result"
    }
   ],
   "source": [
    "feature_scores_mdi"
   ]
  },
  {
   "cell_type": "code",
   "execution_count": 77,
   "id": "joint-julian",
   "metadata": {},
   "outputs": [],
   "source": [
    "feat_num = np.argsort(feature_scores_mdi)[-1]"
   ]
  },
  {
   "cell_type": "code",
   "execution_count": 78,
   "id": "taken-craps",
   "metadata": {},
   "outputs": [
    {
     "data": {
      "text/plain": [
       "'PageValues'"
      ]
     },
     "execution_count": 78,
     "metadata": {},
     "output_type": "execute_result"
    }
   ],
   "source": [
    "features[feat_num]"
   ]
  },
  {
   "cell_type": "code",
   "execution_count": 79,
   "id": "wrong-auckland",
   "metadata": {},
   "outputs": [],
   "source": [
    "continuous_y = False\n",
    "\n",
    "num_features = len(features)\n",
    "feat_num = np.argsort(feature_scores_mdi)[-1]\n",
    "\n",
    "S = np.zeros(num_features)\n",
    "S[feat_num]= 1"
   ]
  },
  {
   "cell_type": "code",
   "execution_count": 81,
   "id": "flush-geography",
   "metadata": {},
   "outputs": [],
   "source": [
    "## dac.interactions_forest does not exist\n",
    "X_alt_train = dac(forest=rfc, input_space_x=X_train.to_numpy(), outcome_space_y=y_train,assignment=X_train.to_numpy(), S=S, continuous_y=continuous_y).reshape(-1, 1)"
   ]
  },
  {
   "cell_type": "code",
   "execution_count": 83,
   "id": "recreational-october",
   "metadata": {},
   "outputs": [],
   "source": [
    "np.save(\"X_alt_train.npy\",X_alt_train)"
   ]
  },
  {
   "cell_type": "code",
   "execution_count": 86,
   "id": "municipal-small",
   "metadata": {},
   "outputs": [],
   "source": [
    "X_alt_test = dac(forest=rfc, input_space_x=X_train.to_numpy(), outcome_space_y=y_train, \n",
    "                                              assignment=X_test.to_numpy(), S=S, continuous_y=continuous_y).reshape(-1, 1)"
   ]
  },
  {
   "cell_type": "code",
   "execution_count": 87,
   "id": "elect-lincoln",
   "metadata": {},
   "outputs": [],
   "source": [
    "np.save(\"X_alt_test.npy\",X_alt_test)"
   ]
  },
  {
   "cell_type": "markdown",
   "id": "under-january",
   "metadata": {},
   "source": [
    "### Add New Feature to Data"
   ]
  },
  {
   "cell_type": "code",
   "execution_count": 91,
   "id": "smooth-definition",
   "metadata": {},
   "outputs": [],
   "source": [
    "X_train2 = np.hstack((X_train.to_numpy(),X_alt_train))\n",
    "X_test2 = np.hstack((X_test.to_numpy(),X_alt_test))"
   ]
  },
  {
   "cell_type": "code",
   "execution_count": 92,
   "id": "straight-lucas",
   "metadata": {},
   "outputs": [],
   "source": [
    "np.save(\"X_train2.npy\",X_train2)\n",
    "np.save(\"X_test2.npy\",X_test2)"
   ]
  },
  {
   "cell_type": "markdown",
   "id": "comprehensive-namibia",
   "metadata": {},
   "source": [
    "## Model with Feature Engineering"
   ]
  },
  {
   "cell_type": "code",
   "execution_count": 94,
   "id": "alive-chance",
   "metadata": {},
   "outputs": [],
   "source": [
    "best_params = {'n_estimators': 1400,\n",
    " 'min_samples_split': 2,\n",
    " 'min_samples_leaf': 1,\n",
    " 'max_features': 'auto'}\n",
    "\n",
    "# rfc = RandomForestClassifier(n_estimators=200, max_depth=None, min_samples_split=2, min_samples_leaf=2, random_state=0)\n",
    "rfc2 = RandomForestClassifier(**best_params)\n",
    "rfc2.fit(X_train2, y_train)"
   ]
  },
  {
   "cell_type": "code",
   "execution_count": 120,
   "id": "norman-navigator",
   "metadata": {},
   "outputs": [
    {
     "name": "stdout",
     "output_type": "stream",
     "text": [
      "               precision    recall  f1-score   support\n",
      "\n",
      "0: No Revenue       0.93      0.93      0.93      3436\n",
      "   1: Revenue       0.93      0.93      0.93      3436\n",
      "\n",
      "     accuracy                           0.93      6872\n",
      "    macro avg       0.93      0.93      0.93      6872\n",
      " weighted avg       0.93      0.93      0.93      6872\n",
      "\n",
      "Confusion Matrix:\n",
      " [[3210  226]\n",
      " [ 236 3200]]\n",
      "Accuracy:  0.9327706635622818\n",
      "ROC-AUC:  0.9843582925295542\n"
     ]
    }
   ],
   "source": [
    "get_performance(rfc2,X_test2,y_test)"
   ]
  },
  {
   "cell_type": "markdown",
   "id": "frequent-citizen",
   "metadata": {},
   "source": [
    "## Model with Feature Selection and Feature Engineering"
   ]
  },
  {
   "cell_type": "code",
   "execution_count": 106,
   "id": "chubby-whale",
   "metadata": {},
   "outputs": [],
   "source": [
    "## removed 28 index\n",
    "to_keep = [8, 7, 4, 1, 10, 21, 24, 0, 26, 27, 2, 12, 11, 6, 20, 19, 13, 5, 3]"
   ]
  },
  {
   "cell_type": "code",
   "execution_count": 109,
   "id": "naughty-beverage",
   "metadata": {},
   "outputs": [],
   "source": [
    "X_train_ss = X_train.iloc[:,to_keep]\n",
    "X_test_ss = X_test.iloc[:,to_keep]"
   ]
  },
  {
   "cell_type": "code",
   "execution_count": 110,
   "id": "foster-novelty",
   "metadata": {},
   "outputs": [],
   "source": [
    "X_train3 = np.hstack((X_train_ss.to_numpy(),X_alt_train))\n",
    "X_test3 = np.hstack((X_test_ss.to_numpy(),X_alt_test))"
   ]
  },
  {
   "cell_type": "code",
   "execution_count": 112,
   "id": "agreed-bibliography",
   "metadata": {},
   "outputs": [],
   "source": [
    "np.save(\"X_train3.npy\",X_train3)\n",
    "np.save(\"X_test3.npy\",X_test3)"
   ]
  },
  {
   "cell_type": "code",
   "execution_count": 113,
   "id": "immediate-associate",
   "metadata": {},
   "outputs": [],
   "source": [
    "best_params = {'n_estimators': 1400,\n",
    " 'min_samples_split': 2,\n",
    " 'min_samples_leaf': 1,\n",
    " 'max_features': 'auto'}\n",
    "\n",
    "# rfc = RandomForestClassifier(n_estimators=200, max_depth=None, min_samples_split=2, min_samples_leaf=2, random_state=0)\n",
    "rfc3 = RandomForestClassifier(**best_params)\n",
    "rfc3.fit(X_train3, y_train)"
   ]
  },
  {
   "cell_type": "code",
   "execution_count": 121,
   "id": "historical-color",
   "metadata": {},
   "outputs": [
    {
     "name": "stdout",
     "output_type": "stream",
     "text": [
      "               precision    recall  f1-score   support\n",
      "\n",
      "0: No Revenue       0.93      0.93      0.93      3436\n",
      "   1: Revenue       0.93      0.93      0.93      3436\n",
      "\n",
      "     accuracy                           0.93      6872\n",
      "    macro avg       0.93      0.93      0.93      6872\n",
      " weighted avg       0.93      0.93      0.93      6872\n",
      "\n",
      "Confusion Matrix:\n",
      " [[3210  226]\n",
      " [ 235 3201]]\n",
      "Accuracy:  0.9329161816065192\n",
      "ROC-AUC:  0.9837318365020918\n"
     ]
    }
   ],
   "source": [
    "get_performance(rfc3,X_test3,y_test)"
   ]
  }
 ],
 "metadata": {
  "kernelspec": {
   "display_name": "Python 3",
   "language": "python",
   "name": "python3"
  },
  "language_info": {
   "codemirror_mode": {
    "name": "ipython",
    "version": 3
   },
   "file_extension": ".py",
   "mimetype": "text/x-python",
   "name": "python",
   "nbconvert_exporter": "python",
   "pygments_lexer": "ipython3",
   "version": "3.8.6"
  }
 },
 "nbformat": 4,
 "nbformat_minor": 5
}

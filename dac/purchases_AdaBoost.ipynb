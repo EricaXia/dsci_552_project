{
 "cells": [
  {
   "cell_type": "code",
   "execution_count": 8,
   "id": "imposed-routine",
   "metadata": {},
   "outputs": [],
   "source": [
    "import pandas as pd\n",
    "from pandas.plotting import scatter_matrix\n",
    "import matplotlib.pyplot as plt\n",
    "import seaborn as sns\n",
    "import numpy as np\n",
    "\n",
    "from sklearn.pipeline import Pipeline\n",
    "from sklearn.preprocessing import StandardScaler\n",
    "from sklearn.preprocessing import OneHotEncoder\n",
    "from sklearn.compose import ColumnTransformer\n",
    "from sklearn.model_selection import train_test_split, cross_val_score\n",
    "\n",
    "from sklearn.linear_model import LogisticRegression\n",
    "from statsmodels.stats.outliers_influence import variance_inflation_factor\n",
    "from scipy.stats.stats import pearsonr\n",
    "from scipy.stats import norm\n",
    "\n",
    "from sklearn.ensemble import RandomForestClassifier\n",
    "from sklearn.ensemble import AdaBoostClassifier\n",
    "from sklearn.model_selection import RandomizedSearchCV\n",
    "#from sklearn.model_selection import GridSearchCV\n",
    "from sklearn.model_selection import cross_validate\n",
    "\n",
    "from sklearn.metrics import classification_report, confusion_matrix, accuracy_score\n",
    "from sklearn.metrics import roc_auc_score\n",
    "from sklearn.metrics import f1_score\n",
    "from sklearn.metrics import precision_score"
   ]
  },
  {
   "cell_type": "markdown",
   "id": "thermal-reservoir",
   "metadata": {},
   "source": [
    "## Loading Data"
   ]
  },
  {
   "cell_type": "code",
   "execution_count": 9,
   "id": "auburn-praise",
   "metadata": {},
   "outputs": [
    {
     "name": "stdout",
     "output_type": "stream",
     "text": [
      "(13972, 28) (4069, 28) (13972,) (4069,)\n"
     ]
    }
   ],
   "source": [
    "with open('X_train.npy', 'rb') as f:\n",
    "    X_train = np.load(f)\n",
    "with open('X_test.npy', 'rb') as f:\n",
    "    X_test = np.load(f)\n",
    "with open('y_train.npy', 'rb') as f:\n",
    "    y_train = np.load(f)\n",
    "with open('y_test.npy', 'rb') as f:\n",
    "    y_test = np.load(f)\n",
    "print(X_train.shape, X_test.shape, y_train.shape, y_test.shape)"
   ]
  },
  {
   "cell_type": "code",
   "execution_count": 10,
   "id": "textile-layer",
   "metadata": {},
   "outputs": [],
   "source": [
    "with open('X_train2.npy', 'rb') as f:\n",
    "    X_train2 = np.load(f)\n",
    "with open('X_test2.npy', 'rb') as f:\n",
    "    X_test2 = np.load(f)\n",
    "# with open('X_train3.npy', 'rb') as f:\n",
    "#     X_train3 = np.load(f)\n",
    "# with open('X_test3.npy', 'rb') as f:\n",
    "#     X_test3 = np.load(f)"
   ]
  },
  {
   "cell_type": "code",
   "execution_count": 11,
   "id": "planned-riverside",
   "metadata": {},
   "outputs": [],
   "source": [
    "columns = ['Administrative',\n",
    " 'Administrative_Duration',\n",
    " 'Informational',\n",
    " 'Informational_Duration',\n",
    " 'ProductRelated',\n",
    " 'ProductRelated_Duration',\n",
    " 'BounceRates',\n",
    " 'ExitRates',\n",
    " 'PageValues',\n",
    " 'SpecialDay',\n",
    " 'Month_Aug',\n",
    " 'Month_Dec',\n",
    " 'Month_Feb',\n",
    " 'Month_Jul',\n",
    " 'Month_June',\n",
    " 'Month_Mar',\n",
    " 'Month_May',\n",
    " 'Month_Nov',\n",
    " 'Month_Oct',\n",
    " 'Month_Sep',\n",
    " 'VisitorType_New_Visitor',\n",
    " 'VisitorType_Other',\n",
    " 'VisitorType_Returning_Visitor',\n",
    " 'Weekend_True',\n",
    " 'OperatingSystems',\n",
    " 'Browser',\n",
    " 'Region',\n",
    " 'TrafficType']\n",
    "\n",
    "feature_names = columns"
   ]
  },
  {
   "cell_type": "code",
   "execution_count": 12,
   "id": "quiet-dylan",
   "metadata": {},
   "outputs": [],
   "source": [
    "X_train = pd.DataFrame(X_train, columns=feature_names)\n",
    "X_test = pd.DataFrame(X_test, columns=feature_names)"
   ]
  },
  {
   "cell_type": "code",
   "execution_count": 13,
   "id": "medieval-recycling",
   "metadata": {},
   "outputs": [],
   "source": [
    "X_DF = pd.concat([X_train,X_test])\n",
    "y = np.concatenate((y_train,y_test))"
   ]
  },
  {
   "cell_type": "markdown",
   "id": "meaning-cotton",
   "metadata": {},
   "source": [
    "## Tuning Hyperparameters"
   ]
  },
  {
   "cell_type": "code",
   "execution_count": 14,
   "id": "heard-packet",
   "metadata": {},
   "outputs": [],
   "source": [
    "model = AdaBoostClassifier()"
   ]
  },
  {
   "cell_type": "code",
   "execution_count": 15,
   "id": "upset-announcement",
   "metadata": {},
   "outputs": [],
   "source": [
    "param_dist = {\n",
    "    \"n_estimators\":   list(np.linspace(200, 1600, 8, dtype=int)),\n",
    "    \"learning_rate\": [0.15, 0.1, 0.05, 0.01, 0.005, 0.001]\n",
    "}\n",
    "# Random search of parameters, using cross validation, use all cores\n",
    "#model_rand = RandomizedSearchCV(estimator=model, param_distributions=param_dist, n_iter=100, cv=3, verbose=2, random_state=0, n_jobs=-1)"
   ]
  },
  {
   "cell_type": "code",
   "execution_count": 16,
   "id": "strange-mexican",
   "metadata": {},
   "outputs": [],
   "source": [
    "def get_best_params(model,param_dist,X,y):\n",
    "    model_rand = RandomizedSearchCV(estimator=model, param_distributions=param_dist, n_iter=100, cv=3, verbose=2, random_state=0, n_jobs=-1)\n",
    "    model_rand.fit(X,y)\n",
    "    best_params = model_rand.best_params_\n",
    "    return best_params"
   ]
  },
  {
   "cell_type": "code",
   "execution_count": 17,
   "id": "worldwide-scenario",
   "metadata": {},
   "outputs": [
    {
     "name": "stdout",
     "output_type": "stream",
     "text": [
      "Fitting 3 folds for each of 48 candidates, totalling 144 fits\n"
     ]
    },
    {
     "name": "stderr",
     "output_type": "stream",
     "text": [
      "/Users/erinszeto/anaconda3/lib/python3.8/site-packages/sklearn/model_selection/_search.py:285: UserWarning: The total space of parameters 48 is smaller than n_iter=100. Running 48 iterations. For exhaustive searches, use GridSearchCV.\n",
      "  warnings.warn(\n"
     ]
    },
    {
     "name": "stdout",
     "output_type": "stream",
     "text": [
      "{'n_estimators': 1600, 'learning_rate': 0.15}\n"
     ]
    }
   ],
   "source": [
    "best_params = get_best_params(model,param_dist,X_train,y_train)\n",
    "print(best_params)"
   ]
  },
  {
   "cell_type": "markdown",
   "id": "mathematical-clarity",
   "metadata": {},
   "source": [
    "## Fitting the Model"
   ]
  },
  {
   "cell_type": "code",
   "execution_count": 18,
   "id": "legitimate-optimum",
   "metadata": {},
   "outputs": [
    {
     "data": {
      "text/plain": [
       "AdaBoostClassifier(learning_rate=0.15, n_estimators=1600)"
      ]
     },
     "execution_count": 18,
     "metadata": {},
     "output_type": "execute_result"
    }
   ],
   "source": [
    "model_best = AdaBoostClassifier(**best_params)\n",
    "model_best.fit(X_train,y_train) "
   ]
  },
  {
   "cell_type": "code",
   "execution_count": 19,
   "id": "thousand-filling",
   "metadata": {},
   "outputs": [
    {
     "name": "stdout",
     "output_type": "stream",
     "text": [
      "0.8874\n"
     ]
    }
   ],
   "source": [
    "score = cross_val_score(model_best, X_train, y_train)\n",
    "print(np.round(score.mean(), 4))"
   ]
  },
  {
   "cell_type": "code",
   "execution_count": 20,
   "id": "handed-acoustic",
   "metadata": {},
   "outputs": [],
   "source": [
    "def get_performance(model,X,y):\n",
    "    y_pred = model.predict(X)\n",
    "    target_names = ['0: No Revenue', '1: Revenue']\n",
    "    report = classification_report(y, y_pred, target_names=target_names)\n",
    "    \n",
    "    report_file = classification_report(y, y_pred, target_names=target_names, output_dict=True)\n",
    "    \n",
    "    print(report_file)\n",
    "    print('\\n')\n",
    "    \n",
    "    report_file = pd.DataFrame(report_file).transpose()\n",
    "    report_file.to_csv(f\"{str(model)}_report1.csv\",index=False)\n",
    "    \n",
    "    print(report)\n",
    "    print(\"Confusion Matrix:\\n\",confusion_matrix(y,y_pred))\n",
    "    print(\"Accuracy: \",accuracy_score(y,y_pred))\n",
    "    print(\"ROC-AUC: \",roc_auc_score(y,model.predict_proba(X)[:,1]))"
   ]
  },
  {
   "cell_type": "code",
   "execution_count": 21,
   "id": "geological-biography",
   "metadata": {},
   "outputs": [
    {
     "name": "stdout",
     "output_type": "stream",
     "text": [
      "{'0: No Revenue': {'precision': 0.94333936106088, 'recall': 0.9109429569266589, 'f1-score': 0.9268581581285165, 'support': 3436}, '1: Revenue': {'precision': 0.59254327563249, 'recall': 0.7030015797788309, 'f1-score': 0.6430635838150288, 'support': 633}, 'accuracy': 0.8785942492012779, 'macro avg': {'precision': 0.767941318346685, 'recall': 0.8069722683527449, 'f1-score': 0.7849608709717726, 'support': 4069}, 'weighted avg': {'precision': 0.8887672494668346, 'recall': 0.8785942492012779, 'f1-score': 0.882709235656057, 'support': 4069}}\n",
      "\n",
      "\n",
      "               precision    recall  f1-score   support\n",
      "\n",
      "0: No Revenue       0.94      0.91      0.93      3436\n",
      "   1: Revenue       0.59      0.70      0.64       633\n",
      "\n",
      "     accuracy                           0.88      4069\n",
      "    macro avg       0.77      0.81      0.78      4069\n",
      " weighted avg       0.89      0.88      0.88      4069\n",
      "\n",
      "Confusion Matrix:\n",
      " [[3130  306]\n",
      " [ 188  445]]\n",
      "Accuracy:  0.8785942492012779\n",
      "ROC-AUC:  0.9063215521189082\n"
     ]
    }
   ],
   "source": [
    "get_performance(model_best,X_test,y_test)"
   ]
  },
  {
   "cell_type": "markdown",
   "id": "alpha-handy",
   "metadata": {},
   "source": [
    "## Model with Feature Engineering"
   ]
  },
  {
   "cell_type": "code",
   "execution_count": 22,
   "id": "intermediate-amateur",
   "metadata": {},
   "outputs": [
    {
     "name": "stdout",
     "output_type": "stream",
     "text": [
      "Fitting 3 folds for each of 48 candidates, totalling 144 fits\n"
     ]
    },
    {
     "name": "stderr",
     "output_type": "stream",
     "text": [
      "/Users/erinszeto/anaconda3/lib/python3.8/site-packages/sklearn/model_selection/_search.py:285: UserWarning: The total space of parameters 48 is smaller than n_iter=100. Running 48 iterations. For exhaustive searches, use GridSearchCV.\n",
      "  warnings.warn(\n"
     ]
    },
    {
     "name": "stdout",
     "output_type": "stream",
     "text": [
      "{'n_estimators': 1600, 'learning_rate': 0.15}\n"
     ]
    },
    {
     "data": {
      "text/plain": [
       "AdaBoostClassifier(learning_rate=0.15, n_estimators=1600)"
      ]
     },
     "execution_count": 22,
     "metadata": {},
     "output_type": "execute_result"
    }
   ],
   "source": [
    "best_params = get_best_params(model,param_dist,X_train2,y_train)\n",
    "print(best_params)\n",
    "\n",
    "model2 = AdaBoostClassifier(**best_params)\n",
    "model2.fit(X_train2, y_train)"
   ]
  },
  {
   "cell_type": "code",
   "execution_count": 23,
   "id": "naked-decision",
   "metadata": {},
   "outputs": [
    {
     "name": "stdout",
     "output_type": "stream",
     "text": [
      "{'0: No Revenue': {'precision': 0.9373515439429929, 'recall': 0.9188009313154831, 'f1-score': 0.9279835390946504, 'support': 3436}, '1: Revenue': {'precision': 0.6019971469329529, 'recall': 0.6666666666666666, 'f1-score': 0.6326836581709145, 'support': 633}, 'accuracy': 0.8795772917178668, 'macro avg': {'precision': 0.7696743454379729, 'recall': 0.7927337989910749, 'f1-score': 0.7803335986327824, 'support': 4069}, 'weighted avg': {'precision': 0.8851816414344269, 'recall': 0.8795772917178668, 'f1-score': 0.8820447765916459, 'support': 4069}}\n",
      "\n",
      "\n",
      "               precision    recall  f1-score   support\n",
      "\n",
      "0: No Revenue       0.94      0.92      0.93      3436\n",
      "   1: Revenue       0.60      0.67      0.63       633\n",
      "\n",
      "     accuracy                           0.88      4069\n",
      "    macro avg       0.77      0.79      0.78      4069\n",
      " weighted avg       0.89      0.88      0.88      4069\n",
      "\n",
      "Confusion Matrix:\n",
      " [[3157  279]\n",
      " [ 211  422]]\n",
      "Accuracy:  0.8795772917178668\n",
      "ROC-AUC:  0.9061732754387609\n"
     ]
    }
   ],
   "source": [
    "get_performance(model2,X_test2,y_test)"
   ]
  },
  {
   "cell_type": "code",
   "execution_count": 24,
   "id": "personalized-wound",
   "metadata": {},
   "outputs": [
    {
     "name": "stdout",
     "output_type": "stream",
     "text": [
      "{'0: No Revenue': {'precision': 0.9373515439429929, 'recall': 0.9188009313154831, 'f1-score': 0.9279835390946504, 'support': 3436}, '1: Revenue': {'precision': 0.6019971469329529, 'recall': 0.6666666666666666, 'f1-score': 0.6326836581709145, 'support': 633}, 'accuracy': 0.8795772917178668, 'macro avg': {'precision': 0.7696743454379729, 'recall': 0.7927337989910749, 'f1-score': 0.7803335986327824, 'support': 4069}, 'weighted avg': {'precision': 0.8851816414344269, 'recall': 0.8795772917178668, 'f1-score': 0.8820447765916459, 'support': 4069}}\n",
      "\n",
      "\n",
      "               precision    recall  f1-score   support\n",
      "\n",
      "0: No Revenue       0.94      0.92      0.93      3436\n",
      "   1: Revenue       0.60      0.67      0.63       633\n",
      "\n",
      "     accuracy                           0.88      4069\n",
      "    macro avg       0.77      0.79      0.78      4069\n",
      " weighted avg       0.89      0.88      0.88      4069\n",
      "\n",
      "Confusion Matrix:\n",
      " [[3157  279]\n",
      " [ 211  422]]\n",
      "Accuracy:  0.8795772917178668\n",
      "ROC-AUC:  0.9061732754387609\n"
     ]
    }
   ],
   "source": [
    "model2 = AdaBoostClassifier(**best_params)\n",
    "model2.fit(X_train2, y_train)\n",
    "get_performance(model2,X_test2,y_test)"
   ]
  },
  {
   "cell_type": "markdown",
   "id": "fifth-jungle",
   "metadata": {},
   "source": [
    "## Model with Feature Selection and Feature Engineering"
   ]
  },
  {
   "cell_type": "code",
   "execution_count": 25,
   "id": "daily-trader",
   "metadata": {},
   "outputs": [],
   "source": [
    "with open('X_alt_train.npy', 'rb') as f:\n",
    "     X_alt_train = np.load(f)\n",
    "with open('X_alt_test.npy', 'rb') as f:\n",
    "     X_alt_test = np.load(f)\n",
    "        \n",
    "to_keep = [17, 4, 20, 5, 3, 10, 13, 19, 21, 22, 23, 1, 2, 26, 18, 14, 6, 9, 27, 11]\n",
    "\n",
    "def get_X(to_keep,X_train,X_test,X_alt_train,X_alt_test):\n",
    "    X_train_ss = X_train.iloc[:,to_keep]\n",
    "    X_test_ss = X_test.iloc[:,to_keep]\n",
    "    \n",
    "    X_train3 = np.hstack((X_train_ss.to_numpy(),X_alt_train))\n",
    "    X_test3 = np.hstack((X_test_ss.to_numpy(),X_alt_test))\n",
    "    \n",
    "    return X_train3, X_test3\n",
    "\n",
    "X_train3,X_test3 = get_X(to_keep,X_train,X_test,X_alt_train,X_alt_test)\n",
    "\n",
    "np.save(\"X_trainAB.npy\",X_train3)\n",
    "np.save(\"X_testAB.npy\",X_test3)"
   ]
  },
  {
   "cell_type": "code",
   "execution_count": 26,
   "id": "insured-brake",
   "metadata": {},
   "outputs": [
    {
     "name": "stdout",
     "output_type": "stream",
     "text": [
      "Fitting 3 folds for each of 48 candidates, totalling 144 fits\n"
     ]
    },
    {
     "name": "stderr",
     "output_type": "stream",
     "text": [
      "/Users/erinszeto/anaconda3/lib/python3.8/site-packages/sklearn/model_selection/_search.py:285: UserWarning: The total space of parameters 48 is smaller than n_iter=100. Running 48 iterations. For exhaustive searches, use GridSearchCV.\n",
      "  warnings.warn(\n"
     ]
    },
    {
     "name": "stdout",
     "output_type": "stream",
     "text": [
      "{'n_estimators': 1400, 'learning_rate': 0.1}\n"
     ]
    },
    {
     "data": {
      "text/plain": [
       "AdaBoostClassifier(learning_rate=0.1, n_estimators=1400)"
      ]
     },
     "execution_count": 26,
     "metadata": {},
     "output_type": "execute_result"
    }
   ],
   "source": [
    "best_params = get_best_params(model,param_dist,X_train3,y_train)\n",
    "print(best_params)\n",
    "\n",
    "model3 = AdaBoostClassifier(**best_params)\n",
    "model3.fit(X_train3, y_train)"
   ]
  },
  {
   "cell_type": "code",
   "execution_count": 27,
   "id": "prerequisite-holly",
   "metadata": {},
   "outputs": [
    {
     "name": "stdout",
     "output_type": "stream",
     "text": [
      "{'0: No Revenue': {'precision': 0.9531875577456114, 'recall': 0.9007566938300349, 'f1-score': 0.926230734699985, 'support': 3436}, '1: Revenue': {'precision': 0.5851581508515815, 'recall': 0.7598736176935229, 'f1-score': 0.6611683848797251, 'support': 633}, 'accuracy': 0.8788400098304252, 'macro avg': {'precision': 0.7691728542985965, 'recall': 0.830315155761779, 'f1-score': 0.7936995597898551, 'support': 4069}, 'weighted avg': {'precision': 0.895934519022603, 'recall': 0.8788400098304252, 'f1-score': 0.8849959184217288, 'support': 4069}}\n",
      "\n",
      "\n",
      "               precision    recall  f1-score   support\n",
      "\n",
      "0: No Revenue       0.95      0.90      0.93      3436\n",
      "   1: Revenue       0.59      0.76      0.66       633\n",
      "\n",
      "     accuracy                           0.88      4069\n",
      "    macro avg       0.77      0.83      0.79      4069\n",
      " weighted avg       0.90      0.88      0.88      4069\n",
      "\n",
      "Confusion Matrix:\n",
      " [[3095  341]\n",
      " [ 152  481]]\n",
      "Accuracy:  0.8788400098304252\n",
      "ROC-AUC:  0.9095657079487335\n"
     ]
    }
   ],
   "source": [
    "get_performance(model3,X_test3,y_test)"
   ]
  },
  {
   "cell_type": "code",
   "execution_count": null,
   "id": "preliminary-circus",
   "metadata": {},
   "outputs": [],
   "source": []
  }
 ],
 "metadata": {
  "kernelspec": {
   "display_name": "Python 3",
   "language": "python",
   "name": "python3"
  },
  "language_info": {
   "codemirror_mode": {
    "name": "ipython",
    "version": 3
   },
   "file_extension": ".py",
   "mimetype": "text/x-python",
   "name": "python",
   "nbconvert_exporter": "python",
   "pygments_lexer": "ipython3",
   "version": "3.8.6"
  }
 },
 "nbformat": 4,
 "nbformat_minor": 5
}

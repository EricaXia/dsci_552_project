{
 "cells": [
  {
   "cell_type": "code",
   "execution_count": 1,
   "id": "imposed-routine",
   "metadata": {},
   "outputs": [],
   "source": [
    "import pandas as pd\n",
    "from pandas.plotting import scatter_matrix\n",
    "import matplotlib.pyplot as plt\n",
    "import seaborn as sns\n",
    "import numpy as np\n",
    "\n",
    "from sklearn.pipeline import Pipeline\n",
    "from sklearn.preprocessing import StandardScaler\n",
    "from sklearn.preprocessing import OneHotEncoder\n",
    "from sklearn.compose import ColumnTransformer\n",
    "from sklearn.model_selection import train_test_split, cross_val_score\n",
    "\n",
    "from sklearn.linear_model import LogisticRegression\n",
    "from statsmodels.stats.outliers_influence import variance_inflation_factor\n",
    "from scipy.stats.stats import pearsonr\n",
    "from scipy.stats import norm\n",
    "\n",
    "from sklearn.ensemble import RandomForestClassifier\n",
    "from sklearn.ensemble import AdaBoostClassifier\n",
    "from sklearn.model_selection import RandomizedSearchCV\n",
    "#from sklearn.model_selection import GridSearchCV\n",
    "from sklearn.model_selection import cross_validate\n",
    "\n",
    "from sklearn.metrics import classification_report, confusion_matrix, accuracy_score\n",
    "from sklearn.metrics import roc_auc_score\n",
    "from sklearn.metrics import f1_score\n",
    "from sklearn.metrics import precision_score"
   ]
  },
  {
   "cell_type": "markdown",
   "id": "thermal-reservoir",
   "metadata": {},
   "source": [
    "## Loading Data"
   ]
  },
  {
   "cell_type": "code",
   "execution_count": 2,
   "id": "auburn-praise",
   "metadata": {},
   "outputs": [
    {
     "name": "stdout",
     "output_type": "stream",
     "text": [
      "(13972, 28) (4069, 28) (13972,) (4069,)\n"
     ]
    }
   ],
   "source": [
    "with open('X_train.npy', 'rb') as f:\n",
    "    X_train = np.load(f)\n",
    "with open('X_test.npy', 'rb') as f:\n",
    "    X_test = np.load(f)\n",
    "with open('y_train.npy', 'rb') as f:\n",
    "    y_train = np.load(f)\n",
    "with open('y_test.npy', 'rb') as f:\n",
    "    y_test = np.load(f)\n",
    "print(X_train.shape, X_test.shape, y_train.shape, y_test.shape)"
   ]
  },
  {
   "cell_type": "code",
   "execution_count": 3,
   "id": "favorite-circulation",
   "metadata": {},
   "outputs": [],
   "source": [
    "with open('X_train2.npy', 'rb') as f:\n",
    "    X_train2 = np.load(f)\n",
    "with open('X_test2.npy', 'rb') as f:\n",
    "    X_test2 = np.load(f)\n",
    "# with open('X_train3.npy', 'rb') as f:\n",
    "#     X_train3 = np.load(f)\n",
    "# with open('X_test3.npy', 'rb') as f:\n",
    "#     X_test3 = np.load(f)"
   ]
  },
  {
   "cell_type": "code",
   "execution_count": 4,
   "id": "graduate-leisure",
   "metadata": {},
   "outputs": [],
   "source": [
    "columns = ['Administrative',\n",
    " 'Administrative_Duration',\n",
    " 'Informational',\n",
    " 'Informational_Duration',\n",
    " 'ProductRelated',\n",
    " 'ProductRelated_Duration',\n",
    " 'BounceRates',\n",
    " 'ExitRates',\n",
    " 'PageValues',\n",
    " 'SpecialDay',\n",
    " 'Month_Aug',\n",
    " 'Month_Dec',\n",
    " 'Month_Feb',\n",
    " 'Month_Jul',\n",
    " 'Month_June',\n",
    " 'Month_Mar',\n",
    " 'Month_May',\n",
    " 'Month_Nov',\n",
    " 'Month_Oct',\n",
    " 'Month_Sep',\n",
    " 'VisitorType_New_Visitor',\n",
    " 'VisitorType_Other',\n",
    " 'VisitorType_Returning_Visitor',\n",
    " 'Weekend_True',\n",
    " 'OperatingSystems',\n",
    " 'Browser',\n",
    " 'Region',\n",
    " 'TrafficType']\n",
    "\n",
    "feature_names = columns"
   ]
  },
  {
   "cell_type": "code",
   "execution_count": 5,
   "id": "norwegian-google",
   "metadata": {},
   "outputs": [],
   "source": [
    "X_train = pd.DataFrame(X_train, columns=feature_names)\n",
    "X_test = pd.DataFrame(X_test, columns=feature_names)"
   ]
  },
  {
   "cell_type": "markdown",
   "id": "complex-hazard",
   "metadata": {},
   "source": [
    "## Tuning Hyperparameters"
   ]
  },
  {
   "cell_type": "code",
   "execution_count": 6,
   "id": "announced-applicant",
   "metadata": {},
   "outputs": [],
   "source": [
    "model = LogisticRegression()"
   ]
  },
  {
   "cell_type": "code",
   "execution_count": 7,
   "id": "diagnostic-genome",
   "metadata": {},
   "outputs": [],
   "source": [
    "def get_best_params(model,param_dist,X,y):\n",
    "    model_rand = RandomizedSearchCV(estimator=model, param_distributions=param_dist, n_iter=100, cv=3, verbose=2, random_state=0, n_jobs=-1)\n",
    "    model_rand.fit(X,y)\n",
    "    best_params = model_rand.best_params_\n",
    "    return best_params"
   ]
  },
  {
   "cell_type": "code",
   "execution_count": 8,
   "id": "maritime-public",
   "metadata": {},
   "outputs": [
    {
     "name": "stdout",
     "output_type": "stream",
     "text": [
      "Fitting 3 folds for each of 4 candidates, totalling 12 fits\n"
     ]
    },
    {
     "name": "stderr",
     "output_type": "stream",
     "text": [
      "/Users/erinszeto/anaconda3/lib/python3.8/site-packages/sklearn/model_selection/_search.py:285: UserWarning: The total space of parameters 4 is smaller than n_iter=100. Running 4 iterations. For exhaustive searches, use GridSearchCV.\n",
      "  warnings.warn(\n"
     ]
    }
   ],
   "source": [
    "param_dist = {\n",
    "    'penalty': ['none'],\n",
    "    # 'C': np.logspace(-4, 4, 20),\n",
    "    'solver': ['newton-cg', 'lbfgs', 'sag', 'saga']\n",
    "}\n",
    "\n",
    "best_params = get_best_params(model,param_dist,X_train,y_train)"
   ]
  },
  {
   "cell_type": "code",
   "execution_count": 9,
   "id": "inside-monte",
   "metadata": {},
   "outputs": [
    {
     "name": "stdout",
     "output_type": "stream",
     "text": [
      "{'solver': 'newton-cg', 'penalty': 'none'}\n"
     ]
    }
   ],
   "source": [
    "print(best_params)"
   ]
  },
  {
   "cell_type": "markdown",
   "id": "departmental-geneva",
   "metadata": {},
   "source": [
    "## Fitting the Model"
   ]
  },
  {
   "cell_type": "code",
   "execution_count": 10,
   "id": "french-brazilian",
   "metadata": {
    "scrolled": true
   },
   "outputs": [
    {
     "data": {
      "text/plain": [
       "LogisticRegression(penalty='none', solver='newton-cg')"
      ]
     },
     "execution_count": 10,
     "metadata": {},
     "output_type": "execute_result"
    }
   ],
   "source": [
    "model_best = LogisticRegression(**best_params)\n",
    "model_best.fit(X_train,y_train)  # fit the model to the training data"
   ]
  },
  {
   "cell_type": "code",
   "execution_count": 11,
   "id": "underlying-entertainment",
   "metadata": {},
   "outputs": [],
   "source": [
    "def cross_validate_scores(model,X,y,scoring=['accuracy','precision','f1','roc_auc'],cv=5):\n",
    "    cv_results = cross_validate(model,X,y,scoring=scoring,cv=cv)\n",
    "    print(\"%s\\n-------------------\" % str(model))\n",
    "    for metric in cv_results:\n",
    "        print(\"%s: %f\" % (metric, np.mean(cv_results[metric])))"
   ]
  },
  {
   "cell_type": "code",
   "execution_count": 13,
   "id": "curious-criticism",
   "metadata": {},
   "outputs": [
    {
     "name": "stdout",
     "output_type": "stream",
     "text": [
      "LogisticRegression(penalty='none', solver='newton-cg')\n",
      "-------------------\n",
      "fit_time: 1.587415\n",
      "score_time: 0.022830\n",
      "test_accuracy: 0.851349\n",
      "test_precision: 0.866965\n",
      "test_f1: 0.845907\n",
      "test_roc_auc: 0.925838\n"
     ]
    }
   ],
   "source": [
    "cross_validate_scores(model_best, X_train, y_train)"
   ]
  },
  {
   "cell_type": "code",
   "execution_count": 14,
   "id": "excellent-circular",
   "metadata": {},
   "outputs": [
    {
     "name": "stdout",
     "output_type": "stream",
     "text": [
      "0.8513\n"
     ]
    }
   ],
   "source": [
    "score = cross_val_score(model_best, X_train, y_train)\n",
    "print(np.round(score.mean(), 4))"
   ]
  },
  {
   "cell_type": "code",
   "execution_count": 15,
   "id": "armed-adaptation",
   "metadata": {},
   "outputs": [],
   "source": [
    "def get_performance(model,X,y):\n",
    "    y_pred = model.predict(X)\n",
    "    target_names = ['0: No Revenue', '1: Revenue']\n",
    "    report = classification_report(y, y_pred, target_names=target_names)\n",
    "    \n",
    "    report_file = classification_report(y, y_pred, target_names=target_names, output_dict=True)\n",
    "    \n",
    "    print(report_file)\n",
    "    print('\\n')\n",
    "    \n",
    "    report_file = pd.DataFrame(report_file).transpose()\n",
    "    report_file.to_csv(f\"{str(model)}_report1.csv\",index=False)\n",
    "    \n",
    "    print(report)\n",
    "    print(\"Confusion Matrix:\\n\",confusion_matrix(y,y_pred))\n",
    "    print(\"Accuracy: \",accuracy_score(y,y_pred))\n",
    "    print(\"ROC-AUC: \",roc_auc_score(y,model.predict_proba(X)[:,1]))"
   ]
  },
  {
   "cell_type": "code",
   "execution_count": 16,
   "id": "maritime-means",
   "metadata": {},
   "outputs": [
    {
     "name": "stdout",
     "output_type": "stream",
     "text": [
      "{'0: No Revenue': {'precision': 0.9376558603491272, 'recall': 0.8754365541327125, 'f1-score': 0.905478627332932, 'support': 3436}, '1: Revenue': {'precision': 0.502903600464576, 'recall': 0.684044233807267, 'f1-score': 0.5796519410977242, 'support': 633}, 'accuracy': 0.8456623248955517, 'macro avg': {'precision': 0.7202797304068516, 'recall': 0.7797403939699897, 'f1-score': 0.7425652842153281, 'support': 4069}, 'weighted avg': {'precision': 0.8700229823675787, 'recall': 0.8456623248955517, 'f1-score': 0.854790917235393, 'support': 4069}}\n",
      "\n",
      "\n",
      "               precision    recall  f1-score   support\n",
      "\n",
      "0: No Revenue       0.94      0.88      0.91      3436\n",
      "   1: Revenue       0.50      0.68      0.58       633\n",
      "\n",
      "     accuracy                           0.85      4069\n",
      "    macro avg       0.72      0.78      0.74      4069\n",
      " weighted avg       0.87      0.85      0.85      4069\n",
      "\n",
      "Confusion Matrix:\n",
      " [[3008  428]\n",
      " [ 200  433]]\n",
      "Accuracy:  0.8456623248955517\n",
      "ROC-AUC:  0.8716365331670796\n"
     ]
    }
   ],
   "source": [
    "get_performance(model_best,X_test,y_test)"
   ]
  },
  {
   "cell_type": "markdown",
   "id": "portable-money",
   "metadata": {},
   "source": [
    "## Feature Engineering"
   ]
  },
  {
   "cell_type": "code",
   "execution_count": 17,
   "id": "irish-helping",
   "metadata": {},
   "outputs": [
    {
     "name": "stdout",
     "output_type": "stream",
     "text": [
      "Fitting 3 folds for each of 4 candidates, totalling 12 fits\n"
     ]
    },
    {
     "name": "stderr",
     "output_type": "stream",
     "text": [
      "/Users/erinszeto/anaconda3/lib/python3.8/site-packages/sklearn/model_selection/_search.py:285: UserWarning: The total space of parameters 4 is smaller than n_iter=100. Running 4 iterations. For exhaustive searches, use GridSearchCV.\n",
      "  warnings.warn(\n"
     ]
    },
    {
     "name": "stdout",
     "output_type": "stream",
     "text": [
      "{'solver': 'newton-cg', 'penalty': 'none'}\n"
     ]
    },
    {
     "data": {
      "text/plain": [
       "LogisticRegression(penalty='none', solver='newton-cg')"
      ]
     },
     "execution_count": 17,
     "metadata": {},
     "output_type": "execute_result"
    }
   ],
   "source": [
    "best_params = get_best_params(model,param_dist,X_train2,y_train)\n",
    "print(best_params)\n",
    "\n",
    "model2 = LogisticRegression(**best_params)\n",
    "model2.fit(X_train2,y_train)  # fit the model to the training data"
   ]
  },
  {
   "cell_type": "code",
   "execution_count": 18,
   "id": "instant-photography",
   "metadata": {},
   "outputs": [
    {
     "name": "stdout",
     "output_type": "stream",
     "text": [
      "0.8797\n"
     ]
    }
   ],
   "source": [
    "score = cross_val_score(model2, X_train2, y_train)\n",
    "print(np.round(score.mean(), 4))"
   ]
  },
  {
   "cell_type": "code",
   "execution_count": 19,
   "id": "overhead-burlington",
   "metadata": {},
   "outputs": [
    {
     "name": "stdout",
     "output_type": "stream",
     "text": [
      "{'0: No Revenue': {'precision': 0.9473846153846154, 'recall': 0.8961001164144354, 'f1-score': 0.9210290158540234, 'support': 3436}, '1: Revenue': {'precision': 0.5641025641025641, 'recall': 0.7298578199052133, 'f1-score': 0.6363636363636364, 'support': 633}, 'accuracy': 0.8702383878102727, 'macro avg': {'precision': 0.7557435897435898, 'recall': 0.8129789681598243, 'f1-score': 0.7786963261088299, 'support': 4069}, 'weighted avg': {'precision': 0.8877587764901601, 'recall': 0.8702383878102727, 'f1-score': 0.8767446252869516, 'support': 4069}}\n",
      "\n",
      "\n",
      "               precision    recall  f1-score   support\n",
      "\n",
      "0: No Revenue       0.95      0.90      0.92      3436\n",
      "   1: Revenue       0.56      0.73      0.64       633\n",
      "\n",
      "     accuracy                           0.87      4069\n",
      "    macro avg       0.76      0.81      0.78      4069\n",
      " weighted avg       0.89      0.87      0.88      4069\n",
      "\n",
      "Confusion Matrix:\n",
      " [[3079  357]\n",
      " [ 171  462]]\n",
      "Accuracy:  0.8702383878102727\n",
      "ROC-AUC:  0.9018265847903527\n"
     ]
    }
   ],
   "source": [
    "get_performance(model2,X_test2,y_test)"
   ]
  },
  {
   "cell_type": "markdown",
   "id": "worst-cursor",
   "metadata": {},
   "source": [
    "## Feature Selection and Feature Engineering"
   ]
  },
  {
   "cell_type": "code",
   "execution_count": 21,
   "id": "sized-exclusive",
   "metadata": {},
   "outputs": [],
   "source": [
    "with open('X_alt_train.npy', 'rb') as f:\n",
    "     X_alt_train = np.load(f)\n",
    "with open('X_alt_test.npy', 'rb') as f:\n",
    "     X_alt_test = np.load(f)"
   ]
  },
  {
   "cell_type": "code",
   "execution_count": 22,
   "id": "further-complex",
   "metadata": {},
   "outputs": [],
   "source": [
    "to_keep = [10, 17, 11, 22, 1, 9, 27, 3, 13, 2, 0, 4, 21, 6, 5, 24, 23, 19, 25, 20]\n",
    "\n",
    "def get_X(to_keep,X_train,X_test,X_alt_train,X_alt_test):\n",
    "    X_train_ss = X_train.iloc[:,to_keep]\n",
    "    X_test_ss = X_test.iloc[:,to_keep]\n",
    "    \n",
    "    X_train3 = np.hstack((X_train_ss.to_numpy(),X_alt_train))\n",
    "    X_test3 = np.hstack((X_test_ss.to_numpy(),X_alt_test))\n",
    "    \n",
    "    return X_train3, X_test3"
   ]
  },
  {
   "cell_type": "code",
   "execution_count": 24,
   "id": "juvenile-directory",
   "metadata": {},
   "outputs": [],
   "source": [
    "X_train3,X_test3 = get_X(to_keep,X_train,X_test,X_alt_train,X_alt_test)\n",
    "\n",
    "np.save(\"X_trainLR.npy\",X_train3)\n",
    "np.save(\"X_testLR.npy\",X_test3)"
   ]
  },
  {
   "cell_type": "code",
   "execution_count": 25,
   "id": "expanded-oracle",
   "metadata": {},
   "outputs": [
    {
     "name": "stdout",
     "output_type": "stream",
     "text": [
      "Fitting 3 folds for each of 4 candidates, totalling 12 fits\n"
     ]
    },
    {
     "name": "stderr",
     "output_type": "stream",
     "text": [
      "/Users/erinszeto/anaconda3/lib/python3.8/site-packages/sklearn/model_selection/_search.py:285: UserWarning: The total space of parameters 4 is smaller than n_iter=100. Running 4 iterations. For exhaustive searches, use GridSearchCV.\n",
      "  warnings.warn(\n",
      "/Users/erinszeto/anaconda3/lib/python3.8/site-packages/sklearn/linear_model/_sag.py:328: ConvergenceWarning: The max_iter was reached which means the coef_ did not converge\n",
      "  warnings.warn(\"The max_iter was reached which means \"\n"
     ]
    },
    {
     "name": "stdout",
     "output_type": "stream",
     "text": [
      "{'solver': 'sag', 'penalty': 'none'}\n"
     ]
    },
    {
     "name": "stderr",
     "output_type": "stream",
     "text": [
      "/Users/erinszeto/anaconda3/lib/python3.8/site-packages/sklearn/linear_model/_sag.py:328: ConvergenceWarning: The max_iter was reached which means the coef_ did not converge\n",
      "  warnings.warn(\"The max_iter was reached which means \"\n"
     ]
    },
    {
     "data": {
      "text/plain": [
       "LogisticRegression(penalty='none', solver='sag')"
      ]
     },
     "execution_count": 25,
     "metadata": {},
     "output_type": "execute_result"
    }
   ],
   "source": [
    "best_params = get_best_params(model,param_dist,X_train3,y_train)\n",
    "print(best_params)\n",
    "\n",
    "model3 = LogisticRegression(**best_params)\n",
    "model3.fit(X_train3,y_train)  # fit the model to the training data"
   ]
  },
  {
   "cell_type": "code",
   "execution_count": 26,
   "id": "contained-england",
   "metadata": {},
   "outputs": [
    {
     "name": "stderr",
     "output_type": "stream",
     "text": [
      "/Users/erinszeto/anaconda3/lib/python3.8/site-packages/sklearn/linear_model/_sag.py:328: ConvergenceWarning: The max_iter was reached which means the coef_ did not converge\n",
      "  warnings.warn(\"The max_iter was reached which means \"\n",
      "/Users/erinszeto/anaconda3/lib/python3.8/site-packages/sklearn/linear_model/_sag.py:328: ConvergenceWarning: The max_iter was reached which means the coef_ did not converge\n",
      "  warnings.warn(\"The max_iter was reached which means \"\n",
      "/Users/erinszeto/anaconda3/lib/python3.8/site-packages/sklearn/linear_model/_sag.py:328: ConvergenceWarning: The max_iter was reached which means the coef_ did not converge\n",
      "  warnings.warn(\"The max_iter was reached which means \"\n",
      "/Users/erinszeto/anaconda3/lib/python3.8/site-packages/sklearn/linear_model/_sag.py:328: ConvergenceWarning: The max_iter was reached which means the coef_ did not converge\n",
      "  warnings.warn(\"The max_iter was reached which means \"\n"
     ]
    },
    {
     "name": "stdout",
     "output_type": "stream",
     "text": [
      "0.8735\n"
     ]
    },
    {
     "name": "stderr",
     "output_type": "stream",
     "text": [
      "/Users/erinszeto/anaconda3/lib/python3.8/site-packages/sklearn/linear_model/_sag.py:328: ConvergenceWarning: The max_iter was reached which means the coef_ did not converge\n",
      "  warnings.warn(\"The max_iter was reached which means \"\n"
     ]
    }
   ],
   "source": [
    "score = cross_val_score(model3, X_train3, y_train)\n",
    "print(np.round(score.mean(), 4))"
   ]
  },
  {
   "cell_type": "code",
   "execution_count": 27,
   "id": "brown-account",
   "metadata": {},
   "outputs": [
    {
     "name": "stdout",
     "output_type": "stream",
     "text": [
      "{'0: No Revenue': {'precision': 0.9568664763717095, 'recall': 0.8780558789289872, 'f1-score': 0.9157687054181212, 'support': 3436}, '1: Revenue': {'precision': 0.5425764192139738, 'recall': 0.7851500789889415, 'f1-score': 0.6417043253712073, 'support': 633}, 'accuracy': 0.8636028508232981, 'macro avg': {'precision': 0.7497214477928417, 'recall': 0.8316029789589643, 'f1-score': 0.7787365153946642, 'support': 4069}, 'weighted avg': {'precision': 0.8924168312056129, 'recall': 0.8636028508232981, 'f1-score': 0.8731334750004027, 'support': 4069}}\n",
      "\n",
      "\n",
      "               precision    recall  f1-score   support\n",
      "\n",
      "0: No Revenue       0.96      0.88      0.92      3436\n",
      "   1: Revenue       0.54      0.79      0.64       633\n",
      "\n",
      "     accuracy                           0.86      4069\n",
      "    macro avg       0.75      0.83      0.78      4069\n",
      " weighted avg       0.89      0.86      0.87      4069\n",
      "\n",
      "Confusion Matrix:\n",
      " [[3017  419]\n",
      " [ 136  497]]\n",
      "Accuracy:  0.8636028508232981\n",
      "ROC-AUC:  0.8994720890414107\n"
     ]
    }
   ],
   "source": [
    "get_performance(model3,X_test3,y_test)"
   ]
  },
  {
   "cell_type": "code",
   "execution_count": null,
   "id": "matched-brass",
   "metadata": {},
   "outputs": [],
   "source": []
  }
 ],
 "metadata": {
  "kernelspec": {
   "display_name": "Python 3",
   "language": "python",
   "name": "python3"
  },
  "language_info": {
   "codemirror_mode": {
    "name": "ipython",
    "version": 3
   },
   "file_extension": ".py",
   "mimetype": "text/x-python",
   "name": "python",
   "nbconvert_exporter": "python",
   "pygments_lexer": "ipython3",
   "version": "3.8.6"
  }
 },
 "nbformat": 4,
 "nbformat_minor": 5
}
